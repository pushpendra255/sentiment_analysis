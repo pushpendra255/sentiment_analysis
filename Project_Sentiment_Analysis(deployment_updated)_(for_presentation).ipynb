{
 "cells": [
  {
   "cell_type": "markdown",
   "id": "1-w-9L93dHGh",
   "metadata": {
    "id": "1-w-9L93dHGh"
   },
   "source": [
    "# **Business Objective** :  Extracting sentiment from customer reviews on a product"
   ]
  },
  {
   "cell_type": "markdown",
   "id": "5fbb4d9a",
   "metadata": {
    "id": "5fbb4d9a"
   },
   "source": [
    "# Import Libraries"
   ]
  },
  {
   "cell_type": "code",
   "execution_count": 7,
   "id": "ngUI6Z7yhrrp",
   "metadata": {
    "colab": {
     "base_uri": "https://localhost:8080/"
    },
    "id": "ngUI6Z7yhrrp",
    "outputId": "a0bba087-9384-4051-9ddb-ee26f8e10cec"
   },
   "outputs": [
    {
     "name": "stdout",
     "output_type": "stream",
     "text": [
      "Requirement already satisfied: nltk in c:\\users\\admin\\anaconda3\\lib\\site-packages (3.8.1)\n",
      "Requirement already satisfied: click in c:\\users\\admin\\anaconda3\\lib\\site-packages (from nltk) (8.1.7)\n",
      "Requirement already satisfied: joblib in c:\\users\\admin\\anaconda3\\lib\\site-packages (from nltk) (1.2.0)\n",
      "Requirement already satisfied: regex>=2021.8.3 in c:\\users\\admin\\anaconda3\\lib\\site-packages (from nltk) (2023.10.3)\n",
      "Requirement already satisfied: tqdm in c:\\users\\admin\\anaconda3\\lib\\site-packages (from nltk) (4.65.0)\n",
      "Requirement already satisfied: colorama in c:\\users\\admin\\anaconda3\\lib\\site-packages (from click->nltk) (0.4.6)\n"
     ]
    }
   ],
   "source": [
    "!pip install nltk\n"
   ]
  },
  {
   "cell_type": "code",
   "execution_count": 8,
   "id": "564e04ee",
   "metadata": {
    "colab": {
     "base_uri": "https://localhost:8080/"
    },
    "id": "564e04ee",
    "outputId": "f6d3ee58-5ffe-43a0-973b-ddadc0ec22f8",
    "scrolled": true
   },
   "outputs": [
    {
     "name": "stderr",
     "output_type": "stream",
     "text": [
      "[nltk_data] Downloading package punkt to\n",
      "[nltk_data]     C:\\Users\\Admin\\AppData\\Roaming\\nltk_data...\n",
      "[nltk_data]   Package punkt is already up-to-date!\n",
      "[nltk_data] Downloading package stopwords to\n",
      "[nltk_data]     C:\\Users\\Admin\\AppData\\Roaming\\nltk_data...\n",
      "[nltk_data]   Package stopwords is already up-to-date!\n"
     ]
    }
   ],
   "source": [
    "import numpy as np\n",
    "import pandas as pd\n",
    "import matplotlib.pyplot as plt\n",
    "import seaborn as sns\n",
    "\n",
    "from wordcloud import WordCloud\n",
    "import re\n",
    "import nltk\n",
    "nltk.download('punkt')\n",
    "from nltk import punkt\n",
    "nltk.download('stopwords')\n",
    "from nltk.corpus import stopwords\n",
    "from nltk.tokenize import word_tokenize\n",
    "from nltk.sentiment.vader import SentimentIntensityAnalyzer\n",
    "from collections import Counter\n",
    "from textblob import TextBlob\n",
    "\n",
    "\n",
    "from sklearn.model_selection import train_test_split\n",
    "from sklearn.preprocessing import MinMaxScaler\n",
    "from sklearn.feature_extraction.text import TfidfVectorizer\n",
    "from sklearn.metrics import classification_report, accuracy_score\n",
    "from sklearn.svm import SVC\n",
    "from sklearn.ensemble import RandomForestClassifier\n",
    "from sklearn.naive_bayes import MultinomialNB\n",
    "from sklearn.neighbors import KNeighborsClassifier\n",
    "#from xgboost import XGBClassifier\n",
    "\n",
    "import warnings\n",
    "warnings.filterwarnings('ignore')"
   ]
  },
  {
   "cell_type": "markdown",
   "id": "6f52384d",
   "metadata": {
    "id": "6f52384d"
   },
   "source": [
    "# Import Data"
   ]
  },
  {
   "cell_type": "code",
   "execution_count": 9,
   "id": "23f424c6",
   "metadata": {
    "colab": {
     "base_uri": "https://localhost:8080/",
     "height": 293
    },
    "id": "23f424c6",
    "outputId": "563f9f60-7078-4ca0-d089-24af1ca4e7d1",
    "scrolled": true
   },
   "outputs": [
    {
     "data": {
      "text/html": [
       "<div>\n",
       "<style scoped>\n",
       "    .dataframe tbody tr th:only-of-type {\n",
       "        vertical-align: middle;\n",
       "    }\n",
       "\n",
       "    .dataframe tbody tr th {\n",
       "        vertical-align: top;\n",
       "    }\n",
       "\n",
       "    .dataframe thead th {\n",
       "        text-align: right;\n",
       "    }\n",
       "</style>\n",
       "<table border=\"1\" class=\"dataframe\">\n",
       "  <thead>\n",
       "    <tr style=\"text-align: right;\">\n",
       "      <th></th>\n",
       "      <th>headline</th>\n",
       "      <th>reviewBody</th>\n",
       "      <th>ratingValue</th>\n",
       "    </tr>\n",
       "  </thead>\n",
       "  <tbody>\n",
       "    <tr>\n",
       "      <th>0</th>\n",
       "      <td>Super light and efficient laptop</td>\n",
       "      <td>Super light and efficient laptop.  Crisp &amp; cle...</td>\n",
       "      <td>5.0</td>\n",
       "    </tr>\n",
       "    <tr>\n",
       "      <th>1</th>\n",
       "      <td>NEW laptop is great</td>\n",
       "      <td>so far I am loving the new look and the feel o...</td>\n",
       "      <td>5.0</td>\n",
       "    </tr>\n",
       "    <tr>\n",
       "      <th>2</th>\n",
       "      <td>Lightweight powerhouse.</td>\n",
       "      <td>Great build quality \\ excellent screen \\ very ...</td>\n",
       "      <td>5.0</td>\n",
       "    </tr>\n",
       "    <tr>\n",
       "      <th>3</th>\n",
       "      <td>Great Laptop for Work</td>\n",
       "      <td>Excellent laptop for work. Processor was able ...</td>\n",
       "      <td>5.0</td>\n",
       "    </tr>\n",
       "    <tr>\n",
       "      <th>4</th>\n",
       "      <td>Practical Solid Laptop</td>\n",
       "      <td>So far so good, I like it has an HDMI, USB-C &amp;...</td>\n",
       "      <td>5.0</td>\n",
       "    </tr>\n",
       "  </tbody>\n",
       "</table>\n",
       "</div>"
      ],
      "text/plain": [
       "                           headline  \\\n",
       "0  Super light and efficient laptop   \n",
       "1               NEW laptop is great   \n",
       "2           Lightweight powerhouse.   \n",
       "3             Great Laptop for Work   \n",
       "4            Practical Solid Laptop   \n",
       "\n",
       "                                          reviewBody  ratingValue  \n",
       "0  Super light and efficient laptop.  Crisp & cle...          5.0  \n",
       "1  so far I am loving the new look and the feel o...          5.0  \n",
       "2  Great build quality \\ excellent screen \\ very ...          5.0  \n",
       "3  Excellent laptop for work. Processor was able ...          5.0  \n",
       "4  So far so good, I like it has an HDMI, USB-C &...          5.0  "
      ]
     },
     "execution_count": 9,
     "metadata": {},
     "output_type": "execute_result"
    }
   ],
   "source": [
    "reviews_df = pd.read_csv('reviews.csv')\n",
    "\n",
    "reviews_df.head()"
   ]
  },
  {
   "cell_type": "markdown",
   "id": "142f4447",
   "metadata": {
    "id": "142f4447"
   },
   "source": [
    "# Data Exploration"
   ]
  },
  {
   "cell_type": "code",
   "execution_count": 10,
   "id": "ae7bc5ac",
   "metadata": {
    "colab": {
     "base_uri": "https://localhost:8080/"
    },
    "id": "ae7bc5ac",
    "outputId": "e285544d-0a1e-474a-8233-d1b6a9b90ddf"
   },
   "outputs": [
    {
     "name": "stdout",
     "output_type": "stream",
     "text": [
      "Dataset/DataFrame Shape : (325, 3)\n"
     ]
    }
   ],
   "source": [
    "print(f\"Dataset/DataFrame Shape : {reviews_df.shape}\")"
   ]
  },
  {
   "cell_type": "code",
   "execution_count": 11,
   "id": "_R0oFOCGtBeZ",
   "metadata": {
    "colab": {
     "base_uri": "https://localhost:8080/"
    },
    "id": "_R0oFOCGtBeZ",
    "outputId": "a953ecee-3561-423b-88aa-1961c767e753"
   },
   "outputs": [
    {
     "name": "stdout",
     "output_type": "stream",
     "text": [
      "feature names : ['headline' 'reviewBody' 'ratingValue']\n"
     ]
    }
   ],
   "source": [
    "print(f\"feature names : {reviews_df.columns.values}\")"
   ]
  },
  {
   "cell_type": "code",
   "execution_count": 12,
   "id": "9b7936e1",
   "metadata": {
    "colab": {
     "base_uri": "https://localhost:8080/"
    },
    "id": "9b7936e1",
    "outputId": "64f67ee2-24eb-49dc-9fa7-a5eded395a72",
    "scrolled": true
   },
   "outputs": [
    {
     "name": "stdout",
     "output_type": "stream",
     "text": [
      "<class 'pandas.core.frame.DataFrame'>\n",
      "RangeIndex: 325 entries, 0 to 324\n",
      "Data columns (total 3 columns):\n",
      " #   Column       Non-Null Count  Dtype  \n",
      "---  ------       --------------  -----  \n",
      " 0   headline     325 non-null    object \n",
      " 1   reviewBody   325 non-null    object \n",
      " 2   ratingValue  319 non-null    float64\n",
      "dtypes: float64(1), object(2)\n",
      "memory usage: 7.7+ KB\n"
     ]
    }
   ],
   "source": [
    "reviews_df.info()"
   ]
  },
  {
   "cell_type": "code",
   "execution_count": 13,
   "id": "3de80e9f",
   "metadata": {
    "colab": {
     "base_uri": "https://localhost:8080/",
     "height": 300
    },
    "id": "3de80e9f",
    "outputId": "4af45705-f728-44ed-b41d-1a2dbe36ecc5"
   },
   "outputs": [
    {
     "data": {
      "text/html": [
       "<div>\n",
       "<style scoped>\n",
       "    .dataframe tbody tr th:only-of-type {\n",
       "        vertical-align: middle;\n",
       "    }\n",
       "\n",
       "    .dataframe tbody tr th {\n",
       "        vertical-align: top;\n",
       "    }\n",
       "\n",
       "    .dataframe thead th {\n",
       "        text-align: right;\n",
       "    }\n",
       "</style>\n",
       "<table border=\"1\" class=\"dataframe\">\n",
       "  <thead>\n",
       "    <tr style=\"text-align: right;\">\n",
       "      <th></th>\n",
       "      <th>ratingValue</th>\n",
       "    </tr>\n",
       "  </thead>\n",
       "  <tbody>\n",
       "    <tr>\n",
       "      <th>count</th>\n",
       "      <td>319.00000</td>\n",
       "    </tr>\n",
       "    <tr>\n",
       "      <th>mean</th>\n",
       "      <td>4.37931</td>\n",
       "    </tr>\n",
       "    <tr>\n",
       "      <th>std</th>\n",
       "      <td>1.08608</td>\n",
       "    </tr>\n",
       "    <tr>\n",
       "      <th>min</th>\n",
       "      <td>1.00000</td>\n",
       "    </tr>\n",
       "    <tr>\n",
       "      <th>25%</th>\n",
       "      <td>4.00000</td>\n",
       "    </tr>\n",
       "    <tr>\n",
       "      <th>50%</th>\n",
       "      <td>5.00000</td>\n",
       "    </tr>\n",
       "    <tr>\n",
       "      <th>75%</th>\n",
       "      <td>5.00000</td>\n",
       "    </tr>\n",
       "    <tr>\n",
       "      <th>max</th>\n",
       "      <td>5.00000</td>\n",
       "    </tr>\n",
       "  </tbody>\n",
       "</table>\n",
       "</div>"
      ],
      "text/plain": [
       "       ratingValue\n",
       "count    319.00000\n",
       "mean       4.37931\n",
       "std        1.08608\n",
       "min        1.00000\n",
       "25%        4.00000\n",
       "50%        5.00000\n",
       "75%        5.00000\n",
       "max        5.00000"
      ]
     },
     "execution_count": 13,
     "metadata": {},
     "output_type": "execute_result"
    }
   ],
   "source": [
    "reviews_df.describe()"
   ]
  },
  {
   "cell_type": "code",
   "execution_count": 14,
   "id": "67ed3f89",
   "metadata": {
    "colab": {
     "base_uri": "https://localhost:8080/"
    },
    "id": "67ed3f89",
    "outputId": "42e65a45-3f4e-4a66-9048-16707d7937ce",
    "scrolled": true
   },
   "outputs": [
    {
     "data": {
      "text/plain": [
       "headline       0\n",
       "reviewBody     0\n",
       "ratingValue    6\n",
       "dtype: int64"
      ]
     },
     "execution_count": 14,
     "metadata": {},
     "output_type": "execute_result"
    }
   ],
   "source": [
    "reviews_df.isnull().sum()"
   ]
  },
  {
   "cell_type": "code",
   "execution_count": 15,
   "id": "d5p5shlIIy2x",
   "metadata": {
    "colab": {
     "base_uri": "https://localhost:8080/",
     "height": 341
    },
    "id": "d5p5shlIIy2x",
    "outputId": "0912fdbe-a6b4-4a5c-8aed-388fe5dadd12"
   },
   "outputs": [
    {
     "data": {
      "text/html": [
       "<div>\n",
       "<style scoped>\n",
       "    .dataframe tbody tr th:only-of-type {\n",
       "        vertical-align: middle;\n",
       "    }\n",
       "\n",
       "    .dataframe tbody tr th {\n",
       "        vertical-align: top;\n",
       "    }\n",
       "\n",
       "    .dataframe thead th {\n",
       "        text-align: right;\n",
       "    }\n",
       "</style>\n",
       "<table border=\"1\" class=\"dataframe\">\n",
       "  <thead>\n",
       "    <tr style=\"text-align: right;\">\n",
       "      <th></th>\n",
       "      <th>headline</th>\n",
       "      <th>reviewBody</th>\n",
       "      <th>ratingValue</th>\n",
       "    </tr>\n",
       "  </thead>\n",
       "  <tbody>\n",
       "    <tr>\n",
       "      <th>319</th>\n",
       "      <td>Dell Latitude 7440 Ultralight Review: A solid ...</td>\n",
       "      <td>Dell's Latitude 7440 Ultralight 2-in-1 impress...</td>\n",
       "      <td>NaN</td>\n",
       "    </tr>\n",
       "    <tr>\n",
       "      <th>320</th>\n",
       "      <td>Dell Latitude 7440 Ultralight Review: A solid ...</td>\n",
       "      <td>Dell's Latitude 7440 Ultralight 2-in-1 impress...</td>\n",
       "      <td>NaN</td>\n",
       "    </tr>\n",
       "    <tr>\n",
       "      <th>321</th>\n",
       "      <td>Dell Latitude 7440 Ultralight Review: A solid ...</td>\n",
       "      <td>Dell's Latitude 7440 Ultralight 2-in-1 impress...</td>\n",
       "      <td>NaN</td>\n",
       "    </tr>\n",
       "    <tr>\n",
       "      <th>322</th>\n",
       "      <td>Dell Latitude 7440 Ultralight Review: A solid ...</td>\n",
       "      <td>Dell's Latitude 7440 Ultralight 2-in-1 impress...</td>\n",
       "      <td>NaN</td>\n",
       "    </tr>\n",
       "    <tr>\n",
       "      <th>323</th>\n",
       "      <td>Dell Latitude 7440 Ultralight Review: A solid ...</td>\n",
       "      <td>Dell's Latitude 7440 Ultralight 2-in-1 impress...</td>\n",
       "      <td>NaN</td>\n",
       "    </tr>\n",
       "    <tr>\n",
       "      <th>324</th>\n",
       "      <td>Dell Latitude 7440 Ultralight Review: A solid ...</td>\n",
       "      <td>Dell's Latitude 7440 Ultralight 2-in-1 impress...</td>\n",
       "      <td>NaN</td>\n",
       "    </tr>\n",
       "  </tbody>\n",
       "</table>\n",
       "</div>"
      ],
      "text/plain": [
       "                                              headline  \\\n",
       "319  Dell Latitude 7440 Ultralight Review: A solid ...   \n",
       "320  Dell Latitude 7440 Ultralight Review: A solid ...   \n",
       "321  Dell Latitude 7440 Ultralight Review: A solid ...   \n",
       "322  Dell Latitude 7440 Ultralight Review: A solid ...   \n",
       "323  Dell Latitude 7440 Ultralight Review: A solid ...   \n",
       "324  Dell Latitude 7440 Ultralight Review: A solid ...   \n",
       "\n",
       "                                            reviewBody  ratingValue  \n",
       "319  Dell's Latitude 7440 Ultralight 2-in-1 impress...          NaN  \n",
       "320  Dell's Latitude 7440 Ultralight 2-in-1 impress...          NaN  \n",
       "321  Dell's Latitude 7440 Ultralight 2-in-1 impress...          NaN  \n",
       "322  Dell's Latitude 7440 Ultralight 2-in-1 impress...          NaN  \n",
       "323  Dell's Latitude 7440 Ultralight 2-in-1 impress...          NaN  \n",
       "324  Dell's Latitude 7440 Ultralight 2-in-1 impress...          NaN  "
      ]
     },
     "execution_count": 15,
     "metadata": {},
     "output_type": "execute_result"
    }
   ],
   "source": [
    "reviews_df[reviews_df['ratingValue'].isna() == True]"
   ]
  },
  {
   "cell_type": "code",
   "execution_count": 16,
   "id": "66349b2d",
   "metadata": {
    "colab": {
     "base_uri": "https://localhost:8080/",
     "height": 974
    },
    "id": "66349b2d",
    "outputId": "88188360-8e1b-4350-d599-8abcd76af7fe"
   },
   "outputs": [
    {
     "data": {
      "text/html": [
       "<div>\n",
       "<style scoped>\n",
       "    .dataframe tbody tr th:only-of-type {\n",
       "        vertical-align: middle;\n",
       "    }\n",
       "\n",
       "    .dataframe tbody tr th {\n",
       "        vertical-align: top;\n",
       "    }\n",
       "\n",
       "    .dataframe thead th {\n",
       "        text-align: right;\n",
       "    }\n",
       "</style>\n",
       "<table border=\"1\" class=\"dataframe\">\n",
       "  <thead>\n",
       "    <tr style=\"text-align: right;\">\n",
       "      <th></th>\n",
       "      <th>headline</th>\n",
       "      <th>reviewBody</th>\n",
       "      <th>ratingValue</th>\n",
       "    </tr>\n",
       "  </thead>\n",
       "  <tbody>\n",
       "    <tr>\n",
       "      <th>305</th>\n",
       "      <td>Great Device</td>\n",
       "      <td>Great device, the 32GB of RAM makes a big diff...</td>\n",
       "      <td>5.0</td>\n",
       "    </tr>\n",
       "    <tr>\n",
       "      <th>306</th>\n",
       "      <td>Great Laptop</td>\n",
       "      <td>Been a Dell user for over 20 years, and their ...</td>\n",
       "      <td>5.0</td>\n",
       "    </tr>\n",
       "    <tr>\n",
       "      <th>307</th>\n",
       "      <td>Great Device</td>\n",
       "      <td>Great device, the 32GB of RAM makes a big diff...</td>\n",
       "      <td>5.0</td>\n",
       "    </tr>\n",
       "    <tr>\n",
       "      <th>308</th>\n",
       "      <td>Great Laptop</td>\n",
       "      <td>Been a Dell user for over 20 years, and their ...</td>\n",
       "      <td>5.0</td>\n",
       "    </tr>\n",
       "    <tr>\n",
       "      <th>309</th>\n",
       "      <td>Great Device</td>\n",
       "      <td>Great device, the 32GB of RAM makes a big diff...</td>\n",
       "      <td>5.0</td>\n",
       "    </tr>\n",
       "    <tr>\n",
       "      <th>310</th>\n",
       "      <td>Great Laptop</td>\n",
       "      <td>Been a Dell user for over 20 years, and their ...</td>\n",
       "      <td>5.0</td>\n",
       "    </tr>\n",
       "    <tr>\n",
       "      <th>311</th>\n",
       "      <td>Great Device</td>\n",
       "      <td>Great device, the 32GB of RAM makes a big diff...</td>\n",
       "      <td>5.0</td>\n",
       "    </tr>\n",
       "    <tr>\n",
       "      <th>312</th>\n",
       "      <td>Great Laptop</td>\n",
       "      <td>Been a Dell user for over 20 years, and their ...</td>\n",
       "      <td>5.0</td>\n",
       "    </tr>\n",
       "    <tr>\n",
       "      <th>313</th>\n",
       "      <td>Great Device</td>\n",
       "      <td>Great device, the 32GB of RAM makes a big diff...</td>\n",
       "      <td>5.0</td>\n",
       "    </tr>\n",
       "    <tr>\n",
       "      <th>314</th>\n",
       "      <td>Great Laptop</td>\n",
       "      <td>Been a Dell user for over 20 years, and their ...</td>\n",
       "      <td>5.0</td>\n",
       "    </tr>\n",
       "    <tr>\n",
       "      <th>315</th>\n",
       "      <td>Great Device</td>\n",
       "      <td>Great device, the 32GB of RAM makes a big diff...</td>\n",
       "      <td>5.0</td>\n",
       "    </tr>\n",
       "    <tr>\n",
       "      <th>316</th>\n",
       "      <td>Great Laptop</td>\n",
       "      <td>Been a Dell user for over 20 years, and their ...</td>\n",
       "      <td>5.0</td>\n",
       "    </tr>\n",
       "    <tr>\n",
       "      <th>317</th>\n",
       "      <td>Great Device</td>\n",
       "      <td>Great device, the 32GB of RAM makes a big diff...</td>\n",
       "      <td>5.0</td>\n",
       "    </tr>\n",
       "    <tr>\n",
       "      <th>318</th>\n",
       "      <td>Great Laptop</td>\n",
       "      <td>Been a Dell user for over 20 years, and their ...</td>\n",
       "      <td>5.0</td>\n",
       "    </tr>\n",
       "    <tr>\n",
       "      <th>320</th>\n",
       "      <td>Dell Latitude 7440 Ultralight Review: A solid ...</td>\n",
       "      <td>Dell's Latitude 7440 Ultralight 2-in-1 impress...</td>\n",
       "      <td>NaN</td>\n",
       "    </tr>\n",
       "    <tr>\n",
       "      <th>321</th>\n",
       "      <td>Dell Latitude 7440 Ultralight Review: A solid ...</td>\n",
       "      <td>Dell's Latitude 7440 Ultralight 2-in-1 impress...</td>\n",
       "      <td>NaN</td>\n",
       "    </tr>\n",
       "    <tr>\n",
       "      <th>322</th>\n",
       "      <td>Dell Latitude 7440 Ultralight Review: A solid ...</td>\n",
       "      <td>Dell's Latitude 7440 Ultralight 2-in-1 impress...</td>\n",
       "      <td>NaN</td>\n",
       "    </tr>\n",
       "    <tr>\n",
       "      <th>323</th>\n",
       "      <td>Dell Latitude 7440 Ultralight Review: A solid ...</td>\n",
       "      <td>Dell's Latitude 7440 Ultralight 2-in-1 impress...</td>\n",
       "      <td>NaN</td>\n",
       "    </tr>\n",
       "    <tr>\n",
       "      <th>324</th>\n",
       "      <td>Dell Latitude 7440 Ultralight Review: A solid ...</td>\n",
       "      <td>Dell's Latitude 7440 Ultralight 2-in-1 impress...</td>\n",
       "      <td>NaN</td>\n",
       "    </tr>\n",
       "  </tbody>\n",
       "</table>\n",
       "</div>"
      ],
      "text/plain": [
       "                                              headline  \\\n",
       "305                                       Great Device   \n",
       "306                                       Great Laptop   \n",
       "307                                       Great Device   \n",
       "308                                       Great Laptop   \n",
       "309                                       Great Device   \n",
       "310                                       Great Laptop   \n",
       "311                                       Great Device   \n",
       "312                                       Great Laptop   \n",
       "313                                       Great Device   \n",
       "314                                       Great Laptop   \n",
       "315                                       Great Device   \n",
       "316                                       Great Laptop   \n",
       "317                                       Great Device   \n",
       "318                                       Great Laptop   \n",
       "320  Dell Latitude 7440 Ultralight Review: A solid ...   \n",
       "321  Dell Latitude 7440 Ultralight Review: A solid ...   \n",
       "322  Dell Latitude 7440 Ultralight Review: A solid ...   \n",
       "323  Dell Latitude 7440 Ultralight Review: A solid ...   \n",
       "324  Dell Latitude 7440 Ultralight Review: A solid ...   \n",
       "\n",
       "                                            reviewBody  ratingValue  \n",
       "305  Great device, the 32GB of RAM makes a big diff...          5.0  \n",
       "306  Been a Dell user for over 20 years, and their ...          5.0  \n",
       "307  Great device, the 32GB of RAM makes a big diff...          5.0  \n",
       "308  Been a Dell user for over 20 years, and their ...          5.0  \n",
       "309  Great device, the 32GB of RAM makes a big diff...          5.0  \n",
       "310  Been a Dell user for over 20 years, and their ...          5.0  \n",
       "311  Great device, the 32GB of RAM makes a big diff...          5.0  \n",
       "312  Been a Dell user for over 20 years, and their ...          5.0  \n",
       "313  Great device, the 32GB of RAM makes a big diff...          5.0  \n",
       "314  Been a Dell user for over 20 years, and their ...          5.0  \n",
       "315  Great device, the 32GB of RAM makes a big diff...          5.0  \n",
       "316  Been a Dell user for over 20 years, and their ...          5.0  \n",
       "317  Great device, the 32GB of RAM makes a big diff...          5.0  \n",
       "318  Been a Dell user for over 20 years, and their ...          5.0  \n",
       "320  Dell's Latitude 7440 Ultralight 2-in-1 impress...          NaN  \n",
       "321  Dell's Latitude 7440 Ultralight 2-in-1 impress...          NaN  \n",
       "322  Dell's Latitude 7440 Ultralight 2-in-1 impress...          NaN  \n",
       "323  Dell's Latitude 7440 Ultralight 2-in-1 impress...          NaN  \n",
       "324  Dell's Latitude 7440 Ultralight 2-in-1 impress...          NaN  "
      ]
     },
     "execution_count": 16,
     "metadata": {},
     "output_type": "execute_result"
    }
   ],
   "source": [
    "reviews_df[reviews_df.duplicated()]"
   ]
  },
  {
   "cell_type": "markdown",
   "id": "fc2109f1",
   "metadata": {
    "id": "fc2109f1"
   },
   "source": [
    "# Data Cleaning"
   ]
  },
  {
   "cell_type": "code",
   "execution_count": 17,
   "id": "e4afd2c6",
   "metadata": {
    "id": "e4afd2c6"
   },
   "outputs": [],
   "source": [
    "#Removing Duplicates\n",
    "reviews_df.drop_duplicates(inplace=True)"
   ]
  },
  {
   "cell_type": "code",
   "execution_count": 18,
   "id": "99504673",
   "metadata": {
    "colab": {
     "base_uri": "https://localhost:8080/",
     "height": 53
    },
    "id": "99504673",
    "outputId": "ef9034d7-c0c3-4c15-b04d-9bad05c4072a"
   },
   "outputs": [
    {
     "data": {
      "text/html": [
       "<div>\n",
       "<style scoped>\n",
       "    .dataframe tbody tr th:only-of-type {\n",
       "        vertical-align: middle;\n",
       "    }\n",
       "\n",
       "    .dataframe tbody tr th {\n",
       "        vertical-align: top;\n",
       "    }\n",
       "\n",
       "    .dataframe thead th {\n",
       "        text-align: right;\n",
       "    }\n",
       "</style>\n",
       "<table border=\"1\" class=\"dataframe\">\n",
       "  <thead>\n",
       "    <tr style=\"text-align: right;\">\n",
       "      <th></th>\n",
       "      <th>headline</th>\n",
       "      <th>reviewBody</th>\n",
       "      <th>ratingValue</th>\n",
       "    </tr>\n",
       "  </thead>\n",
       "  <tbody>\n",
       "  </tbody>\n",
       "</table>\n",
       "</div>"
      ],
      "text/plain": [
       "Empty DataFrame\n",
       "Columns: [headline, reviewBody, ratingValue]\n",
       "Index: []"
      ]
     },
     "execution_count": 18,
     "metadata": {},
     "output_type": "execute_result"
    }
   ],
   "source": [
    "reviews_df[reviews_df.duplicated()]"
   ]
  },
  {
   "cell_type": "code",
   "execution_count": 19,
   "id": "41c36c1b",
   "metadata": {
    "colab": {
     "base_uri": "https://localhost:8080/"
    },
    "id": "41c36c1b",
    "outputId": "f1c58a77-4ec6-4725-ce73-8ba087f38a25",
    "scrolled": true
   },
   "outputs": [
    {
     "data": {
      "text/plain": [
       "(306, 3)"
      ]
     },
     "execution_count": 19,
     "metadata": {},
     "output_type": "execute_result"
    }
   ],
   "source": [
    "reviews_df.shape"
   ]
  },
  {
   "cell_type": "code",
   "execution_count": 20,
   "id": "da508c3d",
   "metadata": {
    "colab": {
     "base_uri": "https://localhost:8080/"
    },
    "id": "da508c3d",
    "outputId": "90202450-a812-48fd-88f4-8c8c1cc49a10"
   },
   "outputs": [
    {
     "data": {
      "text/plain": [
       "headline       0\n",
       "reviewBody     0\n",
       "ratingValue    1\n",
       "dtype: int64"
      ]
     },
     "execution_count": 20,
     "metadata": {},
     "output_type": "execute_result"
    }
   ],
   "source": [
    "reviews_df.isnull().sum()"
   ]
  },
  {
   "cell_type": "code",
   "execution_count": 21,
   "id": "fdc61df6",
   "metadata": {
    "id": "fdc61df6"
   },
   "outputs": [],
   "source": [
    "# Removing Missing Values\n",
    "reviews_df.dropna(subset=['ratingValue'],inplace=True)"
   ]
  },
  {
   "cell_type": "code",
   "execution_count": 22,
   "id": "950f4a05",
   "metadata": {
    "colab": {
     "base_uri": "https://localhost:8080/",
     "height": 293
    },
    "id": "950f4a05",
    "outputId": "13ef58ee-3231-4943-e404-9cc33fe8438a"
   },
   "outputs": [
    {
     "data": {
      "text/html": [
       "<div>\n",
       "<style scoped>\n",
       "    .dataframe tbody tr th:only-of-type {\n",
       "        vertical-align: middle;\n",
       "    }\n",
       "\n",
       "    .dataframe tbody tr th {\n",
       "        vertical-align: top;\n",
       "    }\n",
       "\n",
       "    .dataframe thead th {\n",
       "        text-align: right;\n",
       "    }\n",
       "</style>\n",
       "<table border=\"1\" class=\"dataframe\">\n",
       "  <thead>\n",
       "    <tr style=\"text-align: right;\">\n",
       "      <th></th>\n",
       "      <th>headline</th>\n",
       "      <th>reviewBody</th>\n",
       "      <th>ratingValue</th>\n",
       "    </tr>\n",
       "  </thead>\n",
       "  <tbody>\n",
       "    <tr>\n",
       "      <th>0</th>\n",
       "      <td>Super light and efficient laptop</td>\n",
       "      <td>Super light and efficient laptop.  Crisp &amp; cle...</td>\n",
       "      <td>5.0</td>\n",
       "    </tr>\n",
       "    <tr>\n",
       "      <th>1</th>\n",
       "      <td>NEW laptop is great</td>\n",
       "      <td>so far I am loving the new look and the feel o...</td>\n",
       "      <td>5.0</td>\n",
       "    </tr>\n",
       "    <tr>\n",
       "      <th>2</th>\n",
       "      <td>Lightweight powerhouse.</td>\n",
       "      <td>Great build quality \\ excellent screen \\ very ...</td>\n",
       "      <td>5.0</td>\n",
       "    </tr>\n",
       "    <tr>\n",
       "      <th>3</th>\n",
       "      <td>Great Laptop for Work</td>\n",
       "      <td>Excellent laptop for work. Processor was able ...</td>\n",
       "      <td>5.0</td>\n",
       "    </tr>\n",
       "    <tr>\n",
       "      <th>4</th>\n",
       "      <td>Practical Solid Laptop</td>\n",
       "      <td>So far so good, I like it has an HDMI, USB-C &amp;...</td>\n",
       "      <td>5.0</td>\n",
       "    </tr>\n",
       "  </tbody>\n",
       "</table>\n",
       "</div>"
      ],
      "text/plain": [
       "                           headline  \\\n",
       "0  Super light and efficient laptop   \n",
       "1               NEW laptop is great   \n",
       "2           Lightweight powerhouse.   \n",
       "3             Great Laptop for Work   \n",
       "4            Practical Solid Laptop   \n",
       "\n",
       "                                          reviewBody  ratingValue  \n",
       "0  Super light and efficient laptop.  Crisp & cle...          5.0  \n",
       "1  so far I am loving the new look and the feel o...          5.0  \n",
       "2  Great build quality \\ excellent screen \\ very ...          5.0  \n",
       "3  Excellent laptop for work. Processor was able ...          5.0  \n",
       "4  So far so good, I like it has an HDMI, USB-C &...          5.0  "
      ]
     },
     "execution_count": 22,
     "metadata": {},
     "output_type": "execute_result"
    }
   ],
   "source": [
    "reviews_df.head(5)"
   ]
  },
  {
   "cell_type": "code",
   "execution_count": 23,
   "id": "554e5dfd",
   "metadata": {
    "colab": {
     "base_uri": "https://localhost:8080/"
    },
    "id": "554e5dfd",
    "outputId": "0ca456ce-c964-4830-95f5-60ef37de034b"
   },
   "outputs": [
    {
     "data": {
      "text/plain": [
       "(305, 3)"
      ]
     },
     "execution_count": 23,
     "metadata": {},
     "output_type": "execute_result"
    }
   ],
   "source": [
    "reviews_df.shape"
   ]
  },
  {
   "cell_type": "code",
   "execution_count": 24,
   "id": "36b87917",
   "metadata": {
    "colab": {
     "base_uri": "https://localhost:8080/"
    },
    "id": "36b87917",
    "outputId": "0c7d80cf-313a-421c-f658-bd051adca545"
   },
   "outputs": [
    {
     "data": {
      "text/plain": [
       "array([ 1,  0, -1])"
      ]
     },
     "execution_count": 24,
     "metadata": {},
     "output_type": "execute_result"
    }
   ],
   "source": [
    "# adding a sentiment column to classify reviews as Positive, Negative or Neutral\n",
    "# Positive = 1\n",
    "# Negative = -1\n",
    "# Neutral = 0\n",
    "\n",
    "reviews_df['sentiment'] = np.where(reviews_df['ratingValue']>= 4.0,1,\n",
    "                             np.where(reviews_df['ratingValue']==3.0,0,-1))\n",
    "reviews_df['sentiment'].unique()"
   ]
  },
  {
   "cell_type": "markdown",
   "id": "2ed6a2ed",
   "metadata": {
    "id": "2ed6a2ed"
   },
   "source": [
    "# Text Preprocessing"
   ]
  },
  {
   "cell_type": "code",
   "execution_count": 25,
   "id": "a8980cf5",
   "metadata": {
    "colab": {
     "base_uri": "https://localhost:8080/",
     "height": 573
    },
    "id": "a8980cf5",
    "outputId": "7a0166e8-2e3a-4365-e8a3-6990a825892b",
    "scrolled": true
   },
   "outputs": [
    {
     "data": {
      "text/html": [
       "<div>\n",
       "<style scoped>\n",
       "    .dataframe tbody tr th:only-of-type {\n",
       "        vertical-align: middle;\n",
       "    }\n",
       "\n",
       "    .dataframe tbody tr th {\n",
       "        vertical-align: top;\n",
       "    }\n",
       "\n",
       "    .dataframe thead th {\n",
       "        text-align: right;\n",
       "    }\n",
       "</style>\n",
       "<table border=\"1\" class=\"dataframe\">\n",
       "  <thead>\n",
       "    <tr style=\"text-align: right;\">\n",
       "      <th></th>\n",
       "      <th>headline</th>\n",
       "      <th>reviewBody</th>\n",
       "      <th>ratingValue</th>\n",
       "      <th>sentiment</th>\n",
       "      <th>cleaned_reviewBody</th>\n",
       "      <th>cleaned_headline</th>\n",
       "      <th>combined_review</th>\n",
       "    </tr>\n",
       "  </thead>\n",
       "  <tbody>\n",
       "    <tr>\n",
       "      <th>0</th>\n",
       "      <td>Super light and efficient laptop</td>\n",
       "      <td>Super light and efficient laptop.  Crisp &amp; cle...</td>\n",
       "      <td>5.0</td>\n",
       "      <td>1</td>\n",
       "      <td>super light efficient laptop crisp clean scree...</td>\n",
       "      <td>super light efficient laptop</td>\n",
       "      <td>super light efficient laptop super light effic...</td>\n",
       "    </tr>\n",
       "    <tr>\n",
       "      <th>1</th>\n",
       "      <td>NEW laptop is great</td>\n",
       "      <td>so far I am loving the new look and the feel o...</td>\n",
       "      <td>5.0</td>\n",
       "      <td>1</td>\n",
       "      <td>far loving new look feel new laptop</td>\n",
       "      <td>new laptop great</td>\n",
       "      <td>new laptop great far loving new look feel new ...</td>\n",
       "    </tr>\n",
       "    <tr>\n",
       "      <th>2</th>\n",
       "      <td>Lightweight powerhouse.</td>\n",
       "      <td>Great build quality \\ excellent screen \\ very ...</td>\n",
       "      <td>5.0</td>\n",
       "      <td>1</td>\n",
       "      <td>great build quality excellent screen good port...</td>\n",
       "      <td>lightweight powerhouse</td>\n",
       "      <td>lightweight powerhouse great build quality exc...</td>\n",
       "    </tr>\n",
       "    <tr>\n",
       "      <th>3</th>\n",
       "      <td>Great Laptop for Work</td>\n",
       "      <td>Excellent laptop for work. Processor was able ...</td>\n",
       "      <td>5.0</td>\n",
       "      <td>1</td>\n",
       "      <td>excellent laptop work processor able handle wo...</td>\n",
       "      <td>great laptop work</td>\n",
       "      <td>great laptop work excellent laptop work proces...</td>\n",
       "    </tr>\n",
       "    <tr>\n",
       "      <th>4</th>\n",
       "      <td>Practical Solid Laptop</td>\n",
       "      <td>So far so good, I like it has an HDMI, USB-C &amp;...</td>\n",
       "      <td>5.0</td>\n",
       "      <td>1</td>\n",
       "      <td>far good like hdmi usbc ports instead usbc por...</td>\n",
       "      <td>practical solid laptop</td>\n",
       "      <td>practical solid laptop far good like hdmi usbc...</td>\n",
       "    </tr>\n",
       "  </tbody>\n",
       "</table>\n",
       "</div>"
      ],
      "text/plain": [
       "                           headline  \\\n",
       "0  Super light and efficient laptop   \n",
       "1               NEW laptop is great   \n",
       "2           Lightweight powerhouse.   \n",
       "3             Great Laptop for Work   \n",
       "4            Practical Solid Laptop   \n",
       "\n",
       "                                          reviewBody  ratingValue  sentiment  \\\n",
       "0  Super light and efficient laptop.  Crisp & cle...          5.0          1   \n",
       "1  so far I am loving the new look and the feel o...          5.0          1   \n",
       "2  Great build quality \\ excellent screen \\ very ...          5.0          1   \n",
       "3  Excellent laptop for work. Processor was able ...          5.0          1   \n",
       "4  So far so good, I like it has an HDMI, USB-C &...          5.0          1   \n",
       "\n",
       "                                  cleaned_reviewBody  \\\n",
       "0  super light efficient laptop crisp clean scree...   \n",
       "1                far loving new look feel new laptop   \n",
       "2  great build quality excellent screen good port...   \n",
       "3  excellent laptop work processor able handle wo...   \n",
       "4  far good like hdmi usbc ports instead usbc por...   \n",
       "\n",
       "               cleaned_headline  \\\n",
       "0  super light efficient laptop   \n",
       "1              new laptop great   \n",
       "2        lightweight powerhouse   \n",
       "3             great laptop work   \n",
       "4        practical solid laptop   \n",
       "\n",
       "                                     combined_review  \n",
       "0  super light efficient laptop super light effic...  \n",
       "1  new laptop great far loving new look feel new ...  \n",
       "2  lightweight powerhouse great build quality exc...  \n",
       "3  great laptop work excellent laptop work proces...  \n",
       "4  practical solid laptop far good like hdmi usbc...  "
      ]
     },
     "execution_count": 25,
     "metadata": {},
     "output_type": "execute_result"
    }
   ],
   "source": [
    "# Function to preprocess text\n",
    "def preprocess_text(text):\n",
    "    # Convert to lowercase\n",
    "    text = text.lower()\n",
    "    # Remove special characters and digits\n",
    "    text = re.sub(r'[^a-z\\s]', '', text)\n",
    "    # Tokenize\n",
    "    tokens = word_tokenize(text)\n",
    "    # Remove stop words\n",
    "    tokens = [word for word in tokens if word not in stopwords.words('english')]\n",
    "    return ' '.join(tokens)\n",
    "\n",
    "# Apply preprocessing to reviewBody\n",
    "reviews_df['cleaned_reviewBody'] = reviews_df['reviewBody'].apply(preprocess_text)\n",
    "reviews_df['cleaned_headline'] = reviews_df['headline'].apply(preprocess_text)\n",
    "reviews_df['combined_review'] = reviews_df['cleaned_headline'].astype(str) + \" \" + reviews_df['cleaned_reviewBody'].astype(str)\n",
    "\n",
    "reviews_df.head()\n"
   ]
  },
  {
   "cell_type": "code",
   "execution_count": 26,
   "id": "cfc24520",
   "metadata": {
    "colab": {
     "base_uri": "https://localhost:8080/",
     "height": 206
    },
    "id": "cfc24520",
    "outputId": "32d6f26d-3d0a-4cc0-ccae-5ec0d5211c86"
   },
   "outputs": [
    {
     "data": {
      "text/html": [
       "<div>\n",
       "<style scoped>\n",
       "    .dataframe tbody tr th:only-of-type {\n",
       "        vertical-align: middle;\n",
       "    }\n",
       "\n",
       "    .dataframe tbody tr th {\n",
       "        vertical-align: top;\n",
       "    }\n",
       "\n",
       "    .dataframe thead th {\n",
       "        text-align: right;\n",
       "    }\n",
       "</style>\n",
       "<table border=\"1\" class=\"dataframe\">\n",
       "  <thead>\n",
       "    <tr style=\"text-align: right;\">\n",
       "      <th></th>\n",
       "      <th>ratingValue</th>\n",
       "      <th>sentiment</th>\n",
       "      <th>combined_review</th>\n",
       "    </tr>\n",
       "  </thead>\n",
       "  <tbody>\n",
       "    <tr>\n",
       "      <th>0</th>\n",
       "      <td>5.0</td>\n",
       "      <td>1</td>\n",
       "      <td>super light efficient laptop super light effic...</td>\n",
       "    </tr>\n",
       "    <tr>\n",
       "      <th>1</th>\n",
       "      <td>5.0</td>\n",
       "      <td>1</td>\n",
       "      <td>new laptop great far loving new look feel new ...</td>\n",
       "    </tr>\n",
       "    <tr>\n",
       "      <th>2</th>\n",
       "      <td>5.0</td>\n",
       "      <td>1</td>\n",
       "      <td>lightweight powerhouse great build quality exc...</td>\n",
       "    </tr>\n",
       "    <tr>\n",
       "      <th>3</th>\n",
       "      <td>5.0</td>\n",
       "      <td>1</td>\n",
       "      <td>great laptop work excellent laptop work proces...</td>\n",
       "    </tr>\n",
       "    <tr>\n",
       "      <th>4</th>\n",
       "      <td>5.0</td>\n",
       "      <td>1</td>\n",
       "      <td>practical solid laptop far good like hdmi usbc...</td>\n",
       "    </tr>\n",
       "  </tbody>\n",
       "</table>\n",
       "</div>"
      ],
      "text/plain": [
       "   ratingValue  sentiment                                    combined_review\n",
       "0          5.0          1  super light efficient laptop super light effic...\n",
       "1          5.0          1  new laptop great far loving new look feel new ...\n",
       "2          5.0          1  lightweight powerhouse great build quality exc...\n",
       "3          5.0          1  great laptop work excellent laptop work proces...\n",
       "4          5.0          1  practical solid laptop far good like hdmi usbc..."
      ]
     },
     "execution_count": 26,
     "metadata": {},
     "output_type": "execute_result"
    }
   ],
   "source": [
    "reviews_df.drop(['headline','reviewBody','cleaned_reviewBody',\n",
    "'cleaned_headline'],axis=1,inplace=True)\n",
    "reviews_df.head()"
   ]
  },
  {
   "cell_type": "code",
   "execution_count": 27,
   "id": "TQRi6RplKa0Y",
   "metadata": {
    "colab": {
     "base_uri": "https://localhost:8080/"
    },
    "id": "TQRi6RplKa0Y",
    "outputId": "4ba271ac-59c4-4428-cec5-acdbd8bbb445"
   },
   "outputs": [
    {
     "name": "stdout",
     "output_type": "stream",
     "text": [
      "<class 'pandas.core.frame.DataFrame'>\n",
      "Index: 305 entries, 0 to 304\n",
      "Data columns (total 3 columns):\n",
      " #   Column           Non-Null Count  Dtype  \n",
      "---  ------           --------------  -----  \n",
      " 0   ratingValue      305 non-null    float64\n",
      " 1   sentiment        305 non-null    int32  \n",
      " 2   combined_review  305 non-null    object \n",
      "dtypes: float64(1), int32(1), object(1)\n",
      "memory usage: 8.3+ KB\n"
     ]
    }
   ],
   "source": [
    "reviews_df.info()"
   ]
  },
  {
   "cell_type": "markdown",
   "id": "80c05314",
   "metadata": {
    "id": "80c05314"
   },
   "source": [
    "# Text Data Analysis"
   ]
  },
  {
   "cell_type": "code",
   "execution_count": 28,
   "id": "aa20d54a",
   "metadata": {
    "colab": {
     "base_uri": "https://localhost:8080/"
    },
    "id": "aa20d54a",
    "outputId": "ff51175b-69e5-4e8d-fa50-1173d0a7825a"
   },
   "outputs": [
    {
     "name": "stdout",
     "output_type": "stream",
     "text": [
      "Reviews :    ratingValue  sentiment                                    combined_review  \\\n",
      "0          5.0          1  super light efficient laptop super light effic...   \n",
      "1          5.0          1  new laptop great far loving new look feel new ...   \n",
      "2          5.0          1  lightweight powerhouse great build quality exc...   \n",
      "3          5.0          1  great laptop work excellent laptop work proces...   \n",
      "4          5.0          1  practical solid laptop far good like hdmi usbc...   \n",
      "\n",
      "   polarity  \n",
      "0  0.326190  \n",
      "1  0.318182  \n",
      "2  0.600000  \n",
      "3  0.560000  \n",
      "4  0.362500  \n"
     ]
    },
    {
     "data": {
      "text/plain": [
       "array([ 0.32619048,  0.31818182,  0.6       ,  0.56      ,  0.3625    ,\n",
       "        0.55      ,  0.26666667,  0.68939394,  0.25952381,  0.41866667,\n",
       "        0.41111111,  0.45      ,  0.35714286,  0.432     ,  0.50666667,\n",
       "        0.5       ,  0.46666667,  0.06065341,  0.58333333,  0.86666667,\n",
       "        1.        ,  0.36      ,  0.8       ,  0.45      ,  0.46      ,\n",
       "        0.28333333,  0.        ,  0.13636364,  0.2875    ,  0.525     ,\n",
       "        0.4       ,  0.43333333,  0.35      ,  0.36704545,  0.66      ,\n",
       "        0.6       ,  0.3       ,  0.36944444, -0.025     ,  0.65      ,\n",
       "        0.8       ,  0.21666667,  0.21666667,  0.29916667,  0.18151848,\n",
       "        0.49545455,  0.24060606,  0.31875   ,  0.23072391,  0.45785124,\n",
       "        0.42222222, -0.05      ,  0.20625   , -0.14791667,  0.38888889,\n",
       "        0.25833333,  0.53333333,  0.48666667,  0.40666667,  0.04166667,\n",
       "        0.08541667,  0.675     ,  0.85      ,  0.15833333,  0.7       ,\n",
       "        0.625     ,  0.53333333,  0.34      ,  0.43129252,  0.56666667,\n",
       "        0.3662037 ,  0.40666667,  0.46666667,  0.19166667,  0.2       ,\n",
       "        0.52714286,  0.32083333,  0.59      ,  0.35833333,  0.33727273,\n",
       "        0.75      ,  0.44848485,  0.075     ,  0.27878788,  0.44      ,\n",
       "        0.16329365,  0.23333333,  0.05      ,  0.54      ,  0.55952381,\n",
       "        0.27878788,  0.73333333,  0.4       ,  0.44444444,  0.0875    ,\n",
       "        0.43227273,  0.47777778,  0.31603401,  0.36904762,  0.59166667,\n",
       "        0.15416667,  0.51666667,  0.51111111,  0.2328869 ,  0.25307018,\n",
       "        0.48333333,  0.70833333,  0.65833333,  0.475     ,  0.152     ,\n",
       "        0.39204545,  0.47878788,  0.15909091,  0.36833333,  0.528125  ,\n",
       "        0.3280068 ,  0.275     ,  0.58727273,  0.55      ,  0.52467532,\n",
       "       -0.00625   ,  0.66666667,  0.35866667,  0.6375    ,  0.3       ,\n",
       "        0.52666667,  0.26357143,  0.43333333,  0.64358974,  0.22      ,\n",
       "        0.41833333,  0.19333333,  0.40995671,  0.10714286,  0.19431818,\n",
       "        0.42272727,  0.395671  ,  0.16071429,  0.76666667,  0.95      ,\n",
       "        0.425     ,  0.37460317,  0.16666667,  0.31055195,  0.64727273,\n",
       "        0.51      ,  0.14166667,  0.41363636,  0.40285714,  0.38552189,\n",
       "        0.2       ,  0.25294118,  0.24090909,  0.29090909,  0.29      ,\n",
       "        0.11333333,  0.3375    ,  0.46666667, -0.38888889,  0.03125   ,\n",
       "        0.07857143,  0.2944161 ,  0.22980576,  0.55833333,  0.52380952,\n",
       "        0.33333333,  0.2494697 ,  0.36666667,  0.0245098 ,  0.190625  ,\n",
       "        0.255     ,  0.225     ,  0.07333333,  0.29285714,  0.253125  ,\n",
       "        0.39527629,  0.20862193,  0.17777778,  0.20555556,  0.63333333,\n",
       "        0.19555556,  0.10833333,  0.25      ,  0.31875   ,  0.43111111,\n",
       "        0.02777778,  0.50833333,  0.31428571,  0.26666667,  0.41666667,\n",
       "        0.31111111,  0.39494949,  0.0453869 ,  0.245     ,  0.33214286,\n",
       "       -0.27428571,  0.135     ,  0.30625   ,  0.16727273, -0.06666667,\n",
       "        0.24      ,  0.23194444, -0.6       ,  0.12026515, -0.3       ,\n",
       "       -0.07272727, -0.08280303,  0.14      , -0.16666667,  0.19318182,\n",
       "       -0.203125  , -0.1       , -0.5       ,  0.22685185, -0.2       ,\n",
       "       -0.7       , -0.4       ])"
      ]
     },
     "execution_count": 28,
     "metadata": {},
     "output_type": "execute_result"
    }
   ],
   "source": [
    "reviews_df# Function to analyze sentiment using TextBlob\n",
    "def analyze_sentiment_textblob(text):\n",
    "    analysis = TextBlob(text)\n",
    "    return analysis.sentiment.polarity\n",
    "\n",
    "# Apply sentiment analysis\n",
    "reviews_df['polarity'] = reviews_df['combined_review'].apply(analyze_sentiment_textblob)\n",
    "\n",
    "# Display the first few rows with sentiment scores\n",
    "print(f\"Reviews : {reviews_df.head()}\")\n",
    "reviews_df['polarity'].unique()"
   ]
  },
  {
   "cell_type": "code",
   "execution_count": 29,
   "id": "482f06b8",
   "metadata": {
    "colab": {
     "base_uri": "https://localhost:8080/",
     "height": 367
    },
    "id": "482f06b8",
    "outputId": "b5abf2aa-4273-4e3a-fae8-7197cafde1c5",
    "scrolled": true
   },
   "outputs": [
    {
     "data": {
      "image/png": "[encoded data removed]",
      "text/plain": [
       "<Figure size 800x400 with 1 Axes>"
      ]
     },
     "metadata": {},
     "output_type": "display_data"
    }
   ],
   "source": [
    "all_reviews = ' '.join(reviews_df['combined_review'])\n",
    "wordcloud = WordCloud(width=800, height=400, background_color='white').generate(all_reviews)\n",
    "plt.figure(figsize=(8, 4))\n",
    "plt.imshow(wordcloud, interpolation='bilinear')\n",
    "plt.axis('off')\n",
    "plt.title('Word Cloud of Reviews')\n",
    "plt.show()"
   ]
  },
  {
   "cell_type": "markdown",
   "id": "3b2c11a9",
   "metadata": {
    "id": "3b2c11a9"
   },
   "source": [
    "# Data Visualization"
   ]
  },
  {
   "cell_type": "markdown",
   "id": "DYEfUhDwouQj",
   "metadata": {
    "id": "DYEfUhDwouQj"
   },
   "source": [
    "### Analyzing the reviews' length"
   ]
  },
  {
   "cell_type": "code",
   "execution_count": 30,
   "id": "8c98186a",
   "metadata": {
    "colab": {
     "base_uri": "https://localhost:8080/",
     "height": 436
    },
    "id": "8c98186a",
    "outputId": "da2b0596-0918-4311-e357-ba44690a2036"
   },
   "outputs": [
    {
     "data": {
      "image/png": "[encoded data removed]",
      "text/plain": [
       "<Figure size 1000x600 with 1 Axes>"
      ]
     },
     "metadata": {},
     "output_type": "display_data"
    }
   ],
   "source": [
    "reviews_df['review_length'] = reviews_df['combined_review'].apply(len)\n",
    "plt.figure(figsize=(10, 6))\n",
    "sns.histplot(reviews_df['review_length'], bins=30)\n",
    "plt.title('Distribution of Review Lengths')\n",
    "plt.xlabel('Review Length')\n",
    "plt.ylabel('Frequency')\n",
    "plt.show()"
   ]
  },
  {
   "cell_type": "markdown",
   "id": "96be95b3",
   "metadata": {
    "id": "96be95b3"
   },
   "source": [
    "## From the graph above we can understand that 'most of the reviews are written less than 500 charecters'"
   ]
  },
  {
   "cell_type": "code",
   "execution_count": 31,
   "id": "51831981",
   "metadata": {
    "colab": {
     "base_uri": "https://localhost:8080/",
     "height": 432
    },
    "id": "51831981",
    "outputId": "9426fae2-cb79-4117-b7c1-505b3aafb3d1"
   },
   "outputs": [
    {
     "data": {
      "image/png": "[encoded data removed]",
      "text/plain": [
       "<Figure size 1000x600 with 1 Axes>"
      ]
     },
     "metadata": {},
     "output_type": "display_data"
    }
   ],
   "source": [
    "plt.figure(figsize=(10, 6))\n",
    "sns.countplot(data = reviews_df, x='ratingValue')\n",
    "plt.title('Distribution of Rating Values')\n",
    "plt.xlabel('Rating Value')\n",
    "plt.ylabel('Count')\n",
    "plt.show()"
   ]
  },
  {
   "cell_type": "markdown",
   "id": "3eca033c",
   "metadata": {
    "id": "3eca033c"
   },
   "source": [
    "## From the graph above, we can understand that 'most of the reviews are 5.0'"
   ]
  },
  {
   "cell_type": "markdown",
   "id": "X5VPerT9ApY-",
   "metadata": {
    "id": "X5VPerT9ApY-"
   },
   "source": [
    "## Pie Chart for rating values"
   ]
  },
  {
   "cell_type": "code",
   "execution_count": 32,
   "id": "8fLPzoJnAu3R",
   "metadata": {
    "colab": {
     "base_uri": "https://localhost:8080/",
     "height": 583
    },
    "id": "8fLPzoJnAu3R",
    "outputId": "3a17b531-24c9-4f8e-9360-218c41de303b"
   },
   "outputs": [
    {
     "data": {
      "image/png": "[encoded data removed]",
      "text/plain": [
       "<Figure size 700x700 with 1 Axes>"
      ]
     },
     "metadata": {},
     "output_type": "display_data"
    }
   ],
   "source": [
    "def func(pct, allvalues):\n",
    "    absolute = int(pct / 100.*np.sum(allvalues))\n",
    "    return \"{:.1f}%\".format(pct, absolute)\n",
    "\n",
    "\n",
    "plt.figure(figsize=(7,7))\n",
    "wp = {'linewidth':1, 'edgecolor':'black'}\n",
    "\n",
    "e = (0.1, 0.0, 0.2, 0.3, 0.4)\n",
    "\n",
    "colors = ['lavender','linen','pink','honeydew','beige']\n",
    "\n",
    "tags = reviews_df['ratingValue'].value_counts()/reviews_df.shape[0]\n",
    "\n",
    "plt.pie(tags,labels=[1,2,3,4,5],\n",
    "        colors=colors,\n",
    "        explode=e,\n",
    "        wedgeprops=wp,\n",
    "        textprops=dict(weight='bold'),\n",
    "        autopct=lambda pct: func(pct, tags))\n",
    "\n",
    "\n",
    "plt.legend(title='Rating Values',loc='upper left',bbox_to_anchor=(1, 0, 0.5, 1))\n",
    "\n",
    "plt.title('Pie Chart for Rating Vlaues',fontsize=20)\n",
    "\n",
    "plt.show()"
   ]
  },
  {
   "cell_type": "code",
   "execution_count": null,
   "id": "jGWys161AtH4",
   "metadata": {
    "id": "jGWys161AtH4"
   },
   "outputs": [],
   "source": []
  },
  {
   "cell_type": "code",
   "execution_count": 33,
   "id": "c3a96520",
   "metadata": {
    "colab": {
     "base_uri": "https://localhost:8080/",
     "height": 628
    },
    "id": "c3a96520",
    "outputId": "1cca00cc-bfec-4280-9a50-704316b078c1"
   },
   "outputs": [
    {
     "data": {
      "image/png": "[encoded data removed]",
      "text/plain": [
       "<Figure size 640x480 with 1 Axes>"
      ]
     },
     "metadata": {},
     "output_type": "display_data"
    },
    {
     "name": "stdout",
     "output_type": "stream",
     "text": [
      "count    305.000000\n",
      "mean       0.357428\n",
      "std        0.265075\n",
      "min       -0.700000\n",
      "25%        0.200000\n",
      "50%        0.369048\n",
      "75%        0.525000\n",
      "max        1.000000\n",
      "Name: polarity, dtype: float64\n"
     ]
    }
   ],
   "source": [
    "# Plot histogram of sentiment polarity\n",
    "plt.hist(reviews_df['polarity'], bins=20, edgecolor='black')\n",
    "plt.title('Sentiment Polarity Distribution')\n",
    "plt.xlabel('Sentiment Polarity')\n",
    "plt.ylabel('Frequency')\n",
    "plt.show()\n",
    "\n",
    "# Summary statistics\n",
    "print(reviews_df['polarity'].describe())"
   ]
  },
  {
   "cell_type": "code",
   "execution_count": 34,
   "id": "5f265aa3",
   "metadata": {
    "colab": {
     "base_uri": "https://localhost:8080/",
     "height": 175
    },
    "id": "5f265aa3",
    "outputId": "fb796d97-b2c1-45b3-d222-006f26ac25a2"
   },
   "outputs": [
    {
     "data": {
      "text/html": [
       "<div>\n",
       "<style scoped>\n",
       "    .dataframe tbody tr th:only-of-type {\n",
       "        vertical-align: middle;\n",
       "    }\n",
       "\n",
       "    .dataframe tbody tr th {\n",
       "        vertical-align: top;\n",
       "    }\n",
       "\n",
       "    .dataframe thead th {\n",
       "        text-align: right;\n",
       "    }\n",
       "</style>\n",
       "<table border=\"1\" class=\"dataframe\">\n",
       "  <thead>\n",
       "    <tr style=\"text-align: right;\">\n",
       "      <th></th>\n",
       "      <th>ratingValue</th>\n",
       "      <th>polarity</th>\n",
       "      <th>sentiment</th>\n",
       "      <th>review_length</th>\n",
       "    </tr>\n",
       "  </thead>\n",
       "  <tbody>\n",
       "    <tr>\n",
       "      <th>ratingValue</th>\n",
       "      <td>1.000000</td>\n",
       "      <td>0.478163</td>\n",
       "      <td>0.923155</td>\n",
       "      <td>0.031881</td>\n",
       "    </tr>\n",
       "    <tr>\n",
       "      <th>polarity</th>\n",
       "      <td>0.478163</td>\n",
       "      <td>1.000000</td>\n",
       "      <td>0.457685</td>\n",
       "      <td>-0.109695</td>\n",
       "    </tr>\n",
       "    <tr>\n",
       "      <th>sentiment</th>\n",
       "      <td>0.923155</td>\n",
       "      <td>0.457685</td>\n",
       "      <td>1.000000</td>\n",
       "      <td>0.045245</td>\n",
       "    </tr>\n",
       "    <tr>\n",
       "      <th>review_length</th>\n",
       "      <td>0.031881</td>\n",
       "      <td>-0.109695</td>\n",
       "      <td>0.045245</td>\n",
       "      <td>1.000000</td>\n",
       "    </tr>\n",
       "  </tbody>\n",
       "</table>\n",
       "</div>"
      ],
      "text/plain": [
       "               ratingValue  polarity  sentiment  review_length\n",
       "ratingValue       1.000000  0.478163   0.923155       0.031881\n",
       "polarity          0.478163  1.000000   0.457685      -0.109695\n",
       "sentiment         0.923155  0.457685   1.000000       0.045245\n",
       "review_length     0.031881 -0.109695   0.045245       1.000000"
      ]
     },
     "execution_count": 34,
     "metadata": {},
     "output_type": "execute_result"
    }
   ],
   "source": [
    "correlation_matrix = reviews_df[['ratingValue','polarity','sentiment','review_length']].corr()\n",
    "correlation_matrix"
   ]
  },
  {
   "cell_type": "code",
   "execution_count": 35,
   "id": "38a419a6",
   "metadata": {
    "colab": {
     "base_uri": "https://localhost:8080/",
     "height": 544
    },
    "id": "38a419a6",
    "outputId": "6cec2546-748a-4905-ecf8-e9ad0b6e60ee"
   },
   "outputs": [
    {
     "data": {
      "image/png": "[encoded data removed]",
      "text/plain": [
       "<Figure size 800x600 with 2 Axes>"
      ]
     },
     "metadata": {},
     "output_type": "display_data"
    }
   ],
   "source": [
    "plt.figure(figsize=(8, 6))\n",
    "sns.heatmap(correlation_matrix, annot=True, cmap='coolwarm', vmin=-1, vmax=1)\n",
    "plt.title('Correlation Matrix Heatmap')\n",
    "plt.show()"
   ]
  },
  {
   "cell_type": "markdown",
   "id": "8Nd7NjmCA-Wa",
   "metadata": {
    "id": "8Nd7NjmCA-Wa"
   },
   "source": [
    "## Displaying Outliers"
   ]
  },
  {
   "cell_type": "code",
   "execution_count": 36,
   "id": "_oeOrrN2BA8W",
   "metadata": {
    "colab": {
     "base_uri": "https://localhost:8080/",
     "height": 1000
    },
    "id": "_oeOrrN2BA8W",
    "outputId": "c384bfa7-b9c6-43bb-8085-7bee04b4b7bf"
   },
   "outputs": [
    {
     "data": {
      "image/png": "[encoded data removed]",
      "text/plain": [
       "<Figure size 1000x1000 with 1 Axes>"
      ]
     },
     "metadata": {},
     "output_type": "display_data"
    },
    {
     "data": {
      "image/png": "[encoded data removed]",
      "text/plain": [
       "<Figure size 1000x1000 with 1 Axes>"
      ]
     },
     "metadata": {},
     "output_type": "display_data"
    },
    {
     "data": {
      "image/png": "[encoded data removed]",
      "text/plain": [
       "<Figure size 1000x1000 with 1 Axes>"
      ]
     },
     "metadata": {},
     "output_type": "display_data"
    },
    {
     "data": {
      "image/png": "[encoded data removed]",
      "text/plain": [
       "<Figure size 1000x1000 with 1 Axes>"
      ]
     },
     "metadata": {},
     "output_type": "display_data"
    }
   ],
   "source": [
    "for i in range(len(reviews_df.columns)):\n",
    "\n",
    "\n",
    "    if reviews_df.columns[i] == 'ratingValue':\n",
    "        plt.figure(figsize=(10,10))\n",
    "        plt.subplot(2,2,1)\n",
    "        plt.boxplot(data=reviews_df,x='ratingValue',vert=True)\n",
    "        plt.title('Boxplot of Rating Value')\n",
    "        plt.ylabel('Rating Value')\n",
    "        plt.show()\n",
    "\n",
    "\n",
    "\n",
    "    elif reviews_df.columns[i] == 'sentiment':\n",
    "        plt.figure(figsize=(10,10))\n",
    "        plt.subplot(2,2,2)\n",
    "        plt.boxplot(data=reviews_df,x='sentiment',vert=True)\n",
    "        plt.title('Boxplot of Sentiment')\n",
    "        plt.ylabel('Sentiment')\n",
    "        plt.show()\n",
    "\n",
    "\n",
    "\n",
    "    elif reviews_df.columns[i] == 'polarity':\n",
    "        plt.figure(figsize=(10,10))\n",
    "        plt.subplot(2,2,3)\n",
    "        plt.boxplot(data=reviews_df,x='polarity',vert=True)\n",
    "        plt.title('Boxplot of Sentiment Polarity')\n",
    "        plt.ylabel('Sentiment Polarity')\n",
    "        plt.show()\n",
    "\n",
    "\n",
    "    elif reviews_df.columns[i] == 'review_length':\n",
    "        plt.figure(figsize=(10,10))\n",
    "        plt.subplot(2,2,4)\n",
    "        plt.boxplot(data=reviews_df,x='review_length',vert=True)\n",
    "        plt.title('Boxplot of Review Length')\n",
    "        plt.ylabel('Review Length')\n",
    "        plt.show()\n",
    "\n",
    "    else:\n",
    "        continue"
   ]
  },
  {
   "cell_type": "markdown",
   "id": "UxbSeq4zChM4",
   "metadata": {
    "id": "UxbSeq4zChM4"
   },
   "source": [
    "#Considering an example for ratingValue column"
   ]
  },
  {
   "cell_type": "markdown",
   "id": "jCnxUZhfB1Ii",
   "metadata": {
    "id": "jCnxUZhfB1Ii"
   },
   "source": [
    "## Calculating Inter-Quantile Range for ratingValue column and removing outliers"
   ]
  },
  {
   "cell_type": "code",
   "execution_count": 37,
   "id": "6dLkJ4mbB0u3",
   "metadata": {
    "id": "6dLkJ4mbB0u3"
   },
   "outputs": [],
   "source": [
    "# Calculate IQR for ratingValue\n",
    "Q1 = reviews_df['ratingValue'].quantile(0.25)\n",
    "Q3 = reviews_df['ratingValue'].quantile(0.75)\n",
    "IQR = Q3 - Q1\n",
    "\n",
    "# Define the lower and upper bounds\n",
    "lower_bound = Q1 - 1.5 * IQR\n",
    "upper_bound = Q3 + 1.5 * IQR\n",
    "\n",
    "# Identify outliers\n",
    "outliers = (reviews_df['ratingValue'] < lower_bound) | (reviews_df['ratingValue'] > upper_bound)\n",
    "\n",
    "# Filter reviews without outliers\n",
    "filtered_reviews = reviews_df[~outliers]"
   ]
  },
  {
   "cell_type": "markdown",
   "id": "zdtIhq1SCQdd",
   "metadata": {
    "id": "zdtIhq1SCQdd"
   },
   "source": [
    "### Creating a Box-Plot for ratingValue without Outliers"
   ]
  },
  {
   "cell_type": "code",
   "execution_count": 38,
   "id": "B4e0luqYCZYZ",
   "metadata": {
    "colab": {
     "base_uri": "https://localhost:8080/",
     "height": 452
    },
    "id": "B4e0luqYCZYZ",
    "outputId": "1b5b1aef-e497-493f-9261-eb74e1be7bf3"
   },
   "outputs": [
    {
     "data": {
      "image/png": "[encoded data removed]",
      "text/plain": [
       "<Figure size 640x480 with 1 Axes>"
      ]
     },
     "metadata": {},
     "output_type": "display_data"
    }
   ],
   "source": [
    "plt.boxplot(filtered_reviews['ratingValue'], vert=True)\n",
    "plt.title('Boxplot of Rating Value')\n",
    "plt.ylabel('Rating Value')\n",
    "plt.show()"
   ]
  },
  {
   "cell_type": "markdown",
   "id": "0HfbBWKOCsYW",
   "metadata": {
    "id": "0HfbBWKOCsYW"
   },
   "source": [
    "## Analyzing the Sentiment without removing the outliers"
   ]
  },
  {
   "cell_type": "code",
   "execution_count": 39,
   "id": "aW1O6stoCsDP",
   "metadata": {
    "colab": {
     "base_uri": "https://localhost:8080/",
     "height": 628
    },
    "id": "aW1O6stoCsDP",
    "outputId": "240a113f-375a-4e91-fd67-e9c2992944ea"
   },
   "outputs": [
    {
     "name": "stdout",
     "output_type": "stream",
     "text": [
      "count    305.000000\n",
      "mean       0.357428\n",
      "std        0.265075\n",
      "min       -0.700000\n",
      "25%        0.200000\n",
      "50%        0.369048\n",
      "75%        0.525000\n",
      "max        1.000000\n",
      "Name: polarity, dtype: float64\n"
     ]
    },
    {
     "data": {
      "image/png": "[encoded data removed]",
      "text/plain": [
       "<Figure size 640x480 with 1 Axes>"
      ]
     },
     "metadata": {},
     "output_type": "display_data"
    }
   ],
   "source": [
    "# Display descriptive statistics of polarity\n",
    "print(reviews_df['polarity'].describe())\n",
    "\n",
    "# Plot histogram of sentiment polarity\n",
    "plt.hist(reviews_df['polarity'], bins=20, edgecolor='black')\n",
    "plt.title('Histogram of Sentiment Polarity')\n",
    "plt.xlabel('Polarity')\n",
    "plt.ylabel('Frequency')\n",
    "plt.show()"
   ]
  },
  {
   "cell_type": "markdown",
   "id": "5KfOhq56DnDB",
   "metadata": {
    "id": "5KfOhq56DnDB"
   },
   "source": [
    "Conclusion - By performing sentiment analysis without removing outliers shows us that we have a full range of sentiments expressed in the reviews. We must not remove outliers if they significantly skew the analysis results."
   ]
  },
  {
   "cell_type": "markdown",
   "id": "f8jo-mX1BMsv",
   "metadata": {
    "id": "f8jo-mX1BMsv"
   },
   "source": [
    "## Calculating Outlier Percentage"
   ]
  },
  {
   "cell_type": "code",
   "execution_count": 40,
   "id": "bSB6v7hLBQgG",
   "metadata": {
    "colab": {
     "base_uri": "https://localhost:8080/"
    },
    "id": "bSB6v7hLBQgG",
    "outputId": "1bb3ee5f-5d6c-4058-aa4a-2816401d061c"
   },
   "outputs": [
    {
     "name": "stdout",
     "output_type": "stream",
     "text": [
      "ratingValue:8.852459016393443%\n",
      "sentiment:14.754098360655737%\n",
      "polarity:1.9672131147540985%\n",
      "review_length:8.852459016393443%\n"
     ]
    }
   ],
   "source": [
    "def outlier_percentage(df):\n",
    "    for i in range(len(df.columns)):\n",
    "        if df.columns[i]=='combined_review':\n",
    "            continue\n",
    "        else:\n",
    "            q1 = df[df.columns[i]].quantile(0.25)\n",
    "            q3 = df[df.columns[i]].quantile(0.75)\n",
    "            iqr = q3 - q1\n",
    "\n",
    "            upper = q3+(iqr*1.5)\n",
    "            lower = q1-(iqr*1.5)\n",
    "\n",
    "\n",
    "            percentage = (((len(df[df[df.columns[i]] > upper ])) +\n",
    "                          (len(df[df[df.columns[i]] < lower]))) /\n",
    "                         len(df[df.columns[i]])) * 100\n",
    "            print(str(df.columns[i]) + ':'+str(percentage)+'%')\n",
    "outlier_percentage(reviews_df)"
   ]
  },
  {
   "cell_type": "markdown",
   "id": "9b8a8b8d",
   "metadata": {
    "id": "9b8a8b8d"
   },
   "source": [
    "# Most Frequent Words"
   ]
  },
  {
   "cell_type": "code",
   "execution_count": 41,
   "id": "e23a2150",
   "metadata": {
    "colab": {
     "base_uri": "https://localhost:8080/"
    },
    "id": "e23a2150",
    "outputId": "886ae828-549f-43e2-feb9-7b06517f16c5"
   },
   "outputs": [
    {
     "name": "stdout",
     "output_type": "stream",
     "text": [
      "         words  frequency\n",
      "0       laptop        253\n",
      "1        great        151\n",
      "2         dell        110\n",
      "3         good         84\n",
      "4     latitude         78\n",
      "5       screen         70\n",
      "6        light         61\n",
      "7         work         56\n",
      "8         fast         54\n",
      "9  performance         54\n"
     ]
    }
   ],
   "source": [
    "# Split each text into words and create a Counter object\n",
    "word_counts = Counter()\n",
    "for text in reviews_df.combined_review.str.split():\n",
    "    word_counts.update(text)\n",
    "\n",
    "# Get the most common words (default: top 10)\n",
    "most_common = pd.DataFrame(word_counts.most_common(10),columns=['words','frequency'])\n",
    "\n",
    "print(most_common)"
   ]
  },
  {
   "cell_type": "code",
   "execution_count": 42,
   "id": "98cca888",
   "metadata": {
    "colab": {
     "base_uri": "https://localhost:8080/",
     "height": 531
    },
    "id": "98cca888",
    "outputId": "5bfd4383-c12e-454a-ecf9-25ee0d0e4001"
   },
   "outputs": [
    {
     "data": {
      "image/png": "[encoded data removed]",
      "text/plain": [
       "<Figure size 640x480 with 1 Axes>"
      ]
     },
     "metadata": {},
     "output_type": "display_data"
    }
   ],
   "source": [
    "plt.bar(most_common['words'],most_common['frequency'])\n",
    "plt.xlabel('Frequent Words')\n",
    "plt.ylabel('Frequency')\n",
    "plt.xticks(rotation=45)\n",
    "plt.title('Visualization of Most Frequent Words')\n",
    "plt.show()"
   ]
  },
  {
   "cell_type": "code",
   "execution_count": 43,
   "id": "mwymtuqBuUaE",
   "metadata": {
    "colab": {
     "base_uri": "https://localhost:8080/",
     "height": 293
    },
    "id": "mwymtuqBuUaE",
    "outputId": "224ad2e3-3f7b-4bdd-c7fe-a8a39412d88d"
   },
   "outputs": [
    {
     "data": {
      "text/html": [
       "<div>\n",
       "<style scoped>\n",
       "    .dataframe tbody tr th:only-of-type {\n",
       "        vertical-align: middle;\n",
       "    }\n",
       "\n",
       "    .dataframe tbody tr th {\n",
       "        vertical-align: top;\n",
       "    }\n",
       "\n",
       "    .dataframe thead th {\n",
       "        text-align: right;\n",
       "    }\n",
       "</style>\n",
       "<table border=\"1\" class=\"dataframe\">\n",
       "  <thead>\n",
       "    <tr style=\"text-align: right;\">\n",
       "      <th></th>\n",
       "      <th>ratingValue</th>\n",
       "      <th>sentiment</th>\n",
       "      <th>combined_review</th>\n",
       "      <th>polarity</th>\n",
       "      <th>review_length</th>\n",
       "    </tr>\n",
       "  </thead>\n",
       "  <tbody>\n",
       "    <tr>\n",
       "      <th>0</th>\n",
       "      <td>5.0</td>\n",
       "      <td>1</td>\n",
       "      <td>super light efficient laptop super light effic...</td>\n",
       "      <td>0.326190</td>\n",
       "      <td>119</td>\n",
       "    </tr>\n",
       "    <tr>\n",
       "      <th>1</th>\n",
       "      <td>5.0</td>\n",
       "      <td>1</td>\n",
       "      <td>new laptop great far loving new look feel new ...</td>\n",
       "      <td>0.318182</td>\n",
       "      <td>52</td>\n",
       "    </tr>\n",
       "    <tr>\n",
       "      <th>2</th>\n",
       "      <td>5.0</td>\n",
       "      <td>1</td>\n",
       "      <td>lightweight powerhouse great build quality exc...</td>\n",
       "      <td>0.600000</td>\n",
       "      <td>199</td>\n",
       "    </tr>\n",
       "    <tr>\n",
       "      <th>3</th>\n",
       "      <td>5.0</td>\n",
       "      <td>1</td>\n",
       "      <td>great laptop work excellent laptop work proces...</td>\n",
       "      <td>0.560000</td>\n",
       "      <td>92</td>\n",
       "    </tr>\n",
       "    <tr>\n",
       "      <th>4</th>\n",
       "      <td>5.0</td>\n",
       "      <td>1</td>\n",
       "      <td>practical solid laptop far good like hdmi usbc...</td>\n",
       "      <td>0.362500</td>\n",
       "      <td>186</td>\n",
       "    </tr>\n",
       "  </tbody>\n",
       "</table>\n",
       "</div>"
      ],
      "text/plain": [
       "   ratingValue  sentiment                                    combined_review  \\\n",
       "0          5.0          1  super light efficient laptop super light effic...   \n",
       "1          5.0          1  new laptop great far loving new look feel new ...   \n",
       "2          5.0          1  lightweight powerhouse great build quality exc...   \n",
       "3          5.0          1  great laptop work excellent laptop work proces...   \n",
       "4          5.0          1  practical solid laptop far good like hdmi usbc...   \n",
       "\n",
       "   polarity  review_length  \n",
       "0  0.326190            119  \n",
       "1  0.318182             52  \n",
       "2  0.600000            199  \n",
       "3  0.560000             92  \n",
       "4  0.362500            186  "
      ]
     },
     "execution_count": 43,
     "metadata": {},
     "output_type": "execute_result"
    }
   ],
   "source": [
    "reviews_df.head()"
   ]
  },
  {
   "cell_type": "markdown",
   "id": "aaTBqxsavOUr",
   "metadata": {
    "id": "aaTBqxsavOUr"
   },
   "source": [
    "### Re-arrange the columns in dataset to create arrays required for model building"
   ]
  },
  {
   "cell_type": "code",
   "execution_count": 44,
   "id": "Hq11cKYduhHs",
   "metadata": {
    "colab": {
     "base_uri": "https://localhost:8080/",
     "height": 293
    },
    "id": "Hq11cKYduhHs",
    "outputId": "5f4072be-b9d2-4195-ca1b-7520044e26b8"
   },
   "outputs": [
    {
     "data": {
      "text/html": [
       "<div>\n",
       "<style scoped>\n",
       "    .dataframe tbody tr th:only-of-type {\n",
       "        vertical-align: middle;\n",
       "    }\n",
       "\n",
       "    .dataframe tbody tr th {\n",
       "        vertical-align: top;\n",
       "    }\n",
       "\n",
       "    .dataframe thead th {\n",
       "        text-align: right;\n",
       "    }\n",
       "</style>\n",
       "<table border=\"1\" class=\"dataframe\">\n",
       "  <thead>\n",
       "    <tr style=\"text-align: right;\">\n",
       "      <th></th>\n",
       "      <th>combined_review</th>\n",
       "      <th>polarity</th>\n",
       "      <th>ratingValue</th>\n",
       "      <th>review_length</th>\n",
       "      <th>sentiment</th>\n",
       "    </tr>\n",
       "  </thead>\n",
       "  <tbody>\n",
       "    <tr>\n",
       "      <th>0</th>\n",
       "      <td>super light efficient laptop super light effic...</td>\n",
       "      <td>0.326190</td>\n",
       "      <td>5.0</td>\n",
       "      <td>119</td>\n",
       "      <td>1</td>\n",
       "    </tr>\n",
       "    <tr>\n",
       "      <th>1</th>\n",
       "      <td>new laptop great far loving new look feel new ...</td>\n",
       "      <td>0.318182</td>\n",
       "      <td>5.0</td>\n",
       "      <td>52</td>\n",
       "      <td>1</td>\n",
       "    </tr>\n",
       "    <tr>\n",
       "      <th>2</th>\n",
       "      <td>lightweight powerhouse great build quality exc...</td>\n",
       "      <td>0.600000</td>\n",
       "      <td>5.0</td>\n",
       "      <td>199</td>\n",
       "      <td>1</td>\n",
       "    </tr>\n",
       "    <tr>\n",
       "      <th>3</th>\n",
       "      <td>great laptop work excellent laptop work proces...</td>\n",
       "      <td>0.560000</td>\n",
       "      <td>5.0</td>\n",
       "      <td>92</td>\n",
       "      <td>1</td>\n",
       "    </tr>\n",
       "    <tr>\n",
       "      <th>4</th>\n",
       "      <td>practical solid laptop far good like hdmi usbc...</td>\n",
       "      <td>0.362500</td>\n",
       "      <td>5.0</td>\n",
       "      <td>186</td>\n",
       "      <td>1</td>\n",
       "    </tr>\n",
       "  </tbody>\n",
       "</table>\n",
       "</div>"
      ],
      "text/plain": [
       "                                     combined_review  polarity  ratingValue  \\\n",
       "0  super light efficient laptop super light effic...  0.326190          5.0   \n",
       "1  new laptop great far loving new look feel new ...  0.318182          5.0   \n",
       "2  lightweight powerhouse great build quality exc...  0.600000          5.0   \n",
       "3  great laptop work excellent laptop work proces...  0.560000          5.0   \n",
       "4  practical solid laptop far good like hdmi usbc...  0.362500          5.0   \n",
       "\n",
       "   review_length  sentiment  \n",
       "0            119          1  \n",
       "1             52          1  \n",
       "2            199          1  \n",
       "3             92          1  \n",
       "4            186          1  "
      ]
     },
     "execution_count": 44,
     "metadata": {},
     "output_type": "execute_result"
    }
   ],
   "source": [
    "reviews_df = reviews_df.iloc[:, [2, 3, 0, 4, 1]]\n",
    "reviews_df.head()"
   ]
  },
  {
   "cell_type": "code",
   "execution_count": 45,
   "id": "17ca431a",
   "metadata": {},
   "outputs": [
    {
     "data": {
      "text/html": [
       "<div>\n",
       "<style scoped>\n",
       "    .dataframe tbody tr th:only-of-type {\n",
       "        vertical-align: middle;\n",
       "    }\n",
       "\n",
       "    .dataframe tbody tr th {\n",
       "        vertical-align: top;\n",
       "    }\n",
       "\n",
       "    .dataframe thead th {\n",
       "        text-align: right;\n",
       "    }\n",
       "</style>\n",
       "<table border=\"1\" class=\"dataframe\">\n",
       "  <thead>\n",
       "    <tr style=\"text-align: right;\">\n",
       "      <th></th>\n",
       "      <th>combined_review</th>\n",
       "      <th>polarity</th>\n",
       "      <th>ratingValue</th>\n",
       "      <th>review_length</th>\n",
       "      <th>sentiment</th>\n",
       "    </tr>\n",
       "  </thead>\n",
       "  <tbody>\n",
       "    <tr>\n",
       "      <th>278</th>\n",
       "      <td>lightweight powerful play nicely multiple moni...</td>\n",
       "      <td>0.240000</td>\n",
       "      <td>2.0</td>\n",
       "      <td>123</td>\n",
       "      <td>-1</td>\n",
       "    </tr>\n",
       "    <tr>\n",
       "      <th>279</th>\n",
       "      <td>evo framework purchased laptop personal use we...</td>\n",
       "      <td>0.231944</td>\n",
       "      <td>2.0</td>\n",
       "      <td>661</td>\n",
       "      <td>-1</td>\n",
       "    </tr>\n",
       "    <tr>\n",
       "      <th>280</th>\n",
       "      <td>device faulty facing issues usage device fault...</td>\n",
       "      <td>0.000000</td>\n",
       "      <td>2.0</td>\n",
       "      <td>119</td>\n",
       "      <td>-1</td>\n",
       "    </tr>\n",
       "    <tr>\n",
       "      <th>281</th>\n",
       "      <td>waste money worst screen quality ever laptop</td>\n",
       "      <td>-0.600000</td>\n",
       "      <td>2.0</td>\n",
       "      <td>44</td>\n",
       "      <td>-1</td>\n",
       "    </tr>\n",
       "    <tr>\n",
       "      <th>282</th>\n",
       "      <td>dell latitudeinlaptop significant downgrade ma...</td>\n",
       "      <td>0.120265</td>\n",
       "      <td>2.0</td>\n",
       "      <td>148</td>\n",
       "      <td>-1</td>\n",
       "    </tr>\n",
       "    <tr>\n",
       "      <th>283</th>\n",
       "      <td>slow waited weeks computer way slow</td>\n",
       "      <td>-0.300000</td>\n",
       "      <td>2.0</td>\n",
       "      <td>35</td>\n",
       "      <td>-1</td>\n",
       "    </tr>\n",
       "    <tr>\n",
       "      <th>284</th>\n",
       "      <td>solid corporate device great performing device...</td>\n",
       "      <td>0.200000</td>\n",
       "      <td>2.0</td>\n",
       "      <td>62</td>\n",
       "      <td>-1</td>\n",
       "    </tr>\n",
       "    <tr>\n",
       "      <th>285</th>\n",
       "      <td>many complications received new dell came many...</td>\n",
       "      <td>-0.072727</td>\n",
       "      <td>2.0</td>\n",
       "      <td>256</td>\n",
       "      <td>-1</td>\n",
       "    </tr>\n",
       "    <tr>\n",
       "      <th>286</th>\n",
       "      <td>dead arrival good luck far failing usbc ports ...</td>\n",
       "      <td>0.200000</td>\n",
       "      <td>2.0</td>\n",
       "      <td>67</td>\n",
       "      <td>-1</td>\n",
       "    </tr>\n",
       "    <tr>\n",
       "      <th>287</th>\n",
       "      <td>good device poor screen touch support device f...</td>\n",
       "      <td>-0.082803</td>\n",
       "      <td>2.0</td>\n",
       "      <td>293</td>\n",
       "      <td>-1</td>\n",
       "    </tr>\n",
       "    <tr>\n",
       "      <th>288</th>\n",
       "      <td>need user manual please send user manual devic...</td>\n",
       "      <td>0.000000</td>\n",
       "      <td>1.0</td>\n",
       "      <td>81</td>\n",
       "      <td>-1</td>\n",
       "    </tr>\n",
       "    <tr>\n",
       "      <th>289</th>\n",
       "      <td>sr director business service pleased laptop me...</td>\n",
       "      <td>0.350000</td>\n",
       "      <td>1.0</td>\n",
       "      <td>79</td>\n",
       "      <td>-1</td>\n",
       "    </tr>\n",
       "    <tr>\n",
       "      <th>290</th>\n",
       "      <td>blue screen good experience getting blue scree...</td>\n",
       "      <td>0.140000</td>\n",
       "      <td>1.0</td>\n",
       "      <td>112</td>\n",
       "      <td>-1</td>\n",
       "    </tr>\n",
       "    <tr>\n",
       "      <th>291</th>\n",
       "      <td>dont yet dont yet shipping took forever</td>\n",
       "      <td>0.000000</td>\n",
       "      <td>1.0</td>\n",
       "      <td>39</td>\n",
       "      <td>-1</td>\n",
       "    </tr>\n",
       "    <tr>\n",
       "      <th>292</th>\n",
       "      <td>pdp error product description website bug cust...</td>\n",
       "      <td>0.000000</td>\n",
       "      <td>1.0</td>\n",
       "      <td>61</td>\n",
       "      <td>-1</td>\n",
       "    </tr>\n",
       "    <tr>\n",
       "      <th>293</th>\n",
       "      <td>half stuff hasnt arrived half stuff hasnt arrived</td>\n",
       "      <td>-0.166667</td>\n",
       "      <td>1.0</td>\n",
       "      <td>49</td>\n",
       "      <td>-1</td>\n",
       "    </tr>\n",
       "    <tr>\n",
       "      <th>294</th>\n",
       "      <td>first time years dispaointed dell disapointed ...</td>\n",
       "      <td>0.193182</td>\n",
       "      <td>1.0</td>\n",
       "      <td>95</td>\n",
       "      <td>-1</td>\n",
       "    </tr>\n",
       "    <tr>\n",
       "      <th>295</th>\n",
       "      <td>received wrong configuration received wrong co...</td>\n",
       "      <td>-0.203125</td>\n",
       "      <td>1.0</td>\n",
       "      <td>118</td>\n",
       "      <td>-1</td>\n",
       "    </tr>\n",
       "    <tr>\n",
       "      <th>296</th>\n",
       "      <td>horrible customer support never delivered asia...</td>\n",
       "      <td>-0.100000</td>\n",
       "      <td>1.0</td>\n",
       "      <td>175</td>\n",
       "      <td>-1</td>\n",
       "    </tr>\n",
       "    <tr>\n",
       "      <th>297</th>\n",
       "      <td>lost transit refund days since ordered laptop ...</td>\n",
       "      <td>0.000000</td>\n",
       "      <td>1.0</td>\n",
       "      <td>123</td>\n",
       "      <td>-1</td>\n",
       "    </tr>\n",
       "    <tr>\n",
       "      <th>298</th>\n",
       "      <td>cant log unable log department weeks still use</td>\n",
       "      <td>-0.500000</td>\n",
       "      <td>1.0</td>\n",
       "      <td>46</td>\n",
       "      <td>-1</td>\n",
       "    </tr>\n",
       "    <tr>\n",
       "      <th>299</th>\n",
       "      <td>great laptops quality control slipped ordered ...</td>\n",
       "      <td>0.226852</td>\n",
       "      <td>1.0</td>\n",
       "      <td>262</td>\n",
       "      <td>-1</td>\n",
       "    </tr>\n",
       "    <tr>\n",
       "      <th>300</th>\n",
       "      <td>faulty motherboard dell sent laptop faulty mot...</td>\n",
       "      <td>0.000000</td>\n",
       "      <td>1.0</td>\n",
       "      <td>54</td>\n",
       "      <td>-1</td>\n",
       "    </tr>\n",
       "    <tr>\n",
       "      <th>301</th>\n",
       "      <td>dead arrival laptop dead arrival still waiting...</td>\n",
       "      <td>-0.200000</td>\n",
       "      <td>1.0</td>\n",
       "      <td>58</td>\n",
       "      <td>-1</td>\n",
       "    </tr>\n",
       "    <tr>\n",
       "      <th>302</th>\n",
       "      <td>bad quality bad quality overheating keyboardtr...</td>\n",
       "      <td>-0.700000</td>\n",
       "      <td>1.0</td>\n",
       "      <td>59</td>\n",
       "      <td>-1</td>\n",
       "    </tr>\n",
       "    <tr>\n",
       "      <th>303</th>\n",
       "      <td>hassles installation win laptop come required ...</td>\n",
       "      <td>0.800000</td>\n",
       "      <td>1.0</td>\n",
       "      <td>80</td>\n",
       "      <td>-1</td>\n",
       "    </tr>\n",
       "    <tr>\n",
       "      <th>304</th>\n",
       "      <td>broken device laptop broken customer support h...</td>\n",
       "      <td>-0.400000</td>\n",
       "      <td>1.0</td>\n",
       "      <td>52</td>\n",
       "      <td>-1</td>\n",
       "    </tr>\n",
       "  </tbody>\n",
       "</table>\n",
       "</div>"
      ],
      "text/plain": [
       "                                       combined_review  polarity  ratingValue  \\\n",
       "278  lightweight powerful play nicely multiple moni...  0.240000          2.0   \n",
       "279  evo framework purchased laptop personal use we...  0.231944          2.0   \n",
       "280  device faulty facing issues usage device fault...  0.000000          2.0   \n",
       "281       waste money worst screen quality ever laptop -0.600000          2.0   \n",
       "282  dell latitudeinlaptop significant downgrade ma...  0.120265          2.0   \n",
       "283                slow waited weeks computer way slow -0.300000          2.0   \n",
       "284  solid corporate device great performing device...  0.200000          2.0   \n",
       "285  many complications received new dell came many... -0.072727          2.0   \n",
       "286  dead arrival good luck far failing usbc ports ...  0.200000          2.0   \n",
       "287  good device poor screen touch support device f... -0.082803          2.0   \n",
       "288  need user manual please send user manual devic...  0.000000          1.0   \n",
       "289  sr director business service pleased laptop me...  0.350000          1.0   \n",
       "290  blue screen good experience getting blue scree...  0.140000          1.0   \n",
       "291            dont yet dont yet shipping took forever  0.000000          1.0   \n",
       "292  pdp error product description website bug cust...  0.000000          1.0   \n",
       "293  half stuff hasnt arrived half stuff hasnt arrived -0.166667          1.0   \n",
       "294  first time years dispaointed dell disapointed ...  0.193182          1.0   \n",
       "295  received wrong configuration received wrong co... -0.203125          1.0   \n",
       "296  horrible customer support never delivered asia... -0.100000          1.0   \n",
       "297  lost transit refund days since ordered laptop ...  0.000000          1.0   \n",
       "298     cant log unable log department weeks still use -0.500000          1.0   \n",
       "299  great laptops quality control slipped ordered ...  0.226852          1.0   \n",
       "300  faulty motherboard dell sent laptop faulty mot...  0.000000          1.0   \n",
       "301  dead arrival laptop dead arrival still waiting... -0.200000          1.0   \n",
       "302  bad quality bad quality overheating keyboardtr... -0.700000          1.0   \n",
       "303  hassles installation win laptop come required ...  0.800000          1.0   \n",
       "304  broken device laptop broken customer support h... -0.400000          1.0   \n",
       "\n",
       "     review_length  sentiment  \n",
       "278            123         -1  \n",
       "279            661         -1  \n",
       "280            119         -1  \n",
       "281             44         -1  \n",
       "282            148         -1  \n",
       "283             35         -1  \n",
       "284             62         -1  \n",
       "285            256         -1  \n",
       "286             67         -1  \n",
       "287            293         -1  \n",
       "288             81         -1  \n",
       "289             79         -1  \n",
       "290            112         -1  \n",
       "291             39         -1  \n",
       "292             61         -1  \n",
       "293             49         -1  \n",
       "294             95         -1  \n",
       "295            118         -1  \n",
       "296            175         -1  \n",
       "297            123         -1  \n",
       "298             46         -1  \n",
       "299            262         -1  \n",
       "300             54         -1  \n",
       "301             58         -1  \n",
       "302             59         -1  \n",
       "303             80         -1  \n",
       "304             52         -1  "
      ]
     },
     "execution_count": 45,
     "metadata": {},
     "output_type": "execute_result"
    }
   ],
   "source": [
    "# the reviews that contain negative sentiments\n",
    "reviews_df[reviews_df['sentiment']== -1]"
   ]
  },
  {
   "cell_type": "code",
   "execution_count": 46,
   "id": "4014632a",
   "metadata": {},
   "outputs": [
    {
     "data": {
      "text/html": [
       "<div>\n",
       "<style scoped>\n",
       "    .dataframe tbody tr th:only-of-type {\n",
       "        vertical-align: middle;\n",
       "    }\n",
       "\n",
       "    .dataframe tbody tr th {\n",
       "        vertical-align: top;\n",
       "    }\n",
       "\n",
       "    .dataframe thead th {\n",
       "        text-align: right;\n",
       "    }\n",
       "</style>\n",
       "<table border=\"1\" class=\"dataframe\">\n",
       "  <thead>\n",
       "    <tr style=\"text-align: right;\">\n",
       "      <th></th>\n",
       "      <th>combined_review</th>\n",
       "      <th>polarity</th>\n",
       "      <th>ratingValue</th>\n",
       "      <th>review_length</th>\n",
       "      <th>sentiment</th>\n",
       "    </tr>\n",
       "  </thead>\n",
       "  <tbody>\n",
       "    <tr>\n",
       "      <th>260</th>\n",
       "      <td>good last dell purchase less happy individual ...</td>\n",
       "      <td>0.266667</td>\n",
       "      <td>3.0</td>\n",
       "      <td>78</td>\n",
       "      <td>0</td>\n",
       "    </tr>\n",
       "    <tr>\n",
       "      <th>261</th>\n",
       "      <td>user friendly user friendly love</td>\n",
       "      <td>0.416667</td>\n",
       "      <td>3.0</td>\n",
       "      <td>32</td>\n",
       "      <td>0</td>\n",
       "    </tr>\n",
       "    <tr>\n",
       "      <th>262</th>\n",
       "      <td>needs memory function like workstation pc came...</td>\n",
       "      <td>0.311111</td>\n",
       "      <td>3.0</td>\n",
       "      <td>136</td>\n",
       "      <td>0</td>\n",
       "    </tr>\n",
       "    <tr>\n",
       "      <th>263</th>\n",
       "      <td>work happy latitude also doking station thunde...</td>\n",
       "      <td>0.800000</td>\n",
       "      <td>3.0</td>\n",
       "      <td>65</td>\n",
       "      <td>0</td>\n",
       "    </tr>\n",
       "    <tr>\n",
       "      <th>264</th>\n",
       "      <td>great laptop great choice laptop upgrade offic...</td>\n",
       "      <td>0.800000</td>\n",
       "      <td>3.0</td>\n",
       "      <td>52</td>\n",
       "      <td>0</td>\n",
       "    </tr>\n",
       "    <tr>\n",
       "      <th>265</th>\n",
       "      <td>want quit standby mode computer works well exc...</td>\n",
       "      <td>0.394949</td>\n",
       "      <td>3.0</td>\n",
       "      <td>155</td>\n",
       "      <td>0</td>\n",
       "    </tr>\n",
       "    <tr>\n",
       "      <th>266</th>\n",
       "      <td>fine dependable machine</td>\n",
       "      <td>0.416667</td>\n",
       "      <td>3.0</td>\n",
       "      <td>23</td>\n",
       "      <td>0</td>\n",
       "    </tr>\n",
       "    <tr>\n",
       "      <th>267</th>\n",
       "      <td>dell latitude xcto little flimsy less ports sc...</td>\n",
       "      <td>0.045387</td>\n",
       "      <td>3.0</td>\n",
       "      <td>94</td>\n",
       "      <td>0</td>\n",
       "    </tr>\n",
       "    <tr>\n",
       "      <th>268</th>\n",
       "      <td>potential exec laptop replacement laptop light...</td>\n",
       "      <td>0.245000</td>\n",
       "      <td>3.0</td>\n",
       "      <td>356</td>\n",
       "      <td>0</td>\n",
       "    </tr>\n",
       "    <tr>\n",
       "      <th>269</th>\n",
       "      <td>portable vs traditional device slim portable e...</td>\n",
       "      <td>0.332143</td>\n",
       "      <td>3.0</td>\n",
       "      <td>185</td>\n",
       "      <td>0</td>\n",
       "    </tr>\n",
       "    <tr>\n",
       "      <th>270</th>\n",
       "      <td>improvement version years ago improvement vers...</td>\n",
       "      <td>-0.274286</td>\n",
       "      <td>3.0</td>\n",
       "      <td>191</td>\n",
       "      <td>0</td>\n",
       "    </tr>\n",
       "    <tr>\n",
       "      <th>271</th>\n",
       "      <td>laptop great ordering process went wrong purch...</td>\n",
       "      <td>0.135000</td>\n",
       "      <td>3.0</td>\n",
       "      <td>184</td>\n",
       "      <td>0</td>\n",
       "    </tr>\n",
       "    <tr>\n",
       "      <th>272</th>\n",
       "      <td>product came faulty display product came fault...</td>\n",
       "      <td>0.000000</td>\n",
       "      <td>3.0</td>\n",
       "      <td>55</td>\n",
       "      <td>0</td>\n",
       "    </tr>\n",
       "    <tr>\n",
       "      <th>273</th>\n",
       "      <td>unleashing productivity onthego latitude latit...</td>\n",
       "      <td>0.306250</td>\n",
       "      <td>3.0</td>\n",
       "      <td>429</td>\n",
       "      <td>0</td>\n",
       "    </tr>\n",
       "    <tr>\n",
       "      <th>274</th>\n",
       "      <td>good entertainment instead business use sound ...</td>\n",
       "      <td>0.167273</td>\n",
       "      <td>3.0</td>\n",
       "      <td>301</td>\n",
       "      <td>0</td>\n",
       "    </tr>\n",
       "    <tr>\n",
       "      <th>275</th>\n",
       "      <td>experience intial use sorts trouble getting so...</td>\n",
       "      <td>-0.066667</td>\n",
       "      <td>3.0</td>\n",
       "      <td>163</td>\n",
       "      <td>0</td>\n",
       "    </tr>\n",
       "    <tr>\n",
       "      <th>276</th>\n",
       "      <td>bios problem needed use external keyboard acce...</td>\n",
       "      <td>0.000000</td>\n",
       "      <td>3.0</td>\n",
       "      <td>52</td>\n",
       "      <td>0</td>\n",
       "    </tr>\n",
       "    <tr>\n",
       "      <th>277</th>\n",
       "      <td>nice laptop windows software kept crashing sof...</td>\n",
       "      <td>0.600000</td>\n",
       "      <td>3.0</td>\n",
       "      <td>69</td>\n",
       "      <td>0</td>\n",
       "    </tr>\n",
       "  </tbody>\n",
       "</table>\n",
       "</div>"
      ],
      "text/plain": [
       "                                       combined_review  polarity  ratingValue  \\\n",
       "260  good last dell purchase less happy individual ...  0.266667          3.0   \n",
       "261                   user friendly user friendly love  0.416667          3.0   \n",
       "262  needs memory function like workstation pc came...  0.311111          3.0   \n",
       "263  work happy latitude also doking station thunde...  0.800000          3.0   \n",
       "264  great laptop great choice laptop upgrade offic...  0.800000          3.0   \n",
       "265  want quit standby mode computer works well exc...  0.394949          3.0   \n",
       "266                            fine dependable machine  0.416667          3.0   \n",
       "267  dell latitude xcto little flimsy less ports sc...  0.045387          3.0   \n",
       "268  potential exec laptop replacement laptop light...  0.245000          3.0   \n",
       "269  portable vs traditional device slim portable e...  0.332143          3.0   \n",
       "270  improvement version years ago improvement vers... -0.274286          3.0   \n",
       "271  laptop great ordering process went wrong purch...  0.135000          3.0   \n",
       "272  product came faulty display product came fault...  0.000000          3.0   \n",
       "273  unleashing productivity onthego latitude latit...  0.306250          3.0   \n",
       "274  good entertainment instead business use sound ...  0.167273          3.0   \n",
       "275  experience intial use sorts trouble getting so... -0.066667          3.0   \n",
       "276  bios problem needed use external keyboard acce...  0.000000          3.0   \n",
       "277  nice laptop windows software kept crashing sof...  0.600000          3.0   \n",
       "\n",
       "     review_length  sentiment  \n",
       "260             78          0  \n",
       "261             32          0  \n",
       "262            136          0  \n",
       "263             65          0  \n",
       "264             52          0  \n",
       "265            155          0  \n",
       "266             23          0  \n",
       "267             94          0  \n",
       "268            356          0  \n",
       "269            185          0  \n",
       "270            191          0  \n",
       "271            184          0  \n",
       "272             55          0  \n",
       "273            429          0  \n",
       "274            301          0  \n",
       "275            163          0  \n",
       "276             52          0  \n",
       "277             69          0  "
      ]
     },
     "execution_count": 46,
     "metadata": {},
     "output_type": "execute_result"
    }
   ],
   "source": [
    "# the reviews having neutral sentiments\n",
    "reviews_df[reviews_df['sentiment']== 0]"
   ]
  },
  {
   "cell_type": "code",
   "execution_count": 47,
   "id": "ce43b222",
   "metadata": {},
   "outputs": [
    {
     "data": {
      "text/plain": [
       "27"
      ]
     },
     "execution_count": 47,
     "metadata": {},
     "output_type": "execute_result"
    }
   ],
   "source": [
    "# Total number of negative sentiments\n",
    "reviews_df[reviews_df['sentiment']== -1].shape[0]"
   ]
  },
  {
   "cell_type": "code",
   "execution_count": 48,
   "id": "1c1dd522",
   "metadata": {},
   "outputs": [
    {
     "data": {
      "text/plain": [
       "260"
      ]
     },
     "execution_count": 48,
     "metadata": {},
     "output_type": "execute_result"
    }
   ],
   "source": [
    "# total number of positive sentiment\n",
    "reviews_df[reviews_df['sentiment']== 1].shape[0]"
   ]
  },
  {
   "cell_type": "code",
   "execution_count": 49,
   "id": "44335e51",
   "metadata": {},
   "outputs": [
    {
     "data": {
      "text/plain": [
       "18"
      ]
     },
     "execution_count": 49,
     "metadata": {},
     "output_type": "execute_result"
    }
   ],
   "source": [
    "# total number of neutral sentiment\n",
    "reviews_df[reviews_df['sentiment']== 0].shape[0]"
   ]
  },
  {
   "cell_type": "code",
   "execution_count": 50,
   "id": "DZBU7OYq-dx5",
   "metadata": {
    "colab": {
     "base_uri": "https://localhost:8080/"
    },
    "id": "DZBU7OYq-dx5",
    "outputId": "72f8c683-360d-4d54-e2f6-eb1dace19cfb"
   },
   "outputs": [
    {
     "name": "stdout",
     "output_type": "stream",
     "text": [
      "<class 'pandas.core.frame.DataFrame'>\n",
      "Index: 305 entries, 0 to 304\n",
      "Data columns (total 5 columns):\n",
      " #   Column           Non-Null Count  Dtype  \n",
      "---  ------           --------------  -----  \n",
      " 0   combined_review  305 non-null    object \n",
      " 1   polarity         305 non-null    float64\n",
      " 2   ratingValue      305 non-null    float64\n",
      " 3   review_length    305 non-null    int64  \n",
      " 4   sentiment        305 non-null    int32  \n",
      "dtypes: float64(2), int32(1), int64(1), object(1)\n",
      "memory usage: 13.1+ KB\n"
     ]
    }
   ],
   "source": [
    "reviews_df.info()"
   ]
  },
  {
   "cell_type": "markdown",
   "id": "76CN_GGEqTXy",
   "metadata": {
    "id": "76CN_GGEqTXy"
   },
   "source": [
    "# **MODEL BUILDING**"
   ]
  },
  {
   "cell_type": "markdown",
   "id": "32L0Dnn3wTmg",
   "metadata": {
    "id": "32L0Dnn3wTmg"
   },
   "source": [
    "### Split the dataset into features (X) and target variable (y)"
   ]
  },
  {
   "cell_type": "code",
   "execution_count": 51,
   "id": "BnzfT4bRe-PN",
   "metadata": {
    "id": "BnzfT4bRe-PN"
   },
   "outputs": [],
   "source": [
    "from sklearn.linear_model import LogisticRegression\n",
    "from sklearn.model_selection import train_test_split, GridSearchCV\n",
    "from sklearn.feature_extraction.text import CountVectorizer\n",
    "from sklearn.metrics import accuracy_score"
   ]
  },
  {
   "cell_type": "code",
   "execution_count": 52,
   "id": "zRcV9WwhwUjB",
   "metadata": {
    "colab": {
     "base_uri": "https://localhost:8080/"
    },
    "id": "zRcV9WwhwUjB",
    "outputId": "a83a8456-5003-4986-f8ce-6baee4f478a3"
   },
   "outputs": [
    {
     "data": {
      "text/plain": [
       "(                                       combined_review  polarity  ratingValue  \\\n",
       " 0    super light efficient laptop super light effic...  0.326190          5.0   \n",
       " 1    new laptop great far loving new look feel new ...  0.318182          5.0   \n",
       " 2    lightweight powerhouse great build quality exc...  0.600000          5.0   \n",
       " 3    great laptop work excellent laptop work proces...  0.560000          5.0   \n",
       " 4    practical solid laptop far good like hdmi usbc...  0.362500          5.0   \n",
       " ..                                                 ...       ...          ...   \n",
       " 300  faulty motherboard dell sent laptop faulty mot...  0.000000          1.0   \n",
       " 301  dead arrival laptop dead arrival still waiting... -0.200000          1.0   \n",
       " 302  bad quality bad quality overheating keyboardtr... -0.700000          1.0   \n",
       " 303  hassles installation win laptop come required ...  0.800000          1.0   \n",
       " 304  broken device laptop broken customer support h... -0.400000          1.0   \n",
       " \n",
       "      review_length  \n",
       " 0              119  \n",
       " 1               52  \n",
       " 2              199  \n",
       " 3               92  \n",
       " 4              186  \n",
       " ..             ...  \n",
       " 300             54  \n",
       " 301             58  \n",
       " 302             59  \n",
       " 303             80  \n",
       " 304             52  \n",
       " \n",
       " [305 rows x 4 columns],\n",
       " 0      1\n",
       " 1      1\n",
       " 2      1\n",
       " 3      1\n",
       " 4      1\n",
       "       ..\n",
       " 300   -1\n",
       " 301   -1\n",
       " 302   -1\n",
       " 303   -1\n",
       " 304   -1\n",
       " Name: sentiment, Length: 305, dtype: int32)"
      ]
     },
     "execution_count": 52,
     "metadata": {},
     "output_type": "execute_result"
    }
   ],
   "source": [
    "X_col = reviews_df.drop('sentiment', axis=1)\n",
    "Y_col = reviews_df['sentiment']\n",
    "X_col,Y_col"
   ]
  },
  {
   "cell_type": "markdown",
   "id": "g0QIQA9TwjS8",
   "metadata": {
    "id": "g0QIQA9TwjS8"
   },
   "source": [
    "## Creating the array of columns as required for model building."
   ]
  },
  {
   "cell_type": "code",
   "execution_count": 53,
   "id": "_LDLQzOjwksM",
   "metadata": {
    "id": "_LDLQzOjwksM"
   },
   "outputs": [],
   "source": [
    "array = reviews_df.values\n",
    "X = array[:, 0:-1]\n",
    "Y = array[:, -1]"
   ]
  },
  {
   "cell_type": "code",
   "execution_count": 54,
   "id": "vha7ht82wt6s",
   "metadata": {
    "colab": {
     "base_uri": "https://localhost:8080/",
     "height": 423
    },
    "id": "vha7ht82wt6s",
    "outputId": "96f7aca2-2050-4b51-96e0-2fdbaa6018fe"
   },
   "outputs": [
    {
     "data": {
      "text/html": [
       "<div>\n",
       "<style scoped>\n",
       "    .dataframe tbody tr th:only-of-type {\n",
       "        vertical-align: middle;\n",
       "    }\n",
       "\n",
       "    .dataframe tbody tr th {\n",
       "        vertical-align: top;\n",
       "    }\n",
       "\n",
       "    .dataframe thead th {\n",
       "        text-align: right;\n",
       "    }\n",
       "</style>\n",
       "<table border=\"1\" class=\"dataframe\">\n",
       "  <thead>\n",
       "    <tr style=\"text-align: right;\">\n",
       "      <th></th>\n",
       "      <th>0</th>\n",
       "    </tr>\n",
       "  </thead>\n",
       "  <tbody>\n",
       "    <tr>\n",
       "      <th>0</th>\n",
       "      <td>1</td>\n",
       "    </tr>\n",
       "    <tr>\n",
       "      <th>1</th>\n",
       "      <td>1</td>\n",
       "    </tr>\n",
       "    <tr>\n",
       "      <th>2</th>\n",
       "      <td>1</td>\n",
       "    </tr>\n",
       "    <tr>\n",
       "      <th>3</th>\n",
       "      <td>1</td>\n",
       "    </tr>\n",
       "    <tr>\n",
       "      <th>4</th>\n",
       "      <td>1</td>\n",
       "    </tr>\n",
       "    <tr>\n",
       "      <th>...</th>\n",
       "      <td>...</td>\n",
       "    </tr>\n",
       "    <tr>\n",
       "      <th>300</th>\n",
       "      <td>-1</td>\n",
       "    </tr>\n",
       "    <tr>\n",
       "      <th>301</th>\n",
       "      <td>-1</td>\n",
       "    </tr>\n",
       "    <tr>\n",
       "      <th>302</th>\n",
       "      <td>-1</td>\n",
       "    </tr>\n",
       "    <tr>\n",
       "      <th>303</th>\n",
       "      <td>-1</td>\n",
       "    </tr>\n",
       "    <tr>\n",
       "      <th>304</th>\n",
       "      <td>-1</td>\n",
       "    </tr>\n",
       "  </tbody>\n",
       "</table>\n",
       "<p>305 rows × 1 columns</p>\n",
       "</div>"
      ],
      "text/plain": [
       "      0\n",
       "0     1\n",
       "1     1\n",
       "2     1\n",
       "3     1\n",
       "4     1\n",
       "..   ..\n",
       "300  -1\n",
       "301  -1\n",
       "302  -1\n",
       "303  -1\n",
       "304  -1\n",
       "\n",
       "[305 rows x 1 columns]"
      ]
     },
     "execution_count": 54,
     "metadata": {},
     "output_type": "execute_result"
    }
   ],
   "source": [
    "pd.DataFrame(Y)"
   ]
  },
  {
   "cell_type": "code",
   "execution_count": 55,
   "id": "9fvh-Dtgxa9L",
   "metadata": {
    "colab": {
     "base_uri": "https://localhost:8080/",
     "height": 423
    },
    "id": "9fvh-Dtgxa9L",
    "outputId": "62e3bf56-6ff7-479e-c7dd-8e1e6844f79c"
   },
   "outputs": [
    {
     "data": {
      "text/html": [
       "<div>\n",
       "<style scoped>\n",
       "    .dataframe tbody tr th:only-of-type {\n",
       "        vertical-align: middle;\n",
       "    }\n",
       "\n",
       "    .dataframe tbody tr th {\n",
       "        vertical-align: top;\n",
       "    }\n",
       "\n",
       "    .dataframe thead th {\n",
       "        text-align: right;\n",
       "    }\n",
       "</style>\n",
       "<table border=\"1\" class=\"dataframe\">\n",
       "  <thead>\n",
       "    <tr style=\"text-align: right;\">\n",
       "      <th></th>\n",
       "      <th>0</th>\n",
       "      <th>1</th>\n",
       "      <th>2</th>\n",
       "      <th>3</th>\n",
       "    </tr>\n",
       "  </thead>\n",
       "  <tbody>\n",
       "    <tr>\n",
       "      <th>0</th>\n",
       "      <td>super light efficient laptop super light effic...</td>\n",
       "      <td>0.32619</td>\n",
       "      <td>5.0</td>\n",
       "      <td>119</td>\n",
       "    </tr>\n",
       "    <tr>\n",
       "      <th>1</th>\n",
       "      <td>new laptop great far loving new look feel new ...</td>\n",
       "      <td>0.318182</td>\n",
       "      <td>5.0</td>\n",
       "      <td>52</td>\n",
       "    </tr>\n",
       "    <tr>\n",
       "      <th>2</th>\n",
       "      <td>lightweight powerhouse great build quality exc...</td>\n",
       "      <td>0.6</td>\n",
       "      <td>5.0</td>\n",
       "      <td>199</td>\n",
       "    </tr>\n",
       "    <tr>\n",
       "      <th>3</th>\n",
       "      <td>great laptop work excellent laptop work proces...</td>\n",
       "      <td>0.56</td>\n",
       "      <td>5.0</td>\n",
       "      <td>92</td>\n",
       "    </tr>\n",
       "    <tr>\n",
       "      <th>4</th>\n",
       "      <td>practical solid laptop far good like hdmi usbc...</td>\n",
       "      <td>0.3625</td>\n",
       "      <td>5.0</td>\n",
       "      <td>186</td>\n",
       "    </tr>\n",
       "    <tr>\n",
       "      <th>...</th>\n",
       "      <td>...</td>\n",
       "      <td>...</td>\n",
       "      <td>...</td>\n",
       "      <td>...</td>\n",
       "    </tr>\n",
       "    <tr>\n",
       "      <th>300</th>\n",
       "      <td>faulty motherboard dell sent laptop faulty mot...</td>\n",
       "      <td>0.0</td>\n",
       "      <td>1.0</td>\n",
       "      <td>54</td>\n",
       "    </tr>\n",
       "    <tr>\n",
       "      <th>301</th>\n",
       "      <td>dead arrival laptop dead arrival still waiting...</td>\n",
       "      <td>-0.2</td>\n",
       "      <td>1.0</td>\n",
       "      <td>58</td>\n",
       "    </tr>\n",
       "    <tr>\n",
       "      <th>302</th>\n",
       "      <td>bad quality bad quality overheating keyboardtr...</td>\n",
       "      <td>-0.7</td>\n",
       "      <td>1.0</td>\n",
       "      <td>59</td>\n",
       "    </tr>\n",
       "    <tr>\n",
       "      <th>303</th>\n",
       "      <td>hassles installation win laptop come required ...</td>\n",
       "      <td>0.8</td>\n",
       "      <td>1.0</td>\n",
       "      <td>80</td>\n",
       "    </tr>\n",
       "    <tr>\n",
       "      <th>304</th>\n",
       "      <td>broken device laptop broken customer support h...</td>\n",
       "      <td>-0.4</td>\n",
       "      <td>1.0</td>\n",
       "      <td>52</td>\n",
       "    </tr>\n",
       "  </tbody>\n",
       "</table>\n",
       "<p>305 rows × 4 columns</p>\n",
       "</div>"
      ],
      "text/plain": [
       "                                                     0         1    2    3\n",
       "0    super light efficient laptop super light effic...   0.32619  5.0  119\n",
       "1    new laptop great far loving new look feel new ...  0.318182  5.0   52\n",
       "2    lightweight powerhouse great build quality exc...       0.6  5.0  199\n",
       "3    great laptop work excellent laptop work proces...      0.56  5.0   92\n",
       "4    practical solid laptop far good like hdmi usbc...    0.3625  5.0  186\n",
       "..                                                 ...       ...  ...  ...\n",
       "300  faulty motherboard dell sent laptop faulty mot...       0.0  1.0   54\n",
       "301  dead arrival laptop dead arrival still waiting...      -0.2  1.0   58\n",
       "302  bad quality bad quality overheating keyboardtr...      -0.7  1.0   59\n",
       "303  hassles installation win laptop come required ...       0.8  1.0   80\n",
       "304  broken device laptop broken customer support h...      -0.4  1.0   52\n",
       "\n",
       "[305 rows x 4 columns]"
      ]
     },
     "execution_count": 55,
     "metadata": {},
     "output_type": "execute_result"
    }
   ],
   "source": [
    "pd.DataFrame(X)"
   ]
  },
  {
   "cell_type": "markdown",
   "id": "8M_PXJNlqYlc",
   "metadata": {
    "id": "8M_PXJNlqYlc"
   },
   "source": [
    "## Data Splitting"
   ]
  },
  {
   "cell_type": "code",
   "execution_count": 56,
   "id": "V5_iwZ2GnwJG",
   "metadata": {
    "id": "V5_iwZ2GnwJG"
   },
   "outputs": [],
   "source": [
    "from sklearn.model_selection import train_test_split"
   ]
  },
  {
   "cell_type": "markdown",
   "id": "qo0KyURtqt1q",
   "metadata": {
    "id": "qo0KyURtqt1q"
   },
   "source": [
    "### Splitting the data into training and test data-subsets"
   ]
  },
  {
   "cell_type": "code",
   "execution_count": 57,
   "id": "2DBofNxyqr8F",
   "metadata": {
    "colab": {
     "base_uri": "https://localhost:8080/"
    },
    "id": "2DBofNxyqr8F",
    "outputId": "df9a01c7-ef0e-477e-8c65-2cf1e5ab49a7"
   },
   "outputs": [
    {
     "name": "stdout",
     "output_type": "stream",
     "text": [
      "X train: (213, 4)\n",
      "y train: (213,)\n",
      "X test: (92, 4)\n",
      "y test: (92,)\n"
     ]
    }
   ],
   "source": [
    "X_train,X_test,y_train,y_test = train_test_split(X,Y,test_size=0.3,random_state=42)\n",
    "print(f\"X train: {X_train.shape}\")\n",
    "print(f\"y train: {y_train.shape}\")\n",
    "print(f\"X test: {X_test.shape}\")\n",
    "print(f\"y test: {y_test.shape}\")\n",
    "# where sentiment column is our target variable-column in our combined_review dataset"
   ]
  },
  {
   "cell_type": "code",
   "execution_count": 58,
   "id": "DgJW4Vz_IFMH",
   "metadata": {
    "colab": {
     "base_uri": "https://localhost:8080/"
    },
    "id": "DgJW4Vz_IFMH",
    "outputId": "43c7328d-c40f-47c0-ba0d-bdf939276cfe"
   },
   "outputs": [
    {
     "data": {
      "text/plain": [
       "(array([['best computer gorgeous graphics color speed', 0.85, 5.0, 43],\n",
       "        ['great business laptop delivers sleek laptop beautiful dark graysilver finish runs superfast got configured gb ram camera quality good much better laptops years ago exceptional excellent sound quality fourspeaker setup bit heavy tablet mode depends laptops chassis pick worthwhile upgrade coming anything',\n",
       "         0.5066666666666667, 5.0, 303],\n",
       "        ['amazing laptop laptop amazing lightweight powerful easy carry around feels sturdy touchpad keyboard responsive highly recommended',\n",
       "         0.41866666666666674, 5.0, 129],\n",
       "        ['awesome laptop easy issue full charging gives long time durability',\n",
       "         0.4333333333333333, 5.0, 66],\n",
       "        ['great fit works exactly expected', 0.3666666666666667, 4.0, 32],\n",
       "        ['laptops use x laptops throughout office issues seem cleared latest model',\n",
       "         0.5, 5.0, 72],\n",
       "        ['lightweight champion fantastic laptop nice light super powerful price',\n",
       "         0.4066666666666666, 5.0, 69],\n",
       "        ['youll look like corporate drone gets job done perfectly fine exciting everything functional average surprisingly heavily',\n",
       "         0.07333333333333333, 4.0, 120],\n",
       "        ['perfect computer small business owner absolutely love new computer runs many programs seamlessly phenomenal battery life great small business owner',\n",
       "         0.36704545454545456, 5.0, 147],\n",
       "        ['latitude laptop love unit lightweight functional', 0.5, 5.0, 48],\n",
       "        ['earl pedersen financial advisor securian financial delivery days earlier estimate',\n",
       "         0.0, 5.0, 81],\n",
       "        ['happy latitude owner rock solid hardware beautiful display',\n",
       "         0.5499999999999999, 5.0, 58],\n",
       "        ['experience intial use sorts trouble getting software installed eg multiple instances blue screen death sorting hardward issues eg camera working microphone quality',\n",
       "         -0.06666666666666667, 3.0, 163],\n",
       "        ['sleek light weight nice finishing', 0.5, 5.0, 33],\n",
       "        ['excellent base platform use standard user platform provides enough power diverse workload',\n",
       "         0.04999999999999999, 5.0, 89],\n",
       "        ['overall use dell latitude dell works well home office use monday friday day long connects wireless wired fine dependable doesnt crash keep date windows dell updates depend everyday get work done',\n",
       "         0.04166666666666667, 5.0, 194],\n",
       "        ['dell latitude btx excellent option dell latitude btx sleek fast battery lasts forever far im happy',\n",
       "         0.525, 5.0, 98],\n",
       "        ['great modelyear revisions thrilled changes seriesthe ultralight chassis changes coolingventilation placement well addition another usba port hits clients thanks',\n",
       "         0.5333333333333333, 5.0, 160],\n",
       "        ['lightweight compact yet powerful never fan dell products past always imagined bulky heavy tastes back quite pleased laptop used triangle laptop quality power style weight surprised find actually solves three well played dell ill keep consideration update gaming rig case youve improved area well',\n",
       "         -0.0062500000000000056, 5.0, 295],\n",
       "        ['great professional laptop great professional laptop thing thin light weight also get hot',\n",
       "         0.29285714285714287, 4.0, 88],\n",
       "        ['lost transit refund days since ordered laptop dhl say cant find dell keep saying investigated probably using money refunded',\n",
       "         0.0, 1.0, 123],\n",
       "        ['new lightweight portable good battery experience takes little getting used new track pad helped adjust sensitivity reduced sensitivity prevent random clicks apps matlab installed work faster previous older latitude model screen real estate bit tighter use pinch track pad zoom helpful',\n",
       "         0.060653409090909084, 5.0, 284],\n",
       "        ['exceptional performance build quality price exceptional performance build quality price',\n",
       "         0.6666666666666666, 5.0, 87],\n",
       "        ['dell latitude gtco btx version gtco version latitude excellent light responsive keyboard necessary chip plugin options turns automatically opened using facial recognition ready use short amount time btx version latitude returned dell come requested required options',\n",
       "         0.26666666666666666, 5.0, 265],\n",
       "        ['well designed powerful compact laptop laptop terrific dell really stepped continues impress thin form factor incredibly lightweight dont deceived small size packs punch processor super fast snappy ports need business battery lasts lasts screen clarity camera quality make working breeze keys comfortable feel nice type touchpad large useful love power button towards top right color beautiful deep blue looks sharp',\n",
       "         0.25307017543859645, 5.0, 414],\n",
       "        ['dont yet dont yet shipping took forever', 0.0, 1.0, 39],\n",
       "        ['small issue keyboard excellent otherwise complaint would keyboard feels bit clumsy middle doesnt feel well supported device excellent',\n",
       "         0.19166666666666665, 5.0, 133],\n",
       "        ['fast lightweight fast lightweight runs cool', 0.25, 4.0, 43],\n",
       "        ['impressive impressive nice configuration options speed powerand durability built laptop',\n",
       "         0.8666666666666667, 5.0, 87],\n",
       "        ['good small light powerful', 0.2875, 4.0, 25],\n",
       "        ['great laptop great laptop use work home screen size perfect love flexibility move around house without dropping wifi minor issue month would blue screen every often every couple weeks seems resolved applying updates get lot use laptop would recommend',\n",
       "         0.5083333333333334, 4.0, 250],\n",
       "        ['half stuff hasnt arrived half stuff hasnt arrived',\n",
       "         -0.16666666666666666, 1.0, 49],\n",
       "        ['excellent laptop fine laptop accommodates needs',\n",
       "         0.7083333333333334, 5.0, 47],\n",
       "        ['solid corporate device great performing device corporate usage',\n",
       "         0.2, 2.0, 62],\n",
       "        ['latitude great choice powerful laptop easy setting installation great performance',\n",
       "         0.5833333333333334, 5.0, 81],\n",
       "        ['favorite latitude model date ive fortunate enough try new series laptops far favorite large small screen right performing daily tasks best enhancement besides latest processor series speakers throw sound whereas past theyd throw downwards hearing audio newer model much better past ill probably buying many within near future',\n",
       "         0.1943181818181818, 5.0, 325],\n",
       "        ['easy order setup easy order process easy setup im glad running fo',\n",
       "         0.45, 4.0, 65],\n",
       "        ['great travel workstation wife needed new work system one went works great light powerful acts personal workstation home easy travel laptop go',\n",
       "         0.4099567099567099, 5.0, 141],\n",
       "        ['dell review company considering switching dell laptops different brand far weve impressed build quality overall features laptop far biggest complaints separation lack separation backspace enter key wide angle view integrated camera minor things users sharing feedback id say great machine',\n",
       "         0.20555555555555557, 4.0, 288],\n",
       "        ['great system nice hardware laptop powerful great hardware small sleek profile still issue trackpad windows issue dell glad see previous conserns addresses model',\n",
       "         0.36904761904761907, 5.0, 160],\n",
       "        ['quality laptop powerful works great work battery limiter works set plugged time build quality good havent felt frame flex keys good tactile feel thunderbolt port works great hub monitor',\n",
       "         0.6599999999999999, 5.0, 185],\n",
       "        ['nice blue nice weight new blue color looks nice ultralight model offers noticeable weight reduction lot',\n",
       "         0.29090909090909095, 4.0, 103],\n",
       "        ['faulty motherboard dell sent laptop faulty motherboard', 0.0,\n",
       "         1.0, 54],\n",
       "        ['great performance jump great laptop chance add better performance cpu p recommend also add new mp camera nits screen perfect combo',\n",
       "         0.6472727272727272, 5.0, 130],\n",
       "        ['amazing amazing mostly mac user laptop checks boxes loving speed size everything want laptop screen beautiful layout nice decent weight',\n",
       "         0.5595238095238095, 5.0, 135],\n",
       "        ['new latitude laptop light powerful screen excellent docking simple one usbc connection good go',\n",
       "         0.4227272727272727, 5.0, 94],\n",
       "        ['great working good value money', 0.75, 5.0, 30],\n",
       "        ['dell latitudeinlaptop significant downgrade materials quality compare previous version parts showing design flow new please see picture use week new',\n",
       "         0.12026515151515152, 2.0, 148],\n",
       "        ['need user manual please send user manual device need learn fully utilize features',\n",
       "         0.0, 1.0, 81],\n",
       "        ['good device poor screen touch support device fast responsive office applications solid feel however little heavier expected disappointed touch screen clamshell model provides basic touch support doesnt support active pens based high unit price poor touch screen support struggle recommend unit',\n",
       "         -0.08280303030303031, 2.0, 293],\n",
       "        ['good light laptop good light laptop slight improvements im hoping improved usbc connector bit resilient wear tear overly large usbc connector docking stations',\n",
       "         0.37460317460317466, 5.0, 158],\n",
       "        ['year old daughters new laptop happy service provided dell initially wrong model sent however quickly courteously exchanged correct one money initially paid promptly refunded soon original incorrect model reached dells sydney nsw office reside long way away sydney regional qld thus turnaround time impressive daughter course extremely happy new technology first time either us ever seen used windows intuitive easier navigate windows predecessor laptop latest intel th gen core processor gb memory extremely fast',\n",
       "         0.31055194805194797, 5.0, 512],\n",
       "        ['lightweight powerhouse great build quality excellent screen good port options keyboard quality comfortable type trackpad feels responsive accurate weight laptop outstanding perfect daily work commute',\n",
       "         0.6, 5.0, 199],\n",
       "        ['great laptop performance laptop great', 0.8, 5.0, 37],\n",
       "        ['working spreadsheets get one great build quality amazing performance ideal users require little bit additional power day day use',\n",
       "         0.5281250000000001, 5.0, 128],\n",
       "        ['device tested well built performed well round good corporate device device tested well built performed well round good corporate device',\n",
       "         0.16666666666666666, 5.0, 135],\n",
       "        ['love computer easy set light weight durable',\n",
       "         0.4444444444444445, 5.0, 43],\n",
       "        ['great business laptop device works great reason give stars weight',\n",
       "         0.8, 4.0, 65],\n",
       "        ['fine dependable machine', 0.4166666666666667, 3.0, 23],\n",
       "        ['excellent laptop exceptional battery life laptop came core processor power cores efficiency cores gb ram gb nvme drive screen nontouch easy read bright comfortable size set scale accommodate old eyes keyboard touch pad work feel great set system log facial recognition fingerprint facial recognition works surprisingly well low light time didnt work outside sun shining camera speaking camera video audio microphone worked well remote meetings useful set ports two usbc two usba one hdmi one oldstyle headphone jack usbc ports capable powering computer connected three monitors laptop time handled nicely two connected docking station one laptops usbc port third monitor connected directly port tested gaming video adapter purely intel tried playing mans sky playable great experience wouldnt recommend laptop gaming though wasnt designed marketed thats fair made drive image backup installed debian ubuntu systems worked well laptop exception built web cam seems lack linux drivers time drive speed test resulted around mbsec read speed wow thats fastest nvme drive ever used thoroughly impressed battery life machine impressive hard give single answer many hours expect depends load varies hours hours depending im im confident would make entire work day normal use give high marks battery life would definitely recommend computer anything except gaming definitely consider future business purchases',\n",
       "         0.3160340136054422, 5.0, 1401],\n",
       "        ['good build value money good build value money', 0.7, 5.0, 45],\n",
       "        ['new devices company use working explained rep',\n",
       "         0.13636363636363635, 5.0, 45],\n",
       "        ['solid computer outstanding fulfillment great workhorse laptop order filled extremely quickly delivered ahead schedule',\n",
       "         0.40666666666666673, 5.0, 117],\n",
       "        ['good product step backwards feel functionality speed excellent negative device longer premium feel without carbon fiber feels like plastic product get',\n",
       "         0.4666666666666666, 4.0, 150],\n",
       "        ['great investigation great product job hand', 0.8, 5.0, 42],\n",
       "        ['elegant beautiful display light great performance everything ask',\n",
       "         0.6375, 5.0, 64],\n",
       "        ['flagship done right well executed laptop model dell released clearly took best features precision line people wanted previous latitude models put together create amazing device thats capable lightweight time everything company needs executive end user got g th gen intel gb ram qhd matte display decent webcam powerful speakers light small form factor pick windows laptop closely compares macbook pro would',\n",
       "         0.2635714285714285, 5.0, 406],\n",
       "        ['great product latitude gives sales team everything need compact touch screen long battery life great performance th generation latitude laptops dell continues improve product please maintain standards improvement keep latitude brand trust',\n",
       "         0.5166666666666667, 5.0, 238],\n",
       "        ['dell latitude rating weve issues dell latitude thus far able put hands users standard image issue',\n",
       "         0.19999999999999998, 5.0, 97],\n",
       "        ['dell review overall really like laptop happy went dell vs mac time wish offered touchscreen price paid also lag multitasking',\n",
       "         0.3333333333333333, 4.0, 124],\n",
       "        ['great laptop great computer clear video good screen nice keyboard fast proc',\n",
       "         0.5333333333333334, 5.0, 75],\n",
       "        ['highly recommend laptop works great needed solid laptop field g ticked every box also purchased dock works great well',\n",
       "         0.44000000000000006, 4.0, 117],\n",
       "        ['nice sleek design responsive keymouse controls', 0.6, 5.0, 46],\n",
       "        ['latitude impressive impressive laptop fairly thin lightweight capable machine workhorse laptop intend use majority business needs outside engineering',\n",
       "         0.36, 4.0, 149],\n",
       "        ['executive computer become daily driver light weight able handle business needs',\n",
       "         0.3, 5.0, 78],\n",
       "        ['latitude laptop excellent quality expected', 0.45, 5.0, 42],\n",
       "        ['great work computer sales searched laptop memory space growing business selected modle working great running two screens issues thank dell',\n",
       "         0.8, 5.0, 138],\n",
       "        ['greate greate business laptop features required', 0.0, 5.0, 47],\n",
       "        ['stars dell amazing computers high quality components runs optimal speeds ensures tool need productive role personal computer mac makes reconsider brand next personal device purchase',\n",
       "         0.15200000000000002, 5.0, 181],\n",
       "        ['great standard business nice standard machine', 0.35, 4.0, 45],\n",
       "        ['dell laptop lawyers super quick piece kit capacity add big dell monitors using power dock im lawyer work office courts home little system adapts environment work especially use virtual desktop connection fast like packs huge punch inch profile laptop understands needs lawyers',\n",
       "         0.1541666666666667, 5.0, 276],\n",
       "        ['new dell latitude laptops dell latitude laptop really nice laptop bright screen easy setup configure users happy ordering delivery much faster expected',\n",
       "         0.39567099567099573, 5.0, 151],\n",
       "        ['promised good far delivery communication timing packaging completeness great exactly promised lt ready go win soon pulled know companies sending win making customer upgrade impression lt far great performance love light',\n",
       "         0.49545454545454554, 5.0, 219],\n",
       "        ['nice battery life small light laptop drs happy new laptop battery life ease transport lightweight laptop',\n",
       "         0.3372727272727273, 5.0, 104],\n",
       "        ['sleek lightweight powerhouse nice little computer came loaded microsoft office suite set nice still need transfer various softwares sleek lightweight like backlit keys',\n",
       "         0.253125, 4.0, 167],\n",
       "        ['perfect business category good performance little bit design disappointed',\n",
       "         0.190625, 4.0, 73],\n",
       "        ['light lightest laptop utilized appreciated traveling',\n",
       "         0.30000000000000004, 5.0, 52],\n",
       "        ['pretty good received laptop skepticism issues laptops dell say price decent laptop beat macbook pro decent laptop',\n",
       "         0.32083333333333336, 5.0, 113],\n",
       "        ['good business laptop familiarity previous model nice lighter laptop info new features sure look upgrade outside usual battery speed seems smooth transition one familiar modern',\n",
       "         0.24946969696969695, 4.0, 175],\n",
       "        ['great laptop xcto light weight fast screen looks great love light keyboard fingerprint reader sound excellent trackpad large responsive accidently rest hand doesnt go crazy doesnt get crazy hot charging using comfortable use lap flips tablet mode without disconnect keyboard convenient dont worry misplacing keyboard still access ports strong magnet side hold pen laptops used feature weak magnets made losing pen real possibility styling generic dell actually ok makes less flashy less prone theft overall great laptop good price would buy',\n",
       "         0.23288690476190477, 5.0, 540],\n",
       "        ['light weight latitude laptop light weight snazzy looking sales persons travel customers keyboard feel flows pretty nicely sometimes hit power button pinky meaning hit delete key next delete key get annoyance get used havent yet ive using weeks far complain happy',\n",
       "         0.2833333333333333, 5.0, 262],\n",
       "        ['cant log unable log department weeks still use', -0.5, 1.0, 46],\n",
       "        ['best dell laptop sleek laptop smooth keypads love extra ports',\n",
       "         0.475, 5.0, 61],\n",
       "        ['bluetooth bluetooth sometimes doesnt work connect device audio love',\n",
       "         0.5, 4.0, 67],\n",
       "        ['super light efficient laptop super light efficient laptop crisp clean screen easier handle fast execution apps programs',\n",
       "         0.32619047619047625, 5.0, 119],\n",
       "        ['unleashing productivity onthego latitude latitude proven invaluable tool daily work compact size combined lightweight design makes incredibly convenient carry around meetings within office onthego tasks outside ive particularly impressed battery life consistently sees entire workday without need recharge gamechanger allowing uninterrupted work sessions office search reliable portable work companion latitude commendable choice',\n",
       "         0.30624999999999997, 3.0, 429],\n",
       "        ['nice laptop windows software kept crashing software arrived defective',\n",
       "         0.6, 3.0, 69],\n",
       "        ['outstanding laptop far far laptop working great comparable surface device lightweight screen looks great keyboard extremely nice easy type trackpad feels amazing great battery life complaints far even though still early tell',\n",
       "         0.44848484848484843, 5.0, 224],\n",
       "        ['needs memory function like workstation pc came gb memory honest quickly causes lag box lot open tabs internet lot closing apps tabs work',\n",
       "         0.3111111111111111, 3.0, 136],\n",
       "        ['dell solid unit whats asked', 0.0, 5.0, 27],\n",
       "        ['dir works well large keyboard including keypad financial',\n",
       "         0.10714285714285714, 5.0, 56],\n",
       "        ['says fast gb ram works well zero issues connecting everything',\n",
       "         0.2, 5.0, 61],\n",
       "        ['well build laptop would recommend good update current inch range',\n",
       "         0.35, 5.0, 64],\n",
       "        ['dell lightweight compact respectable performance features', 0.5,\n",
       "         5.0, 57],\n",
       "        ['latitude great small form rugged laptop', 0.275, 5.0, 39],\n",
       "        ['good lightweight businessgrade laptop let included dell business software laptop build solid thermalheat management pretty good also reason didnt give star rating software components needs improvement specifically dell optimiser application comes laptop tried using weeks quite buggy regards automonitoring quality videoaudio conferencing calls onlooker detection functionality needs improvement disabled functionality',\n",
       "         0.29, 4.0, 418],\n",
       "        ['latitude good laptop battery dont last long good travel',\n",
       "         0.33749999999999997, 4.0, 55],\n",
       "        ['dell vs mac nice beefy machine comparable macbook', 0.4, 4.0,\n",
       "         49],\n",
       "        ['performance quality dell latitude xcto strong contender business laptop category offering great blend performance display quality design solid investment professionals seeking reliable highperforming laptop',\n",
       "         0.41111111111111115, 5.0, 206],\n",
       "        ['dead arrival laptop dead arrival still waiting replacement',\n",
       "         -0.2, 1.0, 58],\n",
       "        ['clunkier model otherwise good clunkier model otherwise good',\n",
       "         0.7, 4.0, 59],\n",
       "        ['product came faulty display product came faulty display', 0.0,\n",
       "         3.0, 55],\n",
       "        ['fast processing great graphics compact size good touchtablet capabilities rips graphics outstanding dell made software installation setup breeze',\n",
       "         0.55, 5.0, 144],\n",
       "        ['great laptop questionable touch pad great laptops recently added second usba connector massive improvement one ridiculous issue reason track pad buttons dont appear work time like sufficient make think theyre good enough use bad enough incredibly annoying reasonably light reasonably small powerful enough vast majority users use bluetooth mouse button issue becomes nothingburger',\n",
       "         0.02450980392156864, 4.0, 380],\n",
       "        ['practical solid laptop far good like hdmi usbc ports instead usbc ports power adapter lighter expecting laptop good size weight screen image looks sharp using worktravel think work great',\n",
       "         0.3625, 5.0, 186],\n",
       "        ['nice mid range business laptop small sturdy laptop working well bought multiple department handles finance programs well',\n",
       "         0.0875, 5.0, 120],\n",
       "        ['service smile outstanding service selection set', 0.4, 5.0, 47],\n",
       "        ['windows p tough network start windows p', -0.3888888888888889,\n",
       "         4.0, 39],\n",
       "        ['great laptop great feel love aluminum casing super fast th gen processor',\n",
       "         0.5266666666666667, 5.0, 72],\n",
       "        ['latitude weight features device pleasant align modern specs pcs camera quality nice include ir compatibility windows hello still feels like laptop camera instead true webcam low light performance still limited would nice see k upgrade weight laptop makes extremely portable however plastic materials make also feel flimsy carrying loftily desk couch would risk breaking fully supported hands gripped spine instead edge screen looks good seem contribute much eye fatigue keyboard trackpad seem appropriately responsive boot time quick expected performing standard productivity workflows like web browsing document editing video conferencing smooth without noticable interference hardware available security features enterpriselevel management seem broad although fully explored yet altogether nice dailydriver fit variety standard workloads workflows',\n",
       "         0.2944160997732427, 4.0, 849],\n",
       "        ['good last dell purchase less happy individual bought frustartions tech support',\n",
       "         0.2666666666666667, 3.0, 78],\n",
       "        ['college student review laptop nice perfect weight dimensions making great laptop carry around keyboard nice keys smooth type thing found difficult figuring put shortcuts apps computer onto desktop might feature windows',\n",
       "         0.4833333333333334, 5.0, 218],\n",
       "        ['slick little laptop small compact laptop solid feel drawback doesnt nic port onboard thats fix find need plug otherwise looks like stand heavy daily use',\n",
       "         -0.14791666666666667, 5.0, 152],\n",
       "        ['laptop beast laptop beast everything gamer wants needs', 0.2,\n",
       "         5.0, 54],\n",
       "        ['great workhorse fantastic responsive light', 0.5333333333333333,\n",
       "         5.0, 42],\n",
       "        ['received wrong configuration received wrong configuration laptop response mean sales representative sure gets resolved',\n",
       "         -0.203125, 1.0, 118],\n",
       "        ['feels like quality fast feels like quality construction phenomenal aluminum mouse amazing unit fast speced unit gb ram tb ssd also g data convenient fast hdmi usbc conventional usbs convenient',\n",
       "         0.25952380952380955, 5.0, 192],\n",
       "        ['latitude laptop light weight easy travel touch screen plus issue power button looks like uneven buttons hard push',\n",
       "         0.08541666666666665, 5.0, 113],\n",
       "        ['portable vs traditional device slim portable east setup speaker microphone quality good single user good use meeting setting rear camera worked well front facing camera wasnt didnt work',\n",
       "         0.33214285714285713, 3.0, 185],\n",
       "        ['far good second time buying model first time problem blue screen hopefully one ok',\n",
       "         0.2583333333333333, 5.0, 81],\n",
       "        ['lightweight great keyboard work dell office transition dell home difficult crazy popup messages time remove really like keyboard tonight find docking stations working dell told manager dell computers work noname brand docking stations well see',\n",
       "         -0.02499999999999998, 5.0, 243],\n",
       "        ['dell latitude xcto little flimsy less ports screen crisp touch screen showing issues right box',\n",
       "         0.04538690476190477, 3.0, 94],\n",
       "        ['april farrah dell best handle great laptop fast responsive complaints',\n",
       "         0.6666666666666666, 5.0, 69],\n",
       "        ['felix easy setup become productive', 0.43333333333333335, 5.0,\n",
       "         34],\n",
       "        ['new company standard new standard laptop users higher quality chassis incredibly light durable great look awesome screen great specs price weve got hands users incredibly happy devices compared brand using',\n",
       "         0.43227272727272725, 5.0, 205],\n",
       "        ['device faulty facing issues usage device faulty facing issues usage device crashing blue screen death different reasons',\n",
       "         0.0, 2.0, 119],\n",
       "        ['great performance design great performance design', 0.8, 4.0,\n",
       "         49],\n",
       "        ['great laptop upgrade laptop performing great love new color new premium feel love venting location additional screen resolution great add increase productivity',\n",
       "         0.5246753246753247, 5.0, 159],\n",
       "        ['great laptop price great laptop price', 0.8, 5.0, 37],\n",
       "        ['want quit standby mode computer works well except want resume session stand mode need turn completely use wise easy use nice looking enjoy also windows new',\n",
       "         0.39494949494949494, 3.0, 155],\n",
       "        ['great device great device gb ram makes big difference love n option screen amazing',\n",
       "         0.54, 5.0, 82],\n",
       "        ['happy quick resolution happy quick resolution',\n",
       "         0.5666666666666667, 5.0, 45],\n",
       "        ['mouse power button speed memory power excellent mouse sensitivity fast function slow work also power button next delete button ridiculous',\n",
       "         0.11333333333333333, 4.0, 137],\n",
       "        ['latitude laptop review sleek design enhanced webcam hopefully processor ram ensure smooth multitasking',\n",
       "         0.4, 4.0, 102],\n",
       "        ['modern executive mobile work tool magnesium version slim light fully functional qhd touch screen excellent mp webcam provides great images meetings',\n",
       "         0.6000000000000001, 5.0, 147],\n",
       "        ['dell latituded xcto nice size great screen quality login proctections good downside privacy screen easy way print screen',\n",
       "         0.6333333333333333, 4.0, 120],\n",
       "        ['horrible customer support never delivered asian order support keeps saying delivered acting like dont understand want put ticket resolved help still unresolved many days later',\n",
       "         -0.1, 1.0, 175],\n",
       "        ['user friendly user friendly love', 0.4166666666666667, 3.0, 32],\n",
       "        ['nice laptop good features havent used long replacing older xps far performs well additional inch screen nice power button normal keyboard field going take time become accustomed use laptop connected docking station would like usbc ports sides laptop left dock cable run around far side dell dock cables short troublesome less changing laptop righthand side desktop monitors speakers work pretty well like placement stereo sound effective camera pretty wide angled good image',\n",
       "         0.2529411764705882, 4.0, 474],\n",
       "        ['really impressed performance functionality laptop works great even heavy workloads high performance light weight built productivity',\n",
       "         0.43200000000000005, 5.0, 131],\n",
       "        ['good laptop works well big difference dimensions long square',\n",
       "         0.21666666666666665, 5.0, 60],\n",
       "        ['lap top super fast light laptop', 0.3583333333333333, 5.0, 31],\n",
       "        ['potential exec laptop replacement laptop light light great portability standpoint quite long enough fully judge use case regarding battery life software loaded company say would likely wonderful laptop support personnel often travel would caution handing executives looking polished machine regard body type screen bit flex closed enough concern noteworthy',\n",
       "         0.24499999999999997, 3.0, 356],\n",
       "        ['speedy performance machine could use bigger screen better speakers laptop built well sturdy lightweight easy carry around keys relatively quiet performance speedy delay throughout day camera date crystal clear sound levels speakers could higher still decent laptop screen size bit tiny side work well look good',\n",
       "         0.255, 4.0, 310],\n",
       "        ['lightweight powerful play nicely multiple monitors laptop lightweight powerful play nicely dell wd dock multiple k monitors',\n",
       "         0.24, 2.0, 123],\n",
       "        ['great machine requires much configuration excellent performance initial setup abysmal however bios screwed required siginficant configuration laptop would boot auto setup mode windows default mouse settings far sensitive general default configuration settings way conservative thus far much time spent getting laptop real world usable configuration',\n",
       "         0.24090909090909093, 4.0, 348],\n",
       "        ['get best super fast great screen working computer get best',\n",
       "         0.6666666666666666, 5.0, 58],\n",
       "        ['great pc managers laptop great executives looking lightweight fast device screen large enough crisp bright display able maintain multiple applications open time focusing meeting apps like teams lots mail processing good speed keyboard nice feel click keys close enough edge ergonomic feel easy setup get right work super light easy carry around go',\n",
       "         0.36944444444444446, 5.0, 347],\n",
       "        ['decent device well built powerful review laptop version decent laptop largest screen sizes lacks size packs power functionality backlit keyboard nice responsive ir webcam quick picks facial recognition really well obviously windows hello ready laptop also fingerprint recognition capabilities havent tested screen good looks like sort antireflective film drastically reduces glare really usable sunny bright light areas speakers fantastic great sound positioned either side get sense surround sound dont expect still speakers built laptop little depth could easily without headphones listening music watching video content weight fine isnt thinnest laptops mean get usbc ports get hdmi standard usb ports great dont carry around portable docking station extra ports one thing dont like much think built design open lid fold back beyond upright degrees bottom lid pushes flat surface gives little lift keyboard nice touch like elevation keyboard downside edge monitor scraps surface rotate screen therefore could damage edge surface isnt flat smooth clean also took opportunity play games well see well faired without dedicated gpu played fornite little stuttery settings near high quality reduced midlevel visual quality playable advocating laptop anyway gaming laptop isnt purely demostrating capabilities laptop',\n",
       "         0.22980576441102757, 4.0, 1313],\n",
       "        ['new instructor laptops nice units smaller expected',\n",
       "         0.1590909090909091, 5.0, 50],\n",
       "        ['perfect business laptop smooth large touchpad comfortable keyboard lots port options connectivity without needing carry extra dongles',\n",
       "         0.40285714285714286, 5.0, 133],\n",
       "        ['great improvement older model sleek look fast performance touch pad great good screen whole happy experience',\n",
       "         0.5238095238095238, 4.0, 108],\n",
       "        ['blue screen good experience getting blue screen death since last night doesnt allow login even multiple restarts',\n",
       "         0.13999999999999999, 1.0, 112],\n",
       "        ['great laptop work excellent laptop work processor able handle workload better current laptop',\n",
       "         0.5599999999999999, 5.0, 92],\n",
       "        ['power speed small package really amazed home much speed size functionality laptop squeezes small lightweight package first picked concerned due light figured scrimped something wrong screen bright fast processor speed bootup solid state drive fantastic keyboard feedback excellent complaint simply large size mouse pad used yet keep touching wrong times type fade get used great laptop',\n",
       "         0.16329365079365077, 5.0, 385],\n",
       "        ['great business personal use works well difficulty', 0.4, 5.0,\n",
       "         49],\n",
       "        ['new laptop great far loving new look feel new laptop',\n",
       "         0.3181818181818181, 5.0, 52],\n",
       "        ['light touch capable purchased light machine easy daily transport also touch screen machines normally go high end nice find one category nevertheless capable',\n",
       "         0.2991666666666667, 5.0, 156],\n",
       "        ['great medium highend device larger deployments laptop fits excellent power versatility surprisingly portable form factor',\n",
       "         0.625, 5.0, 120],\n",
       "        ['far good far weve great results laptop seems dell ironed ssd driver issues past couple generations',\n",
       "         0.29, 4.0, 98],\n",
       "        ['easy use easy use touchscreen used', 0.43333333333333335, 5.0,\n",
       "         34],\n",
       "        ['work happy latitude also doking station thunder bolt work laptops',\n",
       "         0.8, 3.0, 65],\n",
       "        ['masterpiece light material used nice', 0.5, 5.0, 36],\n",
       "        ['really liking new latitude suprisingly fast touchscreen responsive better older models',\n",
       "         0.24060606060606063, 5.0, 86],\n",
       "        ['great laptop great choice laptop upgrade office work', 0.8, 3.0,\n",
       "         52],\n",
       "        ['latitude purchased dell latitude weeks ago looking many laptops decided purchased online simplicity delivered within days stated easy setup straight box taken little get use new windows layout great little pc solid fast everything want travel laptop good build quality small enough fit backpack powerful enough workshop presentations spreadsheets stream movie wasnt sure network connection built could plug accessories far ive problems got everything copied across havent looked back biggest problem update accessories match new pc early days im feeling confident came year warranty',\n",
       "         0.20862193362193363, 4.0, 582],\n",
       "        ['nice light yet powerful everything need run business pc nice video quality time saving features also discreet built physical slide camera blocker finger print feature secure fast',\n",
       "         0.35714285714285715, 5.0, 178],\n",
       "        ['best version model great travelers laptop world hybrid work device right balance mobile battery lasting features performance docked case display stand making particularly suitable candidate demanding business users',\n",
       "         0.5271428571428572, 5.0, 214],\n",
       "        ['slim light powerhouse light compact powerful enough computing needs without breaking back',\n",
       "         0.22000000000000003, 5.0, 89],\n",
       "        ['great laptops quality control slipped ordered laptops doa upon delivery unfortunately unique last order laptops doa something seriously gone wrong quality control factory good news dell pro support fixed without issues parts available took week case love laptops',\n",
       "         0.2268518518518519, 1.0, 262],\n",
       "        ['great device great price great computer super quick next generation intel processor',\n",
       "         0.5111111111111112, 5.0, 83],\n",
       "        ['pdp error product description website bug customer end paying',\n",
       "         0.0, 1.0, 61],\n",
       "        ['lightweight portable necessary ports usb c port needs receded bevel keep moving becoming wobbly main point failure using docking stations lightweight low heat generated impressive usb c port needs receded bevel keep moving becoming wobbly main point failure using docking stations',\n",
       "         0.17777777777777778, 4.0, 280],\n",
       "        ['latitude light powerful screen looks bright sharp', 0.31875,\n",
       "         5.0, 49],\n",
       "        ['dell amazing brilliance dell unleashing productivity style first day laid hands dell knew winner lightweight wickedly fast remarkably quiet machine become daily companion seamlessly blending work leisure performance prowess ive put dell paces various daytoday tasks business standpoint personal enjoyment running multiple programs increase cpu load became sort personal challenge guess laptop emerged victorious every single time matter threw never skipped beat audio bliss fingertips strategically placed audio speakers edge keyboard genius touch dont produce sound create immersive audio experience adds certain richness virtual meetings elevates music video streaming sessions visual delight screen feast eyesbright vibrant clear whether im crunching numbers work catching latest shows display quality consistently impressive kind visual experience turns mundane tasks enjoyable moments hood brilliance lets talk specs dell boasts intel th gen vpro iu processor gb ram spacious gb hd connectivity breeze x hdmi x usbc ports x usb ports larger trackpad small detail makes big difference especially youre navigating hectic workdays pitching upgrade im singing praises laptop benefit im genuinely considering pushing upgrade across executive board dell brings functionality touch sophistication aligns perfectly professional environment kind upgrade enhance individual productivity overall work experience final verdict musthave professionals conclusion dell laptop productivity powerhouse fits seamlessly work personal life wholeheartedly recommend machine anyone looking perfect blend style performance time set new standard starting workspace',\n",
       "         0.18151848151848152, 5.0, 1645],\n",
       "        ['solid executive class laptop nice premium laptop', 0.3, 5.0, 48],\n",
       "        ['dell latitude xcto excellent unit really enjoying performance display thermal control low heat battery lifevery good trackpad nice feel well overall pleased unit make one small nitpick would mention keyboard feels bit lower quality rest outstanding ultralight hardware build still excellent system overall',\n",
       "         0.4136363636363637, 5.0, 305],\n",
       "        ['hassles installation win laptop come required security software required company',\n",
       "         0.8, 1.0, 80],\n",
       "        ['great laptop dell user years latitude range never disappoints beautiful design superfast secure love extra security features dell optimiser',\n",
       "         0.51, 5.0, 139],\n",
       "        ['best laptop previous laptop computers owned laptop perfect combination power gb memory keyboard key size feel plus touch screen equipped fingerprint reader know saves least minutes every day dont remember passkey power two external monitors using dell thunderbolt dock also charges latitude batteries thru one thunderbolt connection laptop ran hours heavy use internal batteries alone processing camtasia video renderings faster year old dell laptop g also gb memory one issue docking station love machine',\n",
       "         0.19333333333333336, 5.0, 505],\n",
       "        ['support tech laptop best performer used laptop long time perfect long flights hours battery usage fast easy travel given size weight dont leave home without',\n",
       "         0.4222222222222222, 5.0, 156],\n",
       "        ['brief experience recent latitude btx satisfied recent purchase dell latitude btx keyboard tactile responsive touch dell inspiron still serves us well latitude shows improvement current technology date experienced problems operation computer',\n",
       "         0.21666666666666667, 5.0, 240],\n",
       "        ['slim sleek looks sleek however used yet', 0.0, 4.0, 39],\n",
       "        ['surprises good way everything needed', 0.7, 4.0, 36],\n",
       "        ['dell best value dollar', 1.0, 5.0, 22],\n",
       "        ['latitude review latitude great laptop use everyday tasks feature makes versatile kind task need performance good sizeweight makes easy carry',\n",
       "         0.4666666666666667, 5.0, 140],\n",
       "        ['bios problem needed use external keyboard access f f', 0.0, 3.0,\n",
       "         52],\n",
       "        ['great device great device fast worth money', 0.525, 5.0, 42],\n",
       "        ['nice nice negative crap ware comes pre installed dell always needs option get clean machine least didnt norton',\n",
       "         0.027777777777777762, 4.0, 110],\n",
       "        ['dell latitude solid system recently purchased dell latitude laptop use university must say thoroughly impressed performance features review dell latitude laptop design dell latitude laptop sleek professional design lightweight portable making easy carry around meetings travel build quality sturdy keyboard comfortable type long periods display laptop features vibrant sharp display colors accurate viewing angles excellent making pleasure work screen size perfect multitasking viewing documents spreadsheets performance dell latitude laptop powerhouse comes performance equipped powerful intel core processor ample ram allowing smooth multitasking fast response times whether working multiple applications running resourceintensive software laptop handles ease battery life battery life dell latitude laptop impressive lasts hours single charge allowing work without constantly search power outlet especially useful go attending meetings connectivity laptop offers wide range connectivity options including multiple usb ports hdmi sd card reader allows connect various devices peripherals without hassle wifi connectivity also strong reliable security dell latitude laptop prioritizes security features fingerprint scanner tpm chip gives peace mind knowing data protected secure software laptop comes latest version windows userfriendly easy navigate additionally dell provides useful software utilities optimize performance manage system settings customer support dell provides excellent customer support whenever queries issues support team prompt helpful resolving overall dell latitude laptop fantastic choice business professionals offers perfect balance performance portability security highly recommend anyone need reliable efficient laptop work',\n",
       "         0.32800680272108845, 5.0, 1753],\n",
       "        ['excellent laptop love size speed laptop runs programs easily screen easy eyes',\n",
       "         0.5916666666666667, 5.0, 77],\n",
       "        ['lightweight fast perfect im loving new laptop speeds lightweight ease use perfect',\n",
       "         0.5872727272727272, 5.0, 81],\n",
       "        ['best business class laptop feather better performance', 0.75,\n",
       "         5.0, 53],\n",
       "        ['nice solid laptop laptop looks solid nice slightly heavy', 0.2,\n",
       "         5.0, 56],\n",
       "        ['latitude laptop fits client needs perfectly', 1.0, 4.0, 43],\n",
       "        ['great work laptop fast efficient laptop business', 0.5, 5.0, 48],\n",
       "        ['broken device laptop broken customer support helpful', -0.4,\n",
       "         1.0, 52],\n",
       "        ['great great performance excellent display', 0.8666666666666667,\n",
       "         5.0, 41],\n",
       "        ['robust robust laptop quick battery lasts long time',\n",
       "         0.14166666666666666, 5.0, 50],\n",
       "        ['excellent size excellent size fast speed love laptop', 0.675,\n",
       "         5.0, 52],\n",
       "        ['look review great laptop fast sometimes slow start',\n",
       "         0.2333333333333333, 5.0, 50],\n",
       "        ['improvement version years ago improvement version hate mousepad buttons integrated single pad separate buttons larger mousepad makes difficult type keyboard olderslower cpu actually downgrade',\n",
       "         -0.2742857142857143, 3.0, 191],\n",
       "        ['good item new color sold quality although seems bit smaller',\n",
       "         0.27878787878787875, 5.0, 59]], dtype=object),\n",
       " array([['near perfect corporations enthusiasts near perfect option corporations enthusiasts pretty powerful efficient cpu paired fast ddr nvme drive touch screen extremely lightweight excellent ubuntu support',\n",
       "         0.42500000000000004, 5.0, 199],\n",
       "        ['great performances one really delivers pleanty ram processor speed',\n",
       "         0.5, 5.0, 66],\n",
       "        ['great working computer laptop works great fast gives multiple options security protect unauthorized access',\n",
       "         0.45, 5.0, 106],\n",
       "        ['ergonomic review usbc port hdmi port left side laptop convenient',\n",
       "         0.0, 4.0, 64],\n",
       "        ['small powerful fast little performer lightweight compact travel friendly feels great quality item',\n",
       "         0.20625000000000002, 5.0, 97],\n",
       "        ['best laptop upgraded latitude years old loved light weight speed ergonamics laptop',\n",
       "         0.55, 5.0, 82],\n",
       "        ['awesome laptop work personal use got laptop months ago really like laptop performance',\n",
       "         0.39999999999999997, 5.0, 85],\n",
       "        ['aluminum solid build elegant color great high res screen quick lightweight package',\n",
       "         0.35866666666666663, 5.0, 82],\n",
       "        ['great laptop light weight fast great battery life', 0.55, 5.0,\n",
       "         49],\n",
       "        ['excellent machine excellent pc im demanding user machine job',\n",
       "         1.0, 5.0, 60],\n",
       "        ['good choice light weight like touch keyboard', 0.55, 5.0, 44],\n",
       "        ['solid chassis well constructed nice solid chassis would definitley purchase negative one didnt presence detection investigate option',\n",
       "         0.075, 5.0, 132],\n",
       "        ['latitude review great laptop performance top notch', 0.65, 5.0,\n",
       "         50],\n",
       "        ['big power big screen premium product im really happy move aspect ratio world long time due movies thats really device productivity standpoint additional vertical space extremely useful',\n",
       "         0.16071428571428573, 5.0, 184],\n",
       "        ['working good fast deliver good condition', 0.5333333333333333,\n",
       "         5.0, 40],\n",
       "        ['best option good laptop performance good', 0.7999999999999999,\n",
       "         5.0, 40],\n",
       "        ['great business laptop lightning fast easy get set',\n",
       "         0.4777777777777778, 5.0, 49],\n",
       "        ['great business laptop improvements cooling speaker configuration',\n",
       "         0.8, 5.0, 64],\n",
       "        ['one best work computers made dell power efficient processors make hardware even better nice laptop good weight sturdiness keyboard touchpad best dell made yet wish affordable option higherresolution screen im sure come price good get battery life pretty great users get hours without charging new device obviously get shorter time good starting point lot made possible newer generation intel processors finally finally getting point theyre causing heat issues fans running constantly intel continues processors follow less powerhungry model improve',\n",
       "         0.39527629233511585, 4.0, 548],\n",
       "        ['light laptop plenty performance light powerful laptop laptop packed plenty power gb ram really power core weighs much tablet getting really good performance system end user workstation user extremely happy new laptop',\n",
       "         0.39204545454545453, 5.0, 216],\n",
       "        ['punch small compact throws good punch', 0.22499999999999998,\n",
       "         4.0, 37],\n",
       "        ['laptop great ordering process went wrong purchasing process incovenient time since dell cancel original po days internal issue reorder laptop created extra work team well delayed order',\n",
       "         0.135, 3.0, 184],\n",
       "        ['great business machine larger trackpad takes getting used coming unit fast great upgrade',\n",
       "         0.45, 4.0, 88],\n",
       "        ['ul light powerful like everything laptop especially light weight users happy well keyboard bit larger screen plan keeping production years',\n",
       "         0.45999999999999996, 5.0, 138],\n",
       "        ['looks good built well fast looks great built well performs fast job well done',\n",
       "         0.475, 5.0, 77],\n",
       "        ['excellent product great product works well bit heavy carry around',\n",
       "         0.5333333333333333, 4.0, 65],\n",
       "        ['great machine battery life device awesome dont worry plugging every couple hours using dell pen great taking notes negative little heavy carry around work ish minutes',\n",
       "         0.31875000000000003, 4.0, 166],\n",
       "        ['nice laptop unit seems super smooth operates controls touch screen reflective see ceiling lights reflected bad used matte screen either',\n",
       "         0.1583333333333334, 5.0, 135],\n",
       "        ['perfect lightweight laptop really nice lightweight laptop capable gb internal memory business users running bloomberg multiple excel sheets ease',\n",
       "         0.36, 4.0, 144],\n",
       "        ['procurement manager great laptop love keyboard', 0.65, 5.0, 46],\n",
       "        ['dell whatd like whats like find screen keyboard excellent efficient ui keyboard allows user type best speed os intuitive great workhorse keeping increasing demand less time',\n",
       "         0.6583333333333333, 5.0, 172],\n",
       "        ['dead arrival good luck far failing usbc ports motherboards replaced',\n",
       "         0.19999999999999998, 2.0, 67],\n",
       "        ['good product executive peoples review details follows rating design hardware ports display performance battery webcam audio overall product good rating price value',\n",
       "         0.4666666666666666, 4.0, 163],\n",
       "        [' ', 0.0, 5.0, 1],\n",
       "        ['performance overall quality dell latitude highperforming laptop fast boot times durable yet lightweight design laptops build quality battery life screen resolution keyboard comfort exceptional excellent investment anyone values performance speed mobility',\n",
       "         0.4666666666666667, 5.0, 254],\n",
       "        ['waste money worst screen quality ever laptop', -0.6, 2.0, 44],\n",
       "        ['delivers delivers quick setup great features great performance staff hybrid attendance model easily switch home offsite appts onsite work meetings easy onboard audiovideo great product',\n",
       "         0.6, 5.0, 184],\n",
       "        ['outstanding laptop good price laptop outstanding piece art compared brands sturdy reliable travel home office everything need get job done',\n",
       "         0.5666666666666667, 5.0, 138],\n",
       "        ['excellent balance form function excellent balance form function use business mobility device gives desktop performance key delivering services clients properly configured laptops able perform tasks clients demand outside complex engineering designs thousnads layers compile prefermed excellent chassis durable sleek screens beautiful would recommend anyone',\n",
       "         0.44999999999999996, 5.0, 356],\n",
       "        ['great thin light powerhouse discerning business users new get laptops ultralight configuration including mp webcam users love caveat fingerprint reader ultralight using xps exec team wanted something thin light using surface laptops years keyboards excellent configurability great repairability looks great opening one best hdmi usba port',\n",
       "         0.4578512396694215, 5.0, 338],\n",
       "        ['awesome laptop highly recommend great laptop light responsive upgraded gb ram tb nvme',\n",
       "         0.59, 5.0, 85],\n",
       "        ['excellent laptop fast light compact', 0.5333333333333333, 5.0,\n",
       "         35],\n",
       "        ['okay product okay first weeksonce open excelit hangs hangstoo slow respondmain reason directly ftom dell site quality producti think wrong choice',\n",
       "         0.07857142857142858, 4.0, 145],\n",
       "        ['years dell laptops still best screen clarity excellent sound excellent overall quality build excellent',\n",
       "         0.7333333333333334, 5.0, 102],\n",
       "        ['great portable laptop excellent allaround package great size nice design well built staff happy new device',\n",
       "         0.6893939393939394, 5.0, 106],\n",
       "        ['sr director business service pleased laptop meets requirements fast lightweight',\n",
       "         0.35, 1.0, 79],\n",
       "        ['slow waited weeks computer way slow', -0.30000000000000004, 2.0,\n",
       "         35],\n",
       "        ['latitude best latitude replaced old outdated generic pc impressed speed capability latitude',\n",
       "         0.33999999999999997, 5.0, 91],\n",
       "        ['first time years dispaointed dell disapointed quality new latitude laptops step backword design',\n",
       "         0.19318181818181818, 1.0, 95],\n",
       "        ['computer engineering school hope computer need aerospace engineering looks promise',\n",
       "         0.0, 4.0, 82],\n",
       "        ['laptop review super laptop fast bit trouble camera causing windows crash newest bios camera software fixed problem',\n",
       "         0.10833333333333334, 4.0, 114],\n",
       "        ['high performing lightweight system dell latitude tremendously responsive delivering great performance lightweight package',\n",
       "         0.43111111111111117, 4.0, 121],\n",
       "        ['pleasant online purchasing experience buying dell laptop website well laid easy compare various models laptops',\n",
       "         0.38888888888888884, 5.0, 110],\n",
       "        ['snappy little power house perfect size travel office dock love larger trackpad keys feel good good number ports usb c usb color different also like laptop quick get hot',\n",
       "         0.36620370370370375, 5.0, 168],\n",
       "        ['many complications received new dell came many complications still cant use itsoftware updates would load programs refused fully download computer needed joband jobs dept working two weeks order make functional computer rely using hate put bad review truth',\n",
       "         -0.07272727272727272, 2.0, 256],\n",
       "        ['dfbdfd po process made easier', 0.0, 4.0, 29],\n",
       "        ['dell latitude xcto review computer received good order works fine setting',\n",
       "         0.5583333333333333, 4.0, 73],\n",
       "        ['another great dell product great product cant recommend dell enough business products part amazing systems dell user last years',\n",
       "         0.44000000000000006, 5.0, 127],\n",
       "        ['bad quality bad quality overheating keyboardtrackpad issues',\n",
       "         -0.6999999999999998, 1.0, 59],\n",
       "        ['great new product received dell problems less powerful unit great far responsive sems resolved issues im tech head sell customers great really know people choose dell reliable well built company backs products got love',\n",
       "         0.3855218855218856, 5.0, 218],\n",
       "        ['program manager employee satisfied laptop', 0.5, 5.0, 41],\n",
       "        ['evo framework purchased laptop personal use website filter identified computer evo vpro certified also called sales team numerous times also used chat function sale department verifying laptop evo evo certification important indicates better performing laptop overall computing experience disappointed found laptop evo certified returning another one using dell products decade satisfied dell would recommend dell friends family however particular situation told would get restocking fee return laptop working management hope case laptop good gb makes easy work statistical software evo certified like previous latitude model would perfect businesstravel laptop',\n",
       "         0.23194444444444443, 2.0, 661],\n",
       "        ['big step major change design materials', 0.03125, 4.0, 38],\n",
       "        ['compact lightweight nice small size perfect lightweight', 0.45,\n",
       "         4.0, 55],\n",
       "        ['great pc great light weight laptop really enjoyed using', 0.625,\n",
       "         5.0, 55],\n",
       "        ['excellent excellent laptop lightweight powerful',\n",
       "         0.7666666666666666, 5.0, 47],\n",
       "        ['beautifullly functional simplistically elegant power house productivity housed cutting edge design',\n",
       "         -0.04999999999999999, 5.0, 98],\n",
       "        ['na smooth practical', 0.4, 5.0, 19],\n",
       "        ['like laptop really like laptop light fast', 0.26666666666666666,\n",
       "         5.0, 41],\n",
       "        ['ultralight portable laptop th gen perfect multitasking perfect needs touch screen great speakers ir cam perfect windows hello',\n",
       "         0.95, 5.0, 125],\n",
       "        ['great work computer fast computer comfortable keyboard mouse pad screen colorful vibrant easy connection larger external monitor',\n",
       "         0.2875, 5.0, 128],\n",
       "        ['dell lat laptop n setup easy windows setup memory gb expandable video graphics decent however clear bright models device usb ports type c hdmi camera shutter built camera light device compared dell',\n",
       "         0.36, 5.0, 197],\n",
       "        ['fast light quick laptop fast light feels durable like older models case better though',\n",
       "         0.31428571428571433, 4.0, 85],\n",
       "        ['solid build good performance overall build laptop feels solid like doesnt feel flimsy keyboard mouse pad responsive pleasant use far laptop keyboardsmice go far performance good processor definitely machine running smoothly time tell gets pile windows updates though adequate amount ports compared new devices thunderbolt one charging hdmi usb overall like design use latitude far also quiet normal use havent really tested resource hungry applications yet hoping continue run like give years enjoyable use',\n",
       "         0.2307239057239057, 5.0, 506],\n",
       "        ['good entertainment instead business use sound speakers side keyboard panel awesome power button fingerprint recognition sensitive button pg pg buttons near keep pressing wrong one button delete power button near keep pressing wrong one wifi card faulty week receiving new laptop needs replaced new one',\n",
       "         0.1672727272727273, 3.0, 301],\n",
       "        ['latitude love new computer fast', 0.2787878787878788, 5.0, 31],\n",
       "        ['incredible laptop use laptop work good get one', 0.8, 5.0, 46],\n",
       "        ['quality build dell migrate tools great found built quality good used dell migrate tools went well',\n",
       "         0.75, 4.0, 97],\n",
       "        ['latitude review business user love feel weight laptop processor seems bit slower expected',\n",
       "         0.2, 4.0, 89],\n",
       "        ['sleek powerful product sleek great performance convenient day day work style',\n",
       "         0.55, 4.0, 76],\n",
       "        ['portable powerhouse dell latitude perfect blend performance portability modern design dell latitude impressive piece hardware truly earns star rating perfect size making incredibly portable perfect companion professionals onthego despite size fhd th gen intel core iu performance delivers topnotch speed efficiency managing handle multitude tasks simultaneously without hiccup sleek modern design adds appeal featuring clean lines highquality build feels sturdy yet remains lightweight model also equipped variety inputs usb including usbc hdmi ports audio adds versatility futureproofs emerging technologies latitude truly shines mobile agility offering excellent battery life fast wireless connectivity intel wifi e whether business personal use laptop excellent choice seeking portable power stylish design',\n",
       "         0.6435897435897436, 5.0, 809],\n",
       "        ['latitude another dell success story thus far nicely designed frame sleek solid contemporary highcontrast screen makes interaction breeze even hours continual use solid touchresponse keyboard processing power thus far substantial good performance ratings across number benchmark apps typical complete suite supportive tools features promise provide reduced startup time increase battery life help prioritize functionality oftused apps security features well designed typical office environment ability greyout screen system notices someone looking shoulder evaluation continues notable deficiencies found thus far appears another quality dell product thus far',\n",
       "         0.1955555555555556, 4.0, 658],\n",
       "        ['btx happy dell product third purchase setup latitude breeze graph amazing would recommend dell products family friends',\n",
       "         0.46666666666666673, 5.0, 118],\n",
       "        ['awesome laptop laptop everything looking tech guy set work also personal use fast reliable easy carry work home great laptop',\n",
       "         0.4866666666666667, 5.0, 124],\n",
       "        ['good performance compatible work good performance compatible work',\n",
       "         0.7, 5.0, 65],\n",
       "        ['highly recommend sleek nice work touch screen isnt bother great need battery life long keyboard amazing sound well',\n",
       "         0.4183333333333334, 5.0, 114],\n",
       "        ['latitude suitable salesmarketing executive complete high specification good graphic chipset good presentation',\n",
       "         0.36833333333333335, 5.0, 109],\n",
       "        ['latitude btx awesome pleasant smooth work machine really value money',\n",
       "         0.5833333333333334, 5.0, 68],\n",
       "        ['latitude well worth investment new chipset reliability latitude series hands best laptop market',\n",
       "         0.47878787878787876, 5.0, 95],\n",
       "        ['versatile light latitude laptop right choice laptop one versatile laptop ever used light great battery life quick mention screen crystal clear good job dell',\n",
       "         0.4312925170068027, 5.0, 156],\n",
       "        ['durable much better xxx series aluminum shell seems durable many scratched laptops xx xx series cant reuse hoping case longer lasting greenit initiative',\n",
       "         0.3333333333333333, 4.0, 152],\n",
       "        ['best price models seem last well built', 0.5, 5.0, 38]],\n",
       "       dtype=object),\n",
       " array([1, 1, 1, 1, 1, 1, 1, 1, 1, 1, 1, 1, 0, 1, 1, 1, 1, 1, 1, 1, -1, 1,\n",
       "        1, 1, 1, -1, 1, 1, 1, 1, 1, -1, 1, -1, 1, 1, 1, 1, 1, 1, 1, 1, -1,\n",
       "        1, 1, 1, 1, -1, -1, -1, 1, 1, 1, 1, 1, 1, 1, 1, 0, 1, 1, 1, 1, 1,\n",
       "        1, 1, 1, 1, 1, 1, 1, 1, 1, 1, 1, 1, 1, 1, 1, 1, 1, 1, 1, 1, 1, 1,\n",
       "        1, 1, 1, 1, 1, -1, 1, 1, 1, 0, 0, 1, 0, 1, 1, 1, 1, 1, 1, 1, 1, 1,\n",
       "        1, -1, 1, 0, 1, 1, 1, 1, 1, 1, 1, 1, 0, 1, 1, 1, 1, -1, 1, 1, 0, 1,\n",
       "        1, 0, 1, 1, 1, -1, 1, 1, 1, 0, 1, 1, 1, 1, 1, 1, -1, 0, 1, 1, 1, 1,\n",
       "        0, 1, -1, 1, 1, 1, 1, 1, 1, 1, -1, 1, 1, 1, 1, 1, 1, 1, 1, 0, 1, 1,\n",
       "        0, 1, 1, 1, 1, -1, 1, -1, 1, 1, 1, 1, 1, -1, 1, 1, 1, 1, 1, 1, 1,\n",
       "        1, 0, 1, 1, 1, 1, 1, 1, 1, 1, 1, -1, 1, 1, 1, 1, 0, 1],\n",
       "       dtype=object),\n",
       " array([1, 1, 1, 1, 1, 1, 1, 1, 1, 1, 1, 1, 1, 1, 1, 1, 1, 1, 1, 1, 1, 0,\n",
       "        1, 1, 1, 1, 1, 1, 1, 1, 1, -1, 1, 1, 1, -1, 1, 1, 1, 1, 1, 1, 1, 1,\n",
       "        1, -1, -1, 1, -1, 1, 1, 1, 1, 1, -1, 1, 1, 1, -1, 1, 1, -1, 1, 1,\n",
       "        1, 1, 1, 1, 1, 1, 1, 1, 1, 1, 0, 1, 1, 1, 1, 1, 1, 1, 1, 1, 1, 1,\n",
       "        1, 1, 1, 1, 1, 1], dtype=object))"
      ]
     },
     "execution_count": 58,
     "metadata": {},
     "output_type": "execute_result"
    }
   ],
   "source": [
    "X_train,X_test,y_train,y_test"
   ]
  },
  {
   "cell_type": "code",
   "execution_count": 59,
   "id": "DqYZMUWLArXg",
   "metadata": {
    "colab": {
     "base_uri": "https://localhost:8080/"
    },
    "id": "DqYZMUWLArXg",
    "outputId": "a4e55286-91a6-416f-aa83-ec77d616edce"
   },
   "outputs": [
    {
     "data": {
      "text/plain": [
       "dtype('O')"
      ]
     },
     "execution_count": 59,
     "metadata": {},
     "output_type": "execute_result"
    }
   ],
   "source": [
    "y_train.dtype"
   ]
  },
  {
   "cell_type": "markdown",
   "id": "-xHaFLnQ-YJ_",
   "metadata": {
    "id": "-xHaFLnQ-YJ_"
   },
   "source": [
    "## Text Vectorization"
   ]
  },
  {
   "cell_type": "code",
   "execution_count": 60,
   "id": "2xBxMxhVrT_E",
   "metadata": {
    "id": "2xBxMxhVrT_E"
   },
   "outputs": [],
   "source": [
    "from sklearn.feature_extraction.text import TfidfVectorizer"
   ]
  },
  {
   "cell_type": "markdown",
   "id": "eHwp2S8y-272",
   "metadata": {
    "id": "eHwp2S8y-272"
   },
   "source": [
    "### Vectorize text data using TF-IDF"
   ]
  },
  {
   "cell_type": "code",
   "execution_count": 61,
   "id": "hkClZpUk-1Lo",
   "metadata": {
    "id": "hkClZpUk-1Lo"
   },
   "outputs": [],
   "source": [
    "text_data_train = X_train[:, 0]\n",
    "text_data_test = X_test[:, 0]\n",
    "\n",
    "vectorizer = TfidfVectorizer(max_features=5000)\n",
    "X_train_vec = vectorizer.fit_transform(text_data_train)\n",
    "X_test_vec = vectorizer.transform(text_data_test)"
   ]
  },
  {
   "cell_type": "code",
   "execution_count": 62,
   "id": "KcB8wkjHIL4s",
   "metadata": {
    "colab": {
     "base_uri": "https://localhost:8080/"
    },
    "id": "KcB8wkjHIL4s",
    "outputId": "73077f4e-f2b4-47a3-e266-fa6ef8f1f7f3"
   },
   "outputs": [
    {
     "data": {
      "text/plain": [
       "(<213x1515 sparse matrix of type '<class 'numpy.float64'>'\n",
       " \twith 4141 stored elements in Compressed Sparse Row format>,\n",
       " <92x1515 sparse matrix of type '<class 'numpy.float64'>'\n",
       " \twith 1246 stored elements in Compressed Sparse Row format>)"
      ]
     },
     "execution_count": 62,
     "metadata": {},
     "output_type": "execute_result"
    }
   ],
   "source": [
    "X_train_vec,X_test_vec"
   ]
  },
  {
   "cell_type": "code",
   "execution_count": 63,
   "id": "LHRnkJJ5l6Ih",
   "metadata": {
    "colab": {
     "base_uri": "https://localhost:8080/"
    },
    "id": "LHRnkJJ5l6Ih",
    "outputId": "af4bf072-b8ff-4618-aae6-37880ed80fe7"
   },
   "outputs": [
    {
     "data": {
      "text/plain": [
       "((213, 1515), (92, 1515))"
      ]
     },
     "execution_count": 63,
     "metadata": {},
     "output_type": "execute_result"
    }
   ],
   "source": [
    "X_train_vec.shape,X_test_vec.shape"
   ]
  },
  {
   "cell_type": "code",
   "execution_count": 64,
   "id": "fV-72REBkcRX",
   "metadata": {
    "colab": {
     "base_uri": "https://localhost:8080/"
    },
    "id": "fV-72REBkcRX",
    "outputId": "b66005e7-0c44-40a2-c10c-643f879281ac"
   },
   "outputs": [
    {
     "name": "stdout",
     "output_type": "stream",
     "text": [
      "X train max value: 0.8484267296393951\n",
      "X test max value: 0.867740918959493\n",
      "X train min value: 0.0\n",
      "X test min value: 0.0\n"
     ]
    }
   ],
   "source": [
    "print(f\"X train max value: {X_train_vec.max()}\")\n",
    "print(f\"X test max value: {X_test_vec.max()}\")\n",
    "print(f\"X train min value: {X_train_vec.min()}\")\n",
    "print(f\"X test min value: {X_test_vec.min()}\")"
   ]
  },
  {
   "cell_type": "code",
   "execution_count": 65,
   "id": "lh8oT33r6K_k",
   "metadata": {
    "colab": {
     "base_uri": "https://localhost:8080/"
    },
    "id": "lh8oT33r6K_k",
    "outputId": "668ef71c-0d8b-48d5-b116-dea137b5a0b9"
   },
   "outputs": [
    {
     "data": {
      "text/plain": [
       "(array([2, 2, 2, 2, 2, 2, 2, 2, 2, 2, 2, 2, 1, 2, 2, 2, 2, 2, 2, 2, 0, 2,\n",
       "        2, 2, 2, 0, 2, 2, 2, 2, 2, 0, 2, 0, 2, 2, 2, 2, 2, 2, 2, 2, 0, 2,\n",
       "        2, 2, 2, 0, 0, 0, 2, 2, 2, 2, 2, 2, 2, 2, 1, 2, 2, 2, 2, 2, 2, 2,\n",
       "        2, 2, 2, 2, 2, 2, 2, 2, 2, 2, 2, 2, 2, 2, 2, 2, 2, 2, 2, 2, 2, 2,\n",
       "        2, 2, 2, 0, 2, 2, 2, 1, 1, 2, 1, 2, 2, 2, 2, 2, 2, 2, 2, 2, 2, 0,\n",
       "        2, 1, 2, 2, 2, 2, 2, 2, 2, 2, 1, 2, 2, 2, 2, 0, 2, 2, 1, 2, 2, 1,\n",
       "        2, 2, 2, 0, 2, 2, 2, 1, 2, 2, 2, 2, 2, 2, 0, 1, 2, 2, 2, 2, 1, 2,\n",
       "        0, 2, 2, 2, 2, 2, 2, 2, 0, 2, 2, 2, 2, 2, 2, 2, 2, 1, 2, 2, 1, 2,\n",
       "        2, 2, 2, 0, 2, 0, 2, 2, 2, 2, 2, 0, 2, 2, 2, 2, 2, 2, 2, 2, 1, 2,\n",
       "        2, 2, 2, 2, 2, 2, 2, 2, 0, 2, 2, 2, 2, 1, 2]),\n",
       " array([2, 2, 2, 2, 2, 2, 2, 2, 2, 2, 2, 2, 2, 2, 2, 2, 2, 2, 2, 2, 2, 1,\n",
       "        2, 2, 2, 2, 2, 2, 2, 2, 2, 0, 2, 2, 2, 0, 2, 2, 2, 2, 2, 2, 2, 2,\n",
       "        2, 0, 0, 2, 0, 2, 2, 2, 2, 2, 0, 2, 2, 2, 0, 2, 2, 0, 2, 2, 2, 2,\n",
       "        2, 2, 2, 2, 2, 2, 2, 2, 1, 2, 2, 2, 2, 2, 2, 2, 2, 2, 2, 2, 2, 2,\n",
       "        2, 2, 2, 2]))"
      ]
     },
     "execution_count": 65,
     "metadata": {},
     "output_type": "execute_result"
    }
   ],
   "source": [
    "from sklearn.preprocessing import LabelEncoder\n",
    "le = LabelEncoder()\n",
    "y_train = le.fit_transform(y_train)\n",
    "y_test = le.fit_transform(y_test)\n",
    "y_train, y_test\n",
    "# where -1 => 0\n",
    "    # 0 => 1\n",
    "    # 1 => 2"
   ]
  },
  {
   "cell_type": "code",
   "execution_count": 66,
   "id": "nA89o93EAtbM",
   "metadata": {
    "colab": {
     "base_uri": "https://localhost:8080/"
    },
    "id": "nA89o93EAtbM",
    "outputId": "778793ef-b0bd-40c4-82fd-971c3064440d"
   },
   "outputs": [
    {
     "data": {
      "text/plain": [
       "(dtype('int32'), dtype('int32'))"
      ]
     },
     "execution_count": 66,
     "metadata": {},
     "output_type": "execute_result"
    }
   ],
   "source": [
    "y_train.dtype,y_test.dtype"
   ]
  },
  {
   "cell_type": "code",
   "execution_count": 67,
   "id": "Ah3FHZjq_30J",
   "metadata": {
    "id": "Ah3FHZjq_30J"
   },
   "outputs": [],
   "source": [
    "from sklearn.metrics import classification_report, accuracy_score\n",
    "from sklearn.model_selection import GridSearchCV"
   ]
  },
  {
   "cell_type": "markdown",
   "id": "Vii-06eW_yqq",
   "metadata": {
    "id": "Vii-06eW_yqq"
   },
   "source": [
    "## 1. Logistic Regression"
   ]
  },
  {
   "cell_type": "code",
   "execution_count": 68,
   "id": "DO-cYaQv_aS2",
   "metadata": {
    "id": "DO-cYaQv_aS2"
   },
   "outputs": [],
   "source": [
    "from sklearn.linear_model import LogisticRegression"
   ]
  },
  {
   "cell_type": "markdown",
   "id": "5PZe_FXZAlxb",
   "metadata": {
    "id": "5PZe_FXZAlxb"
   },
   "source": [
    "### Train a logistic regression model"
   ]
  },
  {
   "cell_type": "code",
   "execution_count": 69,
   "id": "QXRVEwvuAig_",
   "metadata": {
    "id": "QXRVEwvuAig_"
   },
   "outputs": [],
   "source": [
    "log_reg = LogisticRegression(max_iter = 1000)\n",
    "# apply the model\n",
    "\n",
    "log_reg.fit(X_train_vec, y_train)\n",
    "# fit the model on training and testing data\n",
    "\n",
    "y_pred_log_reg = log_reg.predict(X_test_vec)\n",
    "# prediction on testing data\n",
    "\n",
    "log_reg_acc = accuracy_score(y_test, y_pred_log_reg)\n",
    "# finding the accuracy score\n",
    "\n",
    "log_reg_report = classification_report(y_test, y_pred_log_reg)\n",
    "# state the classification report"
   ]
  },
  {
   "cell_type": "code",
   "execution_count": 70,
   "id": "_KGmDKo2IZme",
   "metadata": {
    "colab": {
     "base_uri": "https://localhost:8080/"
    },
    "id": "_KGmDKo2IZme",
    "outputId": "bc454709-f626-4564-9ae0-ec554e2bf2f8"
   },
   "outputs": [
    {
     "name": "stdout",
     "output_type": "stream",
     "text": [
      "Accuracy: 0.8913043478260869\n",
      "Classification Report:\n",
      "               precision    recall  f1-score   support\n",
      "\n",
      "           0       0.00      0.00      0.00         8\n",
      "           1       0.00      0.00      0.00         2\n",
      "           2       0.89      1.00      0.94        82\n",
      "\n",
      "    accuracy                           0.89        92\n",
      "   macro avg       0.30      0.33      0.31        92\n",
      "weighted avg       0.79      0.89      0.84        92\n",
      "\n"
     ]
    }
   ],
   "source": [
    "y_pred_log_reg\n",
    "print(f\"Accuracy: {log_reg_acc}\")\n",
    "print(\"Classification Report:\\n\", log_reg_report)"
   ]
  },
  {
   "cell_type": "markdown",
   "id": "68eZ2nA4MusY",
   "metadata": {
    "id": "68eZ2nA4MusY"
   },
   "source": [
    "### Hyperparameter Tuning"
   ]
  },
  {
   "cell_type": "code",
   "execution_count": 71,
   "id": "V4XQRcNyMzIX",
   "metadata": {
    "id": "V4XQRcNyMzIX"
   },
   "outputs": [],
   "source": [
    "# Define hyperparameter grid\n",
    "lr_param_grid = {\n",
    "    'C' : [0.001, 0.01, 0.1, 1, 10],\n",
    "    'penalty' : ['l1', 'l2'],\n",
    "    'solver': ['lbfgs','newton-cg','liblinear'],\n",
    "    'random_state': [42],\n",
    "    'max_iter' : [1000]\n",
    "}"
   ]
  },
  {
   "cell_type": "code",
   "execution_count": 72,
   "id": "CiEuYH4fN_2n",
   "metadata": {
    "colab": {
     "base_uri": "https://localhost:8080/"
    },
    "id": "CiEuYH4fN_2n",
    "outputId": "c4a3c2db-3c45-4641-96c6-86cdc7188fd7"
   },
   "outputs": [
    {
     "name": "stdout",
     "output_type": "stream",
     "text": [
      "Best Logistic Regression Model: LogisticRegression(C=10, max_iter=1000, penalty='l1', random_state=42,\n",
      "                   solver='liblinear')\n",
      "Best Logistic Regression Parameters: {'C': 10, 'max_iter': 1000, 'penalty': 'l1', 'random_state': 42, 'solver': 'liblinear'}\n"
     ]
    }
   ],
   "source": [
    "# Create GridSearchCV Object\n",
    "lr_grid_search = GridSearchCV(log_reg, lr_param_grid, cv = 5, scoring = 'accuracy')\n",
    "\n",
    "# Fit the grid search\n",
    "lr_grid_search.fit(X_train_vec, y_train)\n",
    "\n",
    "# Get the best model and parameters\n",
    "best_log_reg = lr_grid_search.best_estimator_\n",
    "best_params_log_reg = lr_grid_search.best_params_\n",
    "\n",
    "# Print the best model and parameters\n",
    "print(\"Best Logistic Regression Model:\", best_log_reg)\n",
    "print(\"Best Logistic Regression Parameters:\", best_params_log_reg)\n"
   ]
  },
  {
   "cell_type": "code",
   "execution_count": 73,
   "id": "U7340_4LX5R8",
   "metadata": {
    "colab": {
     "base_uri": "https://localhost:8080/"
    },
    "id": "U7340_4LX5R8",
    "outputId": "2e242728-44be-4ee5-e819-47773693b335"
   },
   "outputs": [
    {
     "name": "stdout",
     "output_type": "stream",
     "text": [
      "C: 10\n",
      "class_weight: None\n",
      "dual: False\n",
      "fit_intercept: True\n",
      "intercept_scaling: 1\n",
      "l1_ratio: None\n",
      "max_iter: 1000\n",
      "multi_class: auto\n",
      "n_jobs: None\n",
      "penalty: l1\n",
      "random_state: 42\n",
      "solver: liblinear\n",
      "tol: 0.0001\n",
      "verbose: 0\n",
      "warm_start: False\n"
     ]
    }
   ],
   "source": [
    "params = best_log_reg.get_params()\n",
    "\n",
    "# Print the parameters\n",
    "for param, value in params.items():\n",
    "    print(f\"{param}: {value}\")"
   ]
  },
  {
   "cell_type": "markdown",
   "id": "0XYrJCooSBnt",
   "metadata": {
    "id": "0XYrJCooSBnt"
   },
   "source": [
    "#### using the best logistic regression model with best parameters."
   ]
  },
  {
   "cell_type": "code",
   "execution_count": 74,
   "id": "VJ6V-_dHSGpR",
   "metadata": {
    "colab": {
     "base_uri": "https://localhost:8080/"
    },
    "id": "VJ6V-_dHSGpR",
    "outputId": "ecbe53b0-7bb4-4b4b-860f-f2f03d407ba4"
   },
   "outputs": [
    {
     "name": "stdout",
     "output_type": "stream",
     "text": [
      "Accuracy: 0.8695652173913043\n",
      "Classification Report:\n",
      "               precision    recall  f1-score   support\n",
      "\n",
      "           0       0.25      0.12      0.17         8\n",
      "           1       0.00      0.00      0.00         2\n",
      "           2       0.92      0.96      0.94        82\n",
      "\n",
      "    accuracy                           0.87        92\n",
      "   macro avg       0.39      0.36      0.37        92\n",
      "weighted avg       0.84      0.87      0.85        92\n",
      "\n"
     ]
    }
   ],
   "source": [
    "best_log_reg.fit(X_train_vec, y_train)\n",
    "# fit the model on training and testing data\n",
    "\n",
    "y_pred_best_log_reg = best_log_reg.predict(X_test_vec)\n",
    "# prediction on testing data\n",
    "\n",
    "best_log_reg_acc = accuracy_score(y_test, y_pred_best_log_reg)\n",
    "# finding the accuracy score\n",
    "\n",
    "best_log_reg_report = classification_report(y_test, y_pred_best_log_reg)\n",
    "# state the classification report\n",
    "\n",
    "y_pred_best_log_reg\n",
    "print(f\"Accuracy: {best_log_reg_acc}\")\n",
    "print(\"Classification Report:\\n\", best_log_reg_report)"
   ]
  },
  {
   "cell_type": "markdown",
   "id": "YdpaVY-3Gn3d",
   "metadata": {
    "id": "YdpaVY-3Gn3d"
   },
   "source": [
    "## 2. Support Vector Machine (SVM)"
   ]
  },
  {
   "cell_type": "code",
   "execution_count": 75,
   "id": "yFyEGyNjGvuo",
   "metadata": {
    "id": "yFyEGyNjGvuo"
   },
   "outputs": [],
   "source": [
    "from sklearn.svm import SVC"
   ]
  },
  {
   "cell_type": "markdown",
   "id": "urXy0DIWGoQk",
   "metadata": {
    "id": "urXy0DIWGoQk"
   },
   "source": [
    "### Train an SVM model"
   ]
  },
  {
   "cell_type": "code",
   "execution_count": 76,
   "id": "1ZBbztXvF5st",
   "metadata": {
    "id": "1ZBbztXvF5st"
   },
   "outputs": [],
   "source": [
    "svm = SVC()\n",
    "# apply the model\n",
    "\n",
    "svm.fit(X_train_vec, y_train)\n",
    "# fit the model on training and testing data\n",
    "\n",
    "y_pred_svm = svm.predict(X_test_vec)\n",
    "# prediction on testing data\n",
    "\n",
    "svm_acc = accuracy_score(y_test, y_pred_svm)\n",
    "# finding the accuracy score\n",
    "\n",
    "svm_report = classification_report(y_test, y_pred_svm)\n",
    "# state the classification report"
   ]
  },
  {
   "cell_type": "code",
   "execution_count": 77,
   "id": "gWSD46GQIrL0",
   "metadata": {
    "colab": {
     "base_uri": "https://localhost:8080/"
    },
    "id": "gWSD46GQIrL0",
    "outputId": "055d8867-5312-474b-8041-42df2c4ca085"
   },
   "outputs": [
    {
     "name": "stdout",
     "output_type": "stream",
     "text": [
      "Accuracy: 0.8913043478260869\n",
      "Classification Report:\n",
      "               precision    recall  f1-score   support\n",
      "\n",
      "           0       0.00      0.00      0.00         8\n",
      "           1       0.00      0.00      0.00         2\n",
      "           2       0.89      1.00      0.94        82\n",
      "\n",
      "    accuracy                           0.89        92\n",
      "   macro avg       0.30      0.33      0.31        92\n",
      "weighted avg       0.79      0.89      0.84        92\n",
      "\n"
     ]
    }
   ],
   "source": [
    "y_pred_svm,\n",
    "print(f\"Accuracy: {svm_acc}\")\n",
    "print(\"Classification Report:\\n\", svm_report)"
   ]
  },
  {
   "cell_type": "markdown",
   "id": "hoY-l3IWUShT",
   "metadata": {
    "id": "hoY-l3IWUShT"
   },
   "source": [
    "### Hyperparameter Tuning"
   ]
  },
  {
   "cell_type": "code",
   "execution_count": 78,
   "id": "2s0opdqLUrUc",
   "metadata": {
    "id": "2s0opdqLUrUc"
   },
   "outputs": [],
   "source": [
    "# Define Hyperparameter Grid\n",
    "svm_param_grid = {\n",
    "    'kernel' :['rbf','linear','poly'],\n",
    "    'C': [0.001,0.01,0.1, 1, 10, 100],\n",
    "    'gamma':[0.001,0.01,0.1, 1, 10, 100],\n",
    "    'random_state': [42]\n",
    "}\n"
   ]
  },
  {
   "cell_type": "code",
   "execution_count": 79,
   "id": "aR0JO0nYVeyx",
   "metadata": {
    "colab": {
     "base_uri": "https://localhost:8080/"
    },
    "id": "aR0JO0nYVeyx",
    "outputId": "17a1edda-7603-497c-cbfd-0597c4cd065b"
   },
   "outputs": [
    {
     "name": "stdout",
     "output_type": "stream",
     "text": [
      "Best SVM Model: SVC(C=10, gamma=0.001, kernel='linear', random_state=42)\n",
      "BEst SVM Parameters: {'C': 10, 'gamma': 0.001, 'kernel': 'linear', 'random_state': 42}\n"
     ]
    }
   ],
   "source": [
    "# Create GridSearchCV object\n",
    "svm_grid_search = GridSearchCV(svm, svm_param_grid, cv=5, scoring='accuracy')\n",
    "\n",
    "# Fit the SVM Grid Search\n",
    "svm_grid_search.fit(X_train_vec, y_train)\n",
    "\n",
    "# Get the best model and parameters\n",
    "best_svm = svm_grid_search.best_estimator_\n",
    "best_params_svm = svm_grid_search.best_params_\n",
    "\n",
    "# Print the best SVM model and best parameters\n",
    "print(\"Best SVM Model:\", best_svm)\n",
    "print(\"BEst SVM Parameters:\", best_params_svm)"
   ]
  },
  {
   "cell_type": "code",
   "execution_count": 80,
   "id": "pWebZSrjXMeL",
   "metadata": {
    "colab": {
     "base_uri": "https://localhost:8080/"
    },
    "id": "pWebZSrjXMeL",
    "outputId": "3cd4e9bc-138a-4c63-87e1-0a3a4e05d492"
   },
   "outputs": [
    {
     "name": "stdout",
     "output_type": "stream",
     "text": [
      "C: 10\n",
      "break_ties: False\n",
      "cache_size: 200\n",
      "class_weight: None\n",
      "coef0: 0.0\n",
      "decision_function_shape: ovr\n",
      "degree: 3\n",
      "gamma: 0.001\n",
      "kernel: linear\n",
      "max_iter: -1\n",
      "probability: False\n",
      "random_state: 42\n",
      "shrinking: True\n",
      "tol: 0.001\n",
      "verbose: False\n"
     ]
    }
   ],
   "source": [
    "params = best_svm.get_params()\n",
    "\n",
    "# Print the parameters\n",
    "for param, value in params.items():\n",
    "    print(f\"{param}: {value}\")"
   ]
  },
  {
   "cell_type": "markdown",
   "id": "G9pBwXH3YDuH",
   "metadata": {
    "id": "G9pBwXH3YDuH"
   },
   "source": [
    "### using the best SVM model with best parameters"
   ]
  },
  {
   "cell_type": "code",
   "execution_count": 81,
   "id": "m_hZF_sLX_R_",
   "metadata": {
    "colab": {
     "base_uri": "https://localhost:8080/"
    },
    "id": "m_hZF_sLX_R_",
    "outputId": "7914a560-e36b-44e6-a6e9-8be184f430b2"
   },
   "outputs": [
    {
     "name": "stdout",
     "output_type": "stream",
     "text": [
      "Accuracy: 0.8913043478260869\n",
      "Classification Report:\n",
      "               precision    recall  f1-score   support\n",
      "\n",
      "           0       1.00      0.12      0.22         8\n",
      "           1       0.00      0.00      0.00         2\n",
      "           2       0.90      0.99      0.94        82\n",
      "\n",
      "    accuracy                           0.89        92\n",
      "   macro avg       0.63      0.37      0.39        92\n",
      "weighted avg       0.89      0.89      0.86        92\n",
      "\n"
     ]
    }
   ],
   "source": [
    "best_svm.fit(X_train_vec, y_train)\n",
    "# fit the model on training and testing data\n",
    "\n",
    "y_pred_best_svm = best_svm.predict(X_test_vec)\n",
    "# prediction on testing data\n",
    "\n",
    "best_svm_acc = accuracy_score(y_test, y_pred_best_svm)\n",
    "# finding the accuracy score\n",
    "\n",
    "best_svm_report = classification_report(y_test, y_pred_best_svm)\n",
    "# state the classification report\n",
    "\n",
    "y_pred_svm,\n",
    "print(f\"Accuracy: {best_svm_acc}\")\n",
    "print(\"Classification Report:\\n\", best_svm_report)"
   ]
  },
  {
   "cell_type": "markdown",
   "id": "mhE7X4YzHruo",
   "metadata": {
    "id": "mhE7X4YzHruo"
   },
   "source": [
    "## 3. Random Forest"
   ]
  },
  {
   "cell_type": "code",
   "execution_count": 82,
   "id": "RkAg8eQlHd9j",
   "metadata": {
    "id": "RkAg8eQlHd9j"
   },
   "outputs": [],
   "source": [
    "from sklearn.ensemble import RandomForestClassifier"
   ]
  },
  {
   "cell_type": "markdown",
   "id": "zEvdCbtU76X-",
   "metadata": {
    "id": "zEvdCbtU76X-"
   },
   "source": [
    "### Train a Random Forest Model"
   ]
  },
  {
   "cell_type": "code",
   "execution_count": 83,
   "id": "YtoKtJv9H38V",
   "metadata": {
    "id": "YtoKtJv9H38V"
   },
   "outputs": [],
   "source": [
    "rf = RandomForestClassifier(random_state = 42)\n",
    "# apply the model\n",
    "\n",
    "rf.fit(X_train_vec, y_train)\n",
    "# fit the model on training and testing data\n",
    "y_pred_rf = rf.predict(X_test_vec)\n",
    "# prediction on testing data\n",
    "\n",
    "rf_acc = accuracy_score(y_test, y_pred_rf)\n",
    "# finding the accuracy score\n",
    "\n",
    "rf_report = classification_report(y_test, y_pred_rf)\n",
    "# state the classification report"
   ]
  },
  {
   "cell_type": "code",
   "execution_count": 84,
   "id": "o4TY-N679P1O",
   "metadata": {
    "colab": {
     "base_uri": "https://localhost:8080/"
    },
    "id": "o4TY-N679P1O",
    "outputId": "8e1b6e48-e4c9-4683-e6dc-ab425d2d27db"
   },
   "outputs": [
    {
     "name": "stdout",
     "output_type": "stream",
     "text": [
      "Accuracy: 0.8913043478260869\n",
      "Classification Report:\n",
      "               precision    recall  f1-score   support\n",
      "\n",
      "           0       0.00      0.00      0.00         8\n",
      "           1       0.00      0.00      0.00         2\n",
      "           2       0.89      1.00      0.94        82\n",
      "\n",
      "    accuracy                           0.89        92\n",
      "   macro avg       0.30      0.33      0.31        92\n",
      "weighted avg       0.79      0.89      0.84        92\n",
      "\n"
     ]
    }
   ],
   "source": [
    "y_pred_rf,\n",
    "print(f\"Accuracy: {rf_acc}\")\n",
    "print(\"Classification Report:\\n\", rf_report)"
   ]
  },
  {
   "cell_type": "markdown",
   "id": "1ne23ai0zNqc",
   "metadata": {
    "id": "1ne23ai0zNqc"
   },
   "source": [
    "### Hyperparameter Tuning"
   ]
  },
  {
   "cell_type": "code",
   "execution_count": 85,
   "id": "GXT_A2VjzT3_",
   "metadata": {
    "id": "GXT_A2VjzT3_"
   },
   "outputs": [],
   "source": [
    "# Define Hyperparameter Grid\n",
    "rf_param_grid = {\n",
    "    'n_estimators': [100, 200, 300, 400, 500],\n",
    "    'max_features': ['auto', 'sqrt', 'log2'],\n",
    "    'max_depth': [10, 20, 30, 40, 50, None],\n",
    "    'min_samples_split': [2, 5, 10],\n",
    "    'min_samples_leaf': [1, 2, 4],\n",
    "    'bootstrap': [True, False]\n",
    "}"
   ]
  },
  {
   "cell_type": "code",
   "execution_count": 86,
   "id": "T6ZdT58ezTtx",
   "metadata": {
    "colab": {
     "base_uri": "https://localhost:8080/"
    },
    "id": "T6ZdT58ezTtx",
    "outputId": "b0e004c0-a8bd-45fc-b5d7-ea04fa648551"
   },
   "outputs": [
    {
     "name": "stdout",
     "output_type": "stream",
     "text": [
      "Best Random Forest Model: RandomForestClassifier(bootstrap=False, max_depth=50, min_samples_split=10,\n",
      "                       n_estimators=200, random_state=42)\n",
      "Best Random Forest Parameters: {'n_estimators': 200, 'min_samples_split': 10, 'min_samples_leaf': 1, 'max_features': 'sqrt', 'max_depth': 50, 'bootstrap': False}\n"
     ]
    }
   ],
   "source": [
    "from sklearn.model_selection import RandomizedSearchCV\n",
    "\n",
    "# Create Randomized SearchCV object\n",
    "rf_random_search = RandomizedSearchCV(rf, rf_param_grid, n_iter=100, cv=5, scoring='accuracy', random_state=42, n_jobs=-1)\n",
    "\n",
    "# Fit the random search\n",
    "rf_random_search.fit(X_train_vec, y_train)\n",
    "\n",
    "# Get the best model and parameters\n",
    "best_rf = rf_random_search.best_estimator_\n",
    "best_params_rf = rf_random_search.best_params_\n",
    "\n",
    "# Print the best model and best parameters\n",
    "print('Best Random Forest Model:', best_rf)\n",
    "print('Best Random Forest Parameters:', best_params_rf)"
   ]
  },
  {
   "cell_type": "code",
   "execution_count": 87,
   "id": "qxHhUb0TzTgG",
   "metadata": {
    "colab": {
     "base_uri": "https://localhost:8080/"
    },
    "id": "qxHhUb0TzTgG",
    "outputId": "5fba78d3-4528-4035-ed88-b7886a69b369"
   },
   "outputs": [
    {
     "name": "stdout",
     "output_type": "stream",
     "text": [
      "bootstrap: False\n",
      "ccp_alpha: 0.0\n",
      "class_weight: None\n",
      "criterion: gini\n",
      "max_depth: 50\n",
      "max_features: sqrt\n",
      "max_leaf_nodes: None\n",
      "max_samples: None\n",
      "min_impurity_decrease: 0.0\n",
      "min_samples_leaf: 1\n",
      "min_samples_split: 10\n",
      "min_weight_fraction_leaf: 0.0\n",
      "n_estimators: 200\n",
      "n_jobs: None\n",
      "oob_score: False\n",
      "random_state: 42\n",
      "verbose: 0\n",
      "warm_start: False\n"
     ]
    }
   ],
   "source": [
    "params = best_rf.get_params()\n",
    "\n",
    "# Print the parameters\n",
    "for param, value in params.items():\n",
    "    print(f\"{param}: {value}\")"
   ]
  },
  {
   "cell_type": "markdown",
   "id": "X72PLUSMzUgG",
   "metadata": {
    "id": "X72PLUSMzUgG"
   },
   "source": [
    "### using the Best Random Forest model with best parameters."
   ]
  },
  {
   "cell_type": "code",
   "execution_count": 88,
   "id": "S9awnzJwzVRA",
   "metadata": {
    "colab": {
     "base_uri": "https://localhost:8080/"
    },
    "id": "S9awnzJwzVRA",
    "outputId": "7545721c-9705-4d4d-e1bf-92c6db5d5efb"
   },
   "outputs": [
    {
     "name": "stdout",
     "output_type": "stream",
     "text": [
      "Accuracy: 0.8913043478260869\n",
      "Classification Report:\n",
      "               precision    recall  f1-score   support\n",
      "\n",
      "           0       0.00      0.00      0.00         8\n",
      "           1       0.00      0.00      0.00         2\n",
      "           2       0.89      1.00      0.94        82\n",
      "\n",
      "    accuracy                           0.89        92\n",
      "   macro avg       0.30      0.33      0.31        92\n",
      "weighted avg       0.79      0.89      0.84        92\n",
      "\n"
     ]
    }
   ],
   "source": [
    "best_rf.fit(X_train_vec, y_train)\n",
    "# fit the model on training and testing data\n",
    "y_pred_best_rf = best_rf.predict(X_test_vec)\n",
    "# prediction on testing data\n",
    "\n",
    "best_rf_acc = accuracy_score(y_test, y_pred_best_rf)\n",
    "# finding the accuracy score\n",
    "\n",
    "best_rf_report = classification_report(y_test, y_pred_best_rf)\n",
    "# state the classification report\n",
    "\n",
    "y_pred_best_rf,\n",
    "print(f\"Accuracy: {best_rf_acc}\")\n",
    "print(\"Classification Report:\\n\", best_rf_report)"
   ]
  },
  {
   "cell_type": "markdown",
   "id": "Sale8eBm88Wm",
   "metadata": {
    "id": "Sale8eBm88Wm"
   },
   "source": [
    "## 4. Naive Bayes"
   ]
  },
  {
   "cell_type": "code",
   "execution_count": 89,
   "id": "J8r-Rajn8_mU",
   "metadata": {
    "id": "J8r-Rajn8_mU"
   },
   "outputs": [],
   "source": [
    "from sklearn.naive_bayes import MultinomialNB"
   ]
  },
  {
   "cell_type": "markdown",
   "id": "FAuedNiT9Ico",
   "metadata": {
    "id": "FAuedNiT9Ico"
   },
   "source": [
    "### Train a Naive Bayes Model"
   ]
  },
  {
   "cell_type": "code",
   "execution_count": 90,
   "id": "D9R5jFAy9X64",
   "metadata": {
    "id": "D9R5jFAy9X64"
   },
   "outputs": [],
   "source": [
    "nb = MultinomialNB()\n",
    "# apply the model\n",
    "\n",
    "nb.fit(X_train_vec,y_train)\n",
    "# fit the model on training and testing data\n",
    "\n",
    "y_pred_nb = nb.predict(X_test_vec)\n",
    "# prediction on testing data\n",
    "\n",
    "nb_acc = accuracy_score(y_test, y_pred_nb)\n",
    "# finding the accuracy score\n",
    "\n",
    "nb_report = classification_report(y_test, y_pred_nb)\n",
    "# state the classification report"
   ]
  },
  {
   "cell_type": "code",
   "execution_count": 91,
   "id": "-WLNPvhT-Vcl",
   "metadata": {
    "colab": {
     "base_uri": "https://localhost:8080/"
    },
    "id": "-WLNPvhT-Vcl",
    "outputId": "5674355e-852e-405f-fe3e-d2dd1a6e60a0"
   },
   "outputs": [
    {
     "name": "stdout",
     "output_type": "stream",
     "text": [
      "Accuracy: 0.8913043478260869\n",
      "Classification Report:\n",
      "               precision    recall  f1-score   support\n",
      "\n",
      "           0       0.00      0.00      0.00         8\n",
      "           1       0.00      0.00      0.00         2\n",
      "           2       0.89      1.00      0.94        82\n",
      "\n",
      "    accuracy                           0.89        92\n",
      "   macro avg       0.30      0.33      0.31        92\n",
      "weighted avg       0.79      0.89      0.84        92\n",
      "\n"
     ]
    }
   ],
   "source": [
    "y_pred_nb,\n",
    "print(f\"Accuracy: {nb_acc}\")\n",
    "print(\"Classification Report:\\n\", nb_report)"
   ]
  },
  {
   "cell_type": "markdown",
   "id": "2hoK_1q4-II1",
   "metadata": {
    "id": "2hoK_1q4-II1"
   },
   "source": [
    "### Hyperparameter Tuning"
   ]
  },
  {
   "cell_type": "code",
   "execution_count": 92,
   "id": "m786Afp6-Ksw",
   "metadata": {
    "id": "m786Afp6-Ksw"
   },
   "outputs": [],
   "source": [
    "# Define hyperparameter grid\n",
    "nb_param_grid = {\n",
    "    'alpha': [0.001, 0.1,1, 10]\n",
    "}"
   ]
  },
  {
   "cell_type": "code",
   "execution_count": 93,
   "id": "b3xC2EAnBVcn",
   "metadata": {
    "colab": {
     "base_uri": "https://localhost:8080/"
    },
    "id": "b3xC2EAnBVcn",
    "outputId": "69813b0e-d263-485b-f50b-dc1c949b1671"
   },
   "outputs": [
    {
     "name": "stdout",
     "output_type": "stream",
     "text": [
      "Best Naive Bayes model: MultinomialNB(alpha=0.001)\n",
      "Best Baive Bayes parameters: {'alpha': 0.001}\n"
     ]
    }
   ],
   "source": [
    "# Create GridSearchCV object\n",
    "nb_grid_search = GridSearchCV(nb, nb_param_grid, cv=5, scoring='accuracy')\n",
    "\n",
    "# Fit the grid Search\n",
    "nb_grid_search.fit(X_train_vec,y_train)\n",
    "\n",
    "# Get the best model and parameters\n",
    "best_nb = nb_grid_search.best_estimator_\n",
    "best_nb_params = nb_grid_search.best_params_\n",
    "\n",
    "# Print the best model with best parameters\n",
    "print('Best Naive Bayes model:', best_nb)\n",
    "print('Best Baive Bayes parameters:', best_nb_params)"
   ]
  },
  {
   "cell_type": "code",
   "execution_count": 94,
   "id": "6I7n5gUGCmBH",
   "metadata": {
    "colab": {
     "base_uri": "https://localhost:8080/"
    },
    "id": "6I7n5gUGCmBH",
    "outputId": "2e163b06-7a24-4e46-e282-6d7afaab51c1"
   },
   "outputs": [
    {
     "name": "stdout",
     "output_type": "stream",
     "text": [
      "alpha: 0.001\n",
      "class_prior: None\n",
      "fit_prior: True\n",
      "force_alpha: warn\n"
     ]
    }
   ],
   "source": [
    "params = best_nb.get_params()\n",
    "\n",
    "# Print the parameters\n",
    "for param, value in params.items():\n",
    "    print(f\"{param}: {value}\")"
   ]
  },
  {
   "cell_type": "markdown",
   "id": "SCmFIW-TCoh9",
   "metadata": {
    "id": "SCmFIW-TCoh9"
   },
   "source": [
    "### using the best Naive Bayes model with best parameters"
   ]
  },
  {
   "cell_type": "code",
   "execution_count": 95,
   "id": "fqNg-BDrCwIt",
   "metadata": {
    "colab": {
     "base_uri": "https://localhost:8080/"
    },
    "id": "fqNg-BDrCwIt",
    "outputId": "f6915771-41eb-4635-cd23-55955f0174dd"
   },
   "outputs": [
    {
     "name": "stdout",
     "output_type": "stream",
     "text": [
      "Accuracy: 0.9021739130434783\n",
      "Classification Report:\n",
      "               precision    recall  f1-score   support\n",
      "\n",
      "           0       1.00      0.12      0.22         8\n",
      "           1       0.00      0.00      0.00         2\n",
      "           2       0.90      1.00      0.95        82\n",
      "\n",
      "    accuracy                           0.90        92\n",
      "   macro avg       0.63      0.38      0.39        92\n",
      "weighted avg       0.89      0.90      0.86        92\n",
      "\n"
     ]
    }
   ],
   "source": [
    "\n",
    "best_nb.fit(X_train_vec,y_train)\n",
    "# fit the model on training and testing data\n",
    "\n",
    "y_pred_best_nb = best_nb.predict(X_test_vec)\n",
    "# prediction on testing data\n",
    "\n",
    "best_nb_acc = accuracy_score(y_test, y_pred_best_nb)\n",
    "# finding the accuracy score\n",
    "\n",
    "best_nb_report = classification_report(y_test, y_pred_best_nb)\n",
    "# state the classification report\n",
    "\n",
    "y_pred_best_nb,\n",
    "print(f\"Accuracy: {best_nb_acc}\")\n",
    "print(\"Classification Report:\\n\", best_nb_report)"
   ]
  },
  {
   "cell_type": "markdown",
   "id": "2HP42QZoTvu-",
   "metadata": {
    "id": "2HP42QZoTvu-"
   },
   "source": [
    "## 5. K-Nearest Neighbours (KNN)"
   ]
  },
  {
   "cell_type": "code",
   "execution_count": 96,
   "id": "911SQAoeTu8S",
   "metadata": {
    "id": "911SQAoeTu8S"
   },
   "outputs": [],
   "source": [
    "from sklearn.neighbors import KNeighborsClassifier"
   ]
  },
  {
   "cell_type": "markdown",
   "id": "I2pXmROYUA3D",
   "metadata": {
    "id": "I2pXmROYUA3D"
   },
   "source": [
    "### Train a KNN - Model"
   ]
  },
  {
   "cell_type": "code",
   "execution_count": 97,
   "id": "D8baktV8UExo",
   "metadata": {
    "id": "D8baktV8UExo"
   },
   "outputs": [],
   "source": [
    "knn = KNeighborsClassifier()\n",
    "# apply the model\n",
    "\n",
    "knn.fit(X_train_vec, y_train)\n",
    "# fit the model on training and testing data\n",
    "\n",
    "y_pred_knn = knn.predict(X_test_vec)\n",
    "# prediction on testing data\n",
    "\n",
    "knn_acc = accuracy_score(y_test, y_pred_knn)\n",
    "# finding the accuracy score\n",
    "\n",
    "knn_report = classification_report(y_test, y_pred_knn)\n",
    "# state the classification report"
   ]
  },
  {
   "cell_type": "code",
   "execution_count": 98,
   "id": "ZLTUqdVIUu08",
   "metadata": {
    "colab": {
     "base_uri": "https://localhost:8080/"
    },
    "id": "ZLTUqdVIUu08",
    "outputId": "ef781f80-69d5-4c0c-c47f-fd8960f401cd"
   },
   "outputs": [
    {
     "name": "stdout",
     "output_type": "stream",
     "text": [
      "Accuracy: 0.8695652173913043\n",
      "Classification Report:\n",
      "               precision    recall  f1-score   support\n",
      "\n",
      "           0       0.00      0.00      0.00         8\n",
      "           1       0.00      0.00      0.00         2\n",
      "           2       0.89      0.98      0.93        82\n",
      "\n",
      "    accuracy                           0.87        92\n",
      "   macro avg       0.30      0.33      0.31        92\n",
      "weighted avg       0.79      0.87      0.83        92\n",
      "\n"
     ]
    }
   ],
   "source": [
    "y_pred_knn,\n",
    "print(f\"Accuracy: {knn_acc}\")\n",
    "print(\"Classification Report:\\n\", knn_report)"
   ]
  },
  {
   "cell_type": "markdown",
   "id": "upskLKtFOHoJ",
   "metadata": {
    "id": "upskLKtFOHoJ"
   },
   "source": [
    "### Hyperparameter Tuning"
   ]
  },
  {
   "cell_type": "code",
   "execution_count": 99,
   "id": "W050MWJbOOXL",
   "metadata": {
    "id": "W050MWJbOOXL"
   },
   "outputs": [],
   "source": [
    "# Define hyperparameter grid\n",
    "knn_param_grid = {\n",
    "    'n_neighbors': [3,5,7,9],\n",
    "    'algorithm': ['auto','ball_tree','kd_tree']\n",
    "}"
   ]
  },
  {
   "cell_type": "code",
   "execution_count": 100,
   "id": "aTSQsEyzP0K2",
   "metadata": {
    "colab": {
     "base_uri": "https://localhost:8080/"
    },
    "id": "aTSQsEyzP0K2",
    "outputId": "06526eef-1a16-4175-887e-3b7a44cad396"
   },
   "outputs": [
    {
     "name": "stdout",
     "output_type": "stream",
     "text": [
      "Best KNN model: KNeighborsClassifier(n_neighbors=3)\n",
      "Best KNN Parameters: {'algorithm': 'auto', 'n_neighbors': 3}\n"
     ]
    }
   ],
   "source": [
    "# Create a GridSearchCV object\n",
    "knn_grid_search = GridSearchCV(knn, knn_param_grid, cv=5, scoring='accuracy')\n",
    "\n",
    "# Fit the grid search\n",
    "knn_grid_search.fit(X_train_vec,y_train)\n",
    "\n",
    "# Get the best model and parameters\n",
    "best_knn = knn_grid_search.best_estimator_\n",
    "best_params_knn = knn_grid_search.best_params_\n",
    "\n",
    "# Print the best KNN model with best parameters\n",
    "print('Best KNN model:', best_knn)\n",
    "print('Best KNN Parameters:', best_params_knn)"
   ]
  },
  {
   "cell_type": "code",
   "execution_count": 101,
   "id": "e7MMfsNORSi1",
   "metadata": {
    "colab": {
     "base_uri": "https://localhost:8080/"
    },
    "id": "e7MMfsNORSi1",
    "outputId": "fe133098-e4b6-41f3-8233-5fc2908d7998"
   },
   "outputs": [
    {
     "name": "stdout",
     "output_type": "stream",
     "text": [
      "algorithm: auto\n",
      "leaf_size: 30\n",
      "metric: minkowski\n",
      "metric_params: None\n",
      "n_jobs: None\n",
      "n_neighbors: 3\n",
      "p: 2\n",
      "weights: uniform\n"
     ]
    }
   ],
   "source": [
    "params = best_knn.get_params()\n",
    "\n",
    "# Print the parameters\n",
    "for param, value in params.items():\n",
    "    print(f\"{param}: {value}\")"
   ]
  },
  {
   "cell_type": "markdown",
   "id": "YH65AYivRakY",
   "metadata": {
    "id": "YH65AYivRakY"
   },
   "source": [
    "### using the best KNN model with best parameters"
   ]
  },
  {
   "cell_type": "code",
   "execution_count": 102,
   "id": "PiWqX6EqRnqn",
   "metadata": {
    "colab": {
     "base_uri": "https://localhost:8080/"
    },
    "id": "PiWqX6EqRnqn",
    "outputId": "ddbac54a-c88d-4909-aca7-18d597c9b1c9"
   },
   "outputs": [
    {
     "name": "stdout",
     "output_type": "stream",
     "text": [
      "Accuracy: 0.8695652173913043\n",
      "Classification Report:\n",
      "               precision    recall  f1-score   support\n",
      "\n",
      "           0       0.50      0.12      0.20         8\n",
      "           1       0.00      0.00      0.00         2\n",
      "           2       0.90      0.96      0.93        82\n",
      "\n",
      "    accuracy                           0.87        92\n",
      "   macro avg       0.47      0.36      0.38        92\n",
      "weighted avg       0.84      0.87      0.85        92\n",
      "\n"
     ]
    }
   ],
   "source": [
    "best_knn.fit(X_train_vec, y_train)\n",
    "# fit the model on training and testing data\n",
    "\n",
    "y_pred_best_knn = best_knn.predict(X_test_vec)\n",
    "# prediction on testing data\n",
    "\n",
    "best_knn_acc = accuracy_score(y_test, y_pred_best_knn)\n",
    "# finding the accuracy score\n",
    "\n",
    "best_knn_report = classification_report(y_test, y_pred_best_knn)\n",
    "# state the classification report\n",
    "\n",
    "y_pred_best_knn,\n",
    "print(f\"Accuracy: {best_knn_acc}\")\n",
    "print(\"Classification Report:\\n\", best_knn_report)"
   ]
  },
  {
   "cell_type": "markdown",
   "id": "VQf18G5NU11p",
   "metadata": {
    "id": "VQf18G5NU11p"
   },
   "source": [
    "## 6. Gradient Boosting (XGBoost)"
   ]
  },
  {
   "cell_type": "code",
   "execution_count": 103,
   "id": "6uijDDCBU8OZ",
   "metadata": {
    "id": "6uijDDCBU8OZ"
   },
   "outputs": [],
   "source": [
    "#from xgboost import XGBClassifier"
   ]
  },
  {
   "cell_type": "markdown",
   "id": "3Wf8aMooVEJv",
   "metadata": {
    "id": "3Wf8aMooVEJv"
   },
   "source": [
    "### Train an XGBoosting model"
   ]
  },
  {
   "cell_type": "code",
   "execution_count": 104,
   "id": "0O5MaGUUVIrz",
   "metadata": {
    "id": "0O5MaGUUVIrz"
   },
   "outputs": [],
   "source": [
    "#xgb = XGBClassifier()\n",
    "# apply the model\n",
    "\n",
    "#xgb.fit(X_train_vec, y_train)\n",
    "# fit the model on training and testing data\n",
    "\n",
    "#y_pred_xgb = xgb.predict(X_test_vec)\n",
    "# prediction on testing data\n",
    "\n",
    "#xgb_acc = accuracy_score(y_test,y_pred_xgb)\n",
    "# finding the accuracy\n",
    "\n",
    "#xgb_report = classification_report(y_test, y_pred_xgb)\n",
    "# state the classification report"
   ]
  },
  {
   "cell_type": "code",
   "execution_count": 105,
   "id": "l28LUOdaV9D-",
   "metadata": {
    "colab": {
     "base_uri": "https://localhost:8080/"
    },
    "id": "l28LUOdaV9D-",
    "outputId": "4cc18f90-e7ad-493f-ebca-25cd2ee23afc"
   },
   "outputs": [],
   "source": [
    "#y_pred_xgb,\n",
    "#print(f\"Accuracy: {xgb_acc}\")\n",
    "#print(\"Classification Report:\\n\", xgb_report)"
   ]
  },
  {
   "cell_type": "markdown",
   "id": "1iD_q-l2YA-e",
   "metadata": {
    "id": "1iD_q-l2YA-e"
   },
   "source": [
    "### Hyperparameter Tuning"
   ]
  },
  {
   "cell_type": "code",
   "execution_count": 106,
   "id": "4hODE8tyYDWj",
   "metadata": {
    "id": "4hODE8tyYDWj"
   },
   "outputs": [],
   "source": [
    "# Define hyperparameter grid\n",
    "#xgb_param_grid = {\n",
    "#    'n_estimators': [100, 200, 300, 400, 500],\n",
    "#    'learning_rate': [0.01, 0.05, 0.1, 0.2],\n",
    "#    'max_depth': [3,4,5,6,7,8,10],\n",
    "#    'min_child_weight': [1,3,5,7],\n",
    "#    'subsample': [0.6,0.7,0.8,0.9,1.0],\n",
    "#    'colsample_bytree': [0.6, 0.7, 0.8, 0.9, 1.0],\n",
    "#    'gamma':[0,0.1,0.2,0.3,0.4],\n",
    "#    'reg_alpha': [0,0.01,0.05,0.1],\n",
    "#    'reg_lambda': [1,1.5,2,3,4]\n",
    "#}"
   ]
  },
  {
   "cell_type": "code",
   "execution_count": 107,
   "id": "MIB80ZwYbJQR",
   "metadata": {
    "colab": {
     "base_uri": "https://localhost:8080/"
    },
    "id": "MIB80ZwYbJQR",
    "outputId": "31347556-0c61-4b61-822e-ceecca51c288"
   },
   "outputs": [],
   "source": [
    "##Create Grid SearchCV object\n",
    "#xgb_random_search = RandomizedSearchCV(xgb, xgb_param_grid, cv=5, scoring='accuracy', verbose=2)\n",
    "#\n",
    "## Fit the grid Search\n",
    "#xgb_random_search.fit(X_train_vec,y_train)\n",
    "#\n",
    "## Get the best model and parameters\n",
    "#best_xgb = xgb_random_search.best_estimator_\n",
    "#best_params_xgb = xgb_random_search.best_params_\n",
    "#\n",
    "## Print the best model and parameters\n",
    "#print('best XGBoost model:', best_xgb)\n",
    "#print('best XGBoost Parameters:', best_params_xgb)\n",
    "\n"
   ]
  },
  {
   "cell_type": "code",
   "execution_count": 108,
   "id": "07lRw4BCd4H9",
   "metadata": {
    "colab": {
     "base_uri": "https://localhost:8080/"
    },
    "id": "07lRw4BCd4H9",
    "outputId": "4270c760-58b3-43b4-c37a-0186a6b6c8e7"
   },
   "outputs": [],
   "source": [
    "#params = best_xgb.get_params()\n",
    "#\n",
    "## Print the parameters\n",
    "#for param, value in params.items():\n",
    "#    print(f\"{param}: {value}\")"
   ]
  },
  {
   "cell_type": "markdown",
   "id": "dRegspWhm2pa",
   "metadata": {
    "id": "dRegspWhm2pa"
   },
   "source": [
    "### using the best XGBoosting Model with the best hyperparameters"
   ]
  },
  {
   "cell_type": "code",
   "execution_count": 109,
   "id": "UZhK-3aFmwNS",
   "metadata": {
    "colab": {
     "base_uri": "https://localhost:8080/"
    },
    "id": "UZhK-3aFmwNS",
    "outputId": "ea65d057-d61a-418c-8e80-718978e13e3b"
   },
   "outputs": [],
   "source": [
    "#best_xgb.fit(X_train_vec, y_train)\n",
    "## fit the model on training and testing data\n",
    "#\n",
    "#y_pred_best_xgb = best_xgb.predict(X_test_vec)\n",
    "## prediction on testing data\n",
    "#\n",
    "#best_xgb_acc = accuracy_score(y_test,y_pred_best_xgb)\n",
    "## finding the accuracy\n",
    "#\n",
    "#best_xgb_report = classification_report(y_test, y_pred_best_xgb)\n",
    "## state the classification report\n",
    "#\n",
    "#y_pred_best_xgb,\n",
    "#print(f\"Accuracy: {best_xgb_acc}\")\n",
    "#print(\"Classification Report:\\n\", best_xgb_report)"
   ]
  },
  {
   "cell_type": "markdown",
   "id": "cF0l0SjvWJh5",
   "metadata": {
    "id": "cF0l0SjvWJh5"
   },
   "source": [
    "# Comparing Models\n",
    "### Finally, compiling the results for comparison:"
   ]
  },
  {
   "cell_type": "code",
   "execution_count": 110,
   "id": "jZBUvrTMWM-O",
   "metadata": {
    "colab": {
     "base_uri": "https://localhost:8080/"
    },
    "id": "jZBUvrTMWM-O",
    "outputId": "baf472fd-28bc-4033-9097-cd81fb66f291"
   },
   "outputs": [
    {
     "name": "stdout",
     "output_type": "stream",
     "text": [
      "                 Model  Accuracy  \\\n",
      "0  Logistic Regression  0.869565   \n",
      "1                  SVM  0.891304   \n",
      "2        Random Forest  0.891304   \n",
      "3          Naive Bayes  0.902174   \n",
      "4                  KNN  0.869565   \n",
      "\n",
      "                               Classification Report  \n",
      "0                precision    recall  f1-score   ...  \n",
      "1                precision    recall  f1-score   ...  \n",
      "2                precision    recall  f1-score   ...  \n",
      "3                precision    recall  f1-score   ...  \n",
      "4                precision    recall  f1-score   ...  \n"
     ]
    }
   ],
   "source": [
    "results = {\n",
    "    'Model': ['Logistic Regression', 'SVM','Random Forest','Naive Bayes','KNN'],\n",
    "    'Accuracy': [best_log_reg_acc, best_svm_acc, best_rf_acc, best_nb_acc, best_knn_acc],\n",
    "    'Classification Report': [best_log_reg_report, best_svm_report, best_rf_report, best_nb_report, best_knn_report]\n",
    "}\n",
    "\n",
    "results_df = pd.DataFrame(results)\n",
    "print(results_df)"
   ]
  },
  {
   "cell_type": "markdown",
   "id": "c7fd2f86",
   "metadata": {
    "id": "HmRy3bEvZbfB"
   },
   "source": [
    "# Save the model to pickel file"
   ]
  },
  {
   "cell_type": "code",
   "execution_count": 111,
   "id": "1aeafc91",
   "metadata": {},
   "outputs": [],
   "source": [
    "import pickle as pkl\n",
    "\n",
    "\n",
    "model_filename = 'Sentiment Analysis.pkl'\n",
    "vectorizer_filename ='vectorizer.pkl'\n",
    "\n",
    "with open(model_filename, 'wb') as model_file:\n",
    "    pkl.dump(best_nb, model_file)\n",
    "    \n",
    "with open(vectorizer_filename,'wb') as vectorizer_file:\n",
    "    pkl.dump(vectorizer,vectorizer_file)"
   ]
  },
  {
   "cell_type": "code",
   "execution_count": 112,
   "id": "3723c746",
   "metadata": {},
   "outputs": [],
   "source": [
    "filename = 'Sentiment Analysis.pkl'\n",
    "vectorizer_filename ='vectorizer.pkl'\n",
    "with open(model_filename, 'rb') as model_file:\n",
    "    loaded_model = pkl.load(model_file)\n",
    "with open(vectorizer_filename,'rb') as vectorizer_file:\n",
    "    vectorizer= pkl.load(vectorizer_file)\n",
    "\n",
    "# Assuming X_test_vec is your test data\n",
    "predictions = loaded_model.predict(X_test_vec)"
   ]
  },
  {
   "cell_type": "code",
   "execution_count": 113,
   "id": "ba1f24f3",
   "metadata": {},
   "outputs": [
    {
     "data": {
      "text/plain": [
       "array([2, 2, 2, 2, 2, 2, 2, 2, 2, 2, 2, 2, 2, 2, 2, 2, 2, 2, 2, 2, 2, 2,\n",
       "       2, 2, 2, 2, 2, 2, 2, 2, 2, 0, 2, 2, 2, 2, 2, 2, 2, 2, 2, 2, 2, 2,\n",
       "       2, 2, 2, 2, 2, 2, 2, 2, 2, 2, 2, 2, 2, 2, 2, 2, 2, 2, 2, 2, 2, 2,\n",
       "       2, 2, 2, 2, 2, 2, 2, 2, 2, 2, 2, 2, 2, 2, 2, 2, 2, 2, 2, 2, 2, 2,\n",
       "       2, 2, 2, 2])"
      ]
     },
     "execution_count": 113,
     "metadata": {},
     "output_type": "execute_result"
    }
   ],
   "source": [
    "predictions"
   ]
  },
  {
   "cell_type": "code",
   "execution_count": 114,
   "id": "d11e226f",
   "metadata": {},
   "outputs": [
    {
     "name": "stderr",
     "output_type": "stream",
     "text": [
      "2024-07-06 16:55:50.215 \n",
      "  \u001b[33m\u001b[1mWarning:\u001b[0m to view this Streamlit app on a browser, run it with the following\n",
      "  command:\n",
      "\n",
      "    streamlit run C:\\Users\\Admin\\anaconda3\\Lib\\site-packages\\ipykernel_launcher.py [ARGUMENTS]\n",
      "2024-07-06 16:55:50.219 Session state does not function when running a script without `streamlit run`\n"
     ]
    }
   ],
   "source": [
    "import numpy as np\n",
    "import pickle\n",
    "import pandas as pd\n",
    "import streamlit as st\n",
    "from sklearn.feature_extraction.text import TfidfVectorizer\n",
    "from sklearn.naive_bayes import MultinomialNB\n",
    "\n",
    "\n",
    "\n",
    "\n",
    "model_filename= 'Sentiment Analysis.pkl'\n",
    "vectorizer_filename ='vectorizer.pkl'\n",
    "\n",
    "with open(model_filename, 'rb') as model_file:\n",
    "    loaded_model = pkl.load(model_file)\n",
    "with open(vectorizer_filename,'rb') as vectorizer_file:\n",
    "    vectorizer= pkl.load(vectorizer_file)\n",
    "\n",
    "    \n",
    "st.title('Sentiment Analyser App')\n",
    "st.write('This app uses Logistic Regression Algorithm to analyze the sentiment of reviews')\n",
    "\n",
    "\n",
    "form = st.form(key='sentiment-form')\n",
    "user_input = form.text_area('Enter your text')\n",
    "\n",
    "submit = form.form_submit_button('Submit')\n",
    "\n",
    "if submit and user_input:\n",
    "\n",
    "    user_input = [user_input]\n",
    "\n",
    "    user_input_to_model = vectorizer.transform(user_input)\n",
    "\n",
    "    result = loaded_model.predict(user_input_to_model)[0]\n",
    "\n",
    "    if result == 0:\n",
    "        st.error('Negative Sentiment')\n",
    "    elif result == 1:\n",
    "        st.success('Neutral Sentiment')\n",
    "    elif result == 2 :\n",
    "        st.error('Positive Sentiment')"
   ]
  },
  {
   "cell_type": "code",
   "execution_count": null,
   "id": "3473a784",
   "metadata": {},
   "outputs": [],
   "source": []
  },
  {
   "cell_type": "code",
   "execution_count": null,
   "id": "597e1b22",
   "metadata": {},
   "outputs": [],
   "source": []
  }
 ],
 "metadata": {
  "colab": {
   "provenance": []
  },
  "kernelspec": {
   "display_name": "Python 3 (ipykernel)",
   "language": "python",
   "name": "python3"
  },
  "language_info": {
   "codemirror_mode": {
    "name": "ipython",
    "version": 3
   },
   "file_extension": ".py",
   "mimetype": "text/x-python",
   "name": "python",
   "nbconvert_exporter": "python",
   "pygments_lexer": "ipython3",
   "version": "3.11.7"
  }
 },
 "nbformat": 4,
 "nbformat_minor": 5
}
